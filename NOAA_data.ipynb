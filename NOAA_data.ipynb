{
  "nbformat": 4,
  "nbformat_minor": 0,
  "metadata": {
    "colab": {
      "provenance": [],
      "toc_visible": true,
      "authorship_tag": "ABX9TyOvk+tnjnbNmzmZw29apBbE",
      "include_colab_link": true
    },
    "kernelspec": {
      "name": "python3",
      "display_name": "Python 3"
    },
    "language_info": {
      "name": "python"
    }
  },
  "cells": [
    {
      "cell_type": "markdown",
      "metadata": {
        "id": "view-in-github",
        "colab_type": "text"
      },
      "source": [
        "<a href=\"https://colab.research.google.com/github/gpburdell/WJE_python/blob/main/NOAA_data.ipynb\" target=\"_parent\"><img src=\"https://colab.research.google.com/assets/colab-badge.svg\" alt=\"Open In Colab\"/></a>"
      ]
    },
    {
      "cell_type": "markdown",
      "source": [
        "# API Example: Pulling Data from the National Climatic Data Center\n"
      ],
      "metadata": {
        "id": "mw-Iqd_-A2fy"
      }
    },
    {
      "cell_type": "markdown",
      "source": [
        "# 1. Imports\n",
        "- requests: Python requests library is a user-friendly HTTP library used for making various types of HTTP requests to URLs via simple methods.\n",
        "- json: Python json library is a built-in module that allows for encoding and decoding JSON data. JSON, or JavaScript Object Notation, is a lightweight data-interchange format that is easy for humans to read and write, and easy for machines to parse and generate.\n"
      ],
      "metadata": {
        "id": "nbEM7RThC0Kd"
      }
    },
    {
      "cell_type": "code",
      "source": [
        "# import\n",
        "import requests\n",
        "import json\n",
        "import pandas as pd\n",
        "import matplotlib.pyplot as plt"
      ],
      "metadata": {
        "id": "2gsuohYSC0v_"
      },
      "execution_count": 1,
      "outputs": []
    },
    {
      "cell_type": "markdown",
      "source": [
        "# 2. Accessing the NCDC API\n",
        "- This step requires an API key. Obtain it from here:\n",
        "https://www.ncdc.noaa.gov/cdo-web/token"
      ],
      "metadata": {
        "id": "o1196hxYDZD1"
      }
    },
    {
      "cell_type": "code",
      "source": [
        "# Set up your API key and base URL\n",
        "from google.colab import userdata\n",
        "\n",
        "api_key = userdata.get('noaa')\n",
        "base_url = 'https://www.ncdc.noaa.gov/cdo-web/api/v2/'\n",
        "\n",
        "# Set headers with your API key\n",
        "headers = {\n",
        "    'token': api_key\n",
        "}"
      ],
      "metadata": {
        "id": "1PbYlfhOC91x"
      },
      "execution_count": 2,
      "outputs": []
    },
    {
      "cell_type": "markdown",
      "source": [
        "## 2.1 Setup the request to the API"
      ],
      "metadata": {
        "id": "-wH5HQYKEU2w"
      }
    },
    {
      "cell_type": "code",
      "source": [
        "# Specify the dataset, location, and data type\n",
        "endpoint = 'data'\n",
        "dataset_id = 'GHCND'  # Daily Summaries\n",
        "# Note you can use either stationid or location id. I found if I wanted Ohare\n",
        "# the recommendation was station_id.\n",
        "location_id = 'CITY:US170006'  # Chicago, IL\n",
        "station_id= 'GHCND:USW00094846'\n",
        "# NCDC has a number of data types we will also pull precipitation.\n",
        "data_type_id = 'TAVG'  # Average temperature\n",
        "\n",
        "start_date = '2023-07-01'\n",
        "end_date = '2024-05-10'\n"
      ],
      "metadata": {
        "id": "aehXJKzFDV0e"
      },
      "execution_count": 3,
      "outputs": []
    },
    {
      "cell_type": "markdown",
      "source": [
        "## 2.2 Access the API through the URL\n",
        "We will use an f-string, which effectively allows us to update the string with a variable when it is executed."
      ],
      "metadata": {
        "id": "hy7ipJmfEdZ3"
      }
    },
    {
      "cell_type": "code",
      "source": [
        "# Create the request URL\n",
        "#url = f\"{base_url}{endpoint}?datasetid={dataset_id}&locationid={location_id}&datatypeid={data_type_id}&startdate={start_date}&enddate={end_date}&limit=1000\"\n",
        "url = f\"{base_url}{endpoint}?datasetid={dataset_id}&stationid={station_id}&datatypeid={data_type_id}&startdate={start_date}&enddate={end_date}&limit=1000\"\n"
      ],
      "metadata": {
        "id": "3y1kqV1AD0OF"
      },
      "execution_count": 4,
      "outputs": []
    },
    {
      "cell_type": "code",
      "source": [
        "print(url)"
      ],
      "metadata": {
        "colab": {
          "base_uri": "https://localhost:8080/"
        },
        "id": "jYMgzHD4EEU3",
        "outputId": "8dec2374-f507-4564-abb6-446af0247b19"
      },
      "execution_count": 5,
      "outputs": [
        {
          "output_type": "stream",
          "name": "stdout",
          "text": [
            "https://www.ncdc.noaa.gov/cdo-web/api/v2/data?datasetid=GHCND&stationid=GHCND:USW00094846&datatypeid=TAVG&startdate=2023-07-01&enddate=2024-05-10&limit=1000\n"
          ]
        }
      ]
    },
    {
      "cell_type": "markdown",
      "source": [
        "## 2.3 Execute the API request"
      ],
      "metadata": {
        "id": "mZJ9fFW6E5Pj"
      }
    },
    {
      "cell_type": "code",
      "source": [
        "# Make the API request\n",
        "response = requests.get(url, headers=headers)\n",
        "\n",
        "# Check if the request was successful\n",
        "if response.status_code == 200:\n",
        "    # Load data into a JSON object\n",
        "    data = json.loads(response.text)\n",
        "    # Print the data\n",
        "    #print(json.dumps(data, indent=4))\n",
        "else:\n",
        "    print(\"Failed to retrieve data:\", response.status_code)\n"
      ],
      "metadata": {
        "id": "bjSJ1eE4EFzI"
      },
      "execution_count": 6,
      "outputs": []
    },
    {
      "cell_type": "markdown",
      "source": [
        "The text below is the raw output response in JSON form. JSON is a common and lightweight datastructure to transmit data on the web."
      ],
      "metadata": {
        "id": "_iCNEgguFALW"
      }
    },
    {
      "cell_type": "code",
      "source": [
        "response.text"
      ],
      "metadata": {
        "colab": {
          "base_uri": "https://localhost:8080/",
          "height": 268
        },
        "id": "YWVeWGHyEQ4b",
        "outputId": "4fc52bdd-606d-4767-bc13-08c336ecfcad"
      },
      "execution_count": 7,
      "outputs": [
        {
          "output_type": "execute_result",
          "data": {
            "text/plain": [
              "'{\"metadata\":{\"resultset\":{\"offset\":1,\"count\":315,\"limit\":1000}},\"results\":[{\"date\":\"2023-07-01T00:00:00\",\"datatype\":\"TAVG\",\"station\":\"GHCND:USW00094846\",\"attributes\":\"H,,S,\",\"value\":256},{\"date\":\"2023-07-02T00:00:00\",\"datatype\":\"TAVG\",\"station\":\"GHCND:USW00094846\",\"attributes\":\"H,,S,\",\"value\":217},{\"date\":\"2023-07-03T00:00:00\",\"datatype\":\"TAVG\",\"station\":\"GHCND:USW00094846\",\"attributes\":\"H,,S,\",\"value\":232},{\"date\":\"2023-07-04T00:00:00\",\"datatype\":\"TAVG\",\"station\":\"GHCND:USW00094846\",\"attributes\":\"H,,S,\",\"value\":267},{\"date\":\"2023-07-05T00:00:00\",\"datatype\":\"TAVG\",\"station\":\"GHCND:USW00094846\",\"attributes\":\"H,,S,\",\"value\":278},{\"date\":\"2023-07-06T00:00:00\",\"datatype\":\"TAVG\",\"station\":\"GHCND:USW00094846\",\"attributes\":\"H,,S,\",\"value\":233},{\"date\":\"2023-07-07T00:00:00\",\"datatype\":\"TAVG\",\"station\":\"GHCND:USW00094846\",\"attributes\":\"H,,S,\",\"value\":224},{\"date\":\"2023-07-08T00:00:00\",\"datatype\":\"TAVG\",\"station\":\"GHCND:USW00094846\",\"attributes\":\"H,,S,\",\"value\":207},{\"date\":\"2023-07-09T00:00:00\",\"datatype\":\"TAVG\",\"station\":\"GHCND:USW00094846\",\"attributes\":\"H,,S,\",\"value\":226},{\"date\":\"2023-07-10T00:00:00\",\"datatype\":\"TAVG\",\"station\":\"GHCND:USW00094846\",\"attributes\":\"H,,S,\",\"value\":248},{\"date\":\"2023-07-11T00:00:00\",\"datatype\":\"TAVG\",\"station\":\"GHCND:USW00094846\",\"attributes\":\"H,,S,\",\"value\":244},{\"date\":\"2023-07-12T00:00:00\",\"datatype\":\"TAVG\",\"station\":\"GHCND:USW00094846\",\"attributes\":\"H,,S,\",\"value\":203},{\"date\":\"2023-07-13T00:00:00\",\"datatype\":\"TAVG\",\"station\":\"GHCND:USW00094846\",\"attributes\":\"H,,S,\",\"value\":204},{\"date\":\"2023-07-14T00:00:00\",\"datatype\":\"TAVG\",\"station\":\"GHCND:USW00094846\",\"attributes\":\"H,,S,\",\"value\":252},{\"date\":\"2023-07-15T00:00:00\",\"datatype\":\"TAVG\",\"station\":\"GHCND:USW00094846\",\"attributes\":\"H,,S,\",\"value\":253},{\"date\":\"2023-07-16T00:00:00\",\"datatype\":\"TAVG\",\"station\":\"GHCND:USW00094846\",\"attributes\":\"H,,S,\",\"value\":238},{\"date\":\"2023-07-17T00:00:00\",\"datatype\":\"TAVG\",\"station\":\"GHCND:USW00094846\",\"attributes\":\"H,,S,\",\"value\":232},{\"date\":\"2023-07-18T00:00:00\",\"datatype\":\"TAVG\",\"station\":\"GHCND:USW00094846\",\"attributes\":\"H,,S,\",\"value\":223},{\"date\":\"2023-07-19T00:00:00\",\"datatype\":\"TAVG\",\"station\":\"GHCND:USW00094846\",\"attributes\":\"H,,S,\",\"value\":233},{\"date\":\"2023-07-20T00:00:00\",\"datatype\":\"TAVG\",\"station\":\"GHCND:USW00094846\",\"attributes\":\"H,,S,\",\"value\":260},{\"date\":\"2023-07-21T00:00:00\",\"datatype\":\"TAVG\",\"station\":\"GHCND:USW00094846\",\"attributes\":\"H,,S,\",\"value\":230},{\"date\":\"2023-07-22T00:00:00\",\"datatype\":\"TAVG\",\"station\":\"GHCND:USW00094846\",\"attributes\":\"H,,S,\",\"value\":236},{\"date\":\"2023-07-23T00:00:00\",\"datatype\":\"TAVG\",\"station\":\"GHCND:USW00094846\",\"attributes\":\"H,,S,\",\"value\":223},{\"date\":\"2023-07-24T00:00:00\",\"datatype\":\"TAVG\",\"station\":\"GHCND:USW00094846\",\"attributes\":\"H,,S,\",\"value\":256},{\"date\":\"2023-07-25T00:00:00\",\"datatype\":\"TAVG\",\"station\":\"GHCND:USW00094846\",\"attributes\":\"H,,S,\",\"value\":263},{\"date\":\"2023-07-26T00:00:00\",\"datatype\":\"TAVG\",\"station\":\"GHCND:USW00094846\",\"attributes\":\"H,,S,\",\"value\":273},{\"date\":\"2023-07-27T00:00:00\",\"datatype\":\"TAVG\",\"station\":\"GHCND:USW00094846\",\"attributes\":\"H,,S,\",\"value\":282},{\"date\":\"2023-07-28T00:00:00\",\"datatype\":\"TAVG\",\"station\":\"GHCND:USW00094846\",\"attributes\":\"H,,S,\",\"value\":287},{\"date\":\"2023-07-29T00:00:00\",\"datatype\":\"TAVG\",\"station\":\"GHCND:USW00094846\",\"attributes\":\"H,,S,\",\"value\":246},{\"date\":\"2023-07-30T00:00:00\",\"datatype\":\"TAVG\",\"station\":\"GHCND:USW00094846\",\"attributes\":\"H,,S,\",\"value\":233},{\"date\":\"2023-07-31T00:00:00\",\"datatype\":\"TAVG\",\"station\":\"GHCND:USW00094846\",\"attributes\":\"H,,S,\",\"value\":228},{\"date\":\"2023-08-01T00:00:00\",\"datatype\":\"TAVG\",\"station\":\"GHCND:USW00094846\",\"attributes\":\"H,,S,\",\"value\":245},{\"date\":\"2023-08-02T00:00:00\",\"datatype\":\"TAVG\",\"station\":\"GHCND:USW00094846\",\"attributes\":\"H,,S,\",\"value\":253},{\"date\":\"2023-08-03T00:00:00\",\"datatype\":\"TAVG\",\"station\":\"GHCND:USW00094846\",\"attributes\":\"H,,S,\",\"value\":254},{\"date\":\"2023-08-04T00:00:00\",\"datatype\":\"TAVG\",\"station\":\"GHCND:USW00094846\",\"attributes\":\"H,,S,\",\"value\":262},{\"date\":\"2023-08-05T00:00:00\",\"datatype\":\"TAVG\",\"station\":\"GHCND:USW00094846\",\"attributes\":\"H,,S,\",\"value\":232},{\"date\":\"2023-08-06T00:00:00\",\"datatype\":\"TAVG\",\"station\":\"GHCND:USW00094846\",\"attributes\":\"H,,S,\",\"value\":210},{\"date\":\"2023-08-07T00:00:00\",\"datatype\":\"TAVG\",\"station\":\"GHCND:USW00094846\",\"attributes\":\"H,,S,\",\"value\":222},{\"date\":\"2023-08-08T00:00:00\",\"datatype\":\"TAVG\",\"station\":\"GHCND:USW00094846\",\"attributes\":\"H,,S,\",\"value\":231},{\"date\":\"2023-08-09T00:00:00\",\"datatype\":\"TAVG\",\"station\":\"GHCND:USW00094846\",\"attributes\":\"H,,S,\",\"value\":228},{\"date\":\"2023-08-10T00:00:00\",\"datatype\":\"TAVG\",\"station\":\"GHCND:USW00094846\",\"attributes\":\"H,,S,\",\"value\":233},{\"date\":\"2023-08-11T00:00:00\",\"datatype\":\"TAVG\",\"station\":\"GHCND:USW00094846\",\"attributes\":\"H,,S,\",\"value\":249},{\"date\":\"2023-08-12T00:00:00\",\"datatype\":\"TAVG\",\"station\":\"GHCND:USW00094846\",\"attributes\":\"H,,S,\",\"value\":259},{\"date\":\"2023-08-13T00:00:00\",\"datatype\":\"TAVG\",\"station\":\"GHCND:USW00094846\",\"attributes\":\"H,,S,\",\"value\":239},{\"date\":\"2023-08-14T00:00:00\",\"datatype\":\"TAVG\",\"station\":\"GHCND:USW00094846\",\"attributes\":\"H,,S,\",\"value\":221},{\"date\":\"2023-08-15T00:00:00\",\"datatype\":\"TAVG\",\"station\":\"GHCND:USW00094846\",\"attributes\":\"H,,S,\",\"value\":201},{\"date\":\"2023-08-16T00:00:00\",\"datatype\":\"TAVG\",\"station\":\"GHCND:USW00094846\",\"attributes\":\"H,,S,\",\"value\":212},{\"date\":\"2023-08-17T00:00:00\",\"datatype\":\"TAVG\",\"station\":\"GHCND:USW00094846\",\"attributes\":\"H,,S,\",\"value\":229},{\"date\":\"2023-08-18T00:00:00\",\"datatype\":\"TAVG\",\"station\":\"GHCND:USW00094846\",\"attributes\":\"H,,S,\",\"value\":204},{\"date\":\"2023-08-19T00:00:00\",\"datatype\":\"TAVG\",\"station\":\"GHCND:USW00094846\",\"attributes\":\"H,,S,\",\"value\":221},{\"date\":\"2023-08-20T00:00:00\",\"datatype\":\"TAVG\",\"station\":\"GHCND:USW00094846\",\"attributes\":\"H,,S,\",\"value\":268},{\"date\":\"2023-08-21T00:00:00\",\"datatype\":\"TAVG\",\"station\":\"GHCND:USW00094846\",\"attributes\":\"H,,S,\",\"value\":243},{\"date\":\"2023-08-22T00:00:00\",\"datatype\":\"TAVG\",\"station\":\"GHCND:USW00094846\",\"attributes\":\"H,,S,\",\"value\":249},{\"date\":\"2023-08-23T00:00:00\",\"datatype\":\"TAVG\",\"station\":\"GHCND:USW00094846\",\"attributes\":\"H,,S,\",\"value\":299},{\"date\":\"2023-08-24T00:00:00\",\"datatype\":\"TAVG\",\"station\":\"GHCND:USW00094846\",\"attributes\":\"H,,S,\",\"value\":323},{\"date\":\"2023-08-25T00:00:00\",\"datatype\":\"TAVG\",\"station\":\"GHCND:USW00094846\",\"attributes\":\"H,,S,\",\"value\":258},{\"date\":\"2023-08-26T00:00:00\",\"datatype\":\"TAVG\",\"station\":\"GHCND:USW00094846\",\"attributes\":\"H,,S,\",\"value\":232},{\"date\":\"2023-08-27T00:00:00\",\"datatype\":\"TAVG\",\"station\":\"GHCND:USW00094846\",\"attributes\":\"H,,S,\",\"value\":206},{\"date\":\"2023-08-28T00:00:00\",\"datatype\":\"TAVG\",\"station\":\"GHCND:USW00094846\",\"attributes\":\"H,,S,\",\"value\":212},{\"date\":\"2023-08-29T00:00:00\",\"datatype\":\"TAVG\",\"station\":\"GHCND:USW00094846\",\"attributes\":\"H,,S,\",\"value\":229},{\"date\":\"2023-08-30T00:00:00\",\"datatype\":\"TAVG\",\"station\":\"GHCND:USW00094846\",\"attributes\":\"H,,S,\",\"value\":191},{\"date\":\"2023-08-31T00:00:00\",\"datatype\":\"TAVG\",\"station\":\"GHCND:USW00094846\",\"attributes\":\"H,,S,\",\"value\":186},{\"date\":\"2023-09-01T00:00:00\",\"datatype\":\"TAVG\",\"station\":\"GHCND:USW00094846\",\"attributes\":\"H,,S,\",\"value\":214},{\"date\":\"2023-09-02T00:00:00\",\"datatype\":\"TAVG\",\"station\":\"GHCND:USW00094846\",\"attributes\":\"H,,S,\",\"value\":243},{\"date\":\"2023-09-03T00:00:00\",\"datatype\":\"TAVG\",\"station\":\"GHCND:USW00094846\",\"attributes\":\"H,,S,\",\"value\":274},{\"date\":\"2023-09-04T00:00:00\",\"datatype\":\"TAVG\",\"station\":\"GHCND:USW00094846\",\"attributes\":\"H,,S,\",\"value\":282},{\"date\":\"2023-09-05T00:00:00\",\"datatype\":\"TAVG\",\"station\":\"GHCND:USW00094846\",\"attributes\":\"H,,S,\",\"value\":288},{\"date\":\"2023-09-06T00:00:00\",\"datatype\":\"TAVG\",\"station\":\"GHCND:USW00094846\",\"attributes\":\"H,,S,\",\"value\":251},{\"date\":\"2023-09-07T00:00:00\",\"datatype\":\"TAVG\",\"station\":\"GHCND:USW00094846\",\"attributes\":\"H,,S,\",\"value\":204},{\"date\":\"2023-09-08T00:00:00\",\"datatype\":\"TAVG\",\"station\":\"GHCND:USW00094846\",\"attributes\":\"H,,S,\",\"value\":183},{\"date\":\"2023-09-09T00:00:00\",\"datatype\":\"TAVG\",\"station\":\"GHCND:USW00094846\",\"attributes\":\"H,,S,\",\"value\":183},{\"date\":\"2023-09-10T00:00:00\",\"datatype\":\"TAVG\",\"station\":\"GHCND:USW00094846\",\"attributes\":\"H,,S,\",\"value\":193},{\"date\":\"2023-09-11T00:00:00\",\"datatype\":\"TAVG\",\"station\":\"GHCND:USW00094846\",\"attributes\":\"H,,S,\",\"value\":194},{\"date\":\"2023-09-12T00:00:00\",\"datatype\":\"TAVG\",\"station\":\"GHCND:USW00094846\",\"attributes\":\"H,,S,\",\"value\":173},{\"date\":\"2023-09-13T00:00:00\",\"datatype\":\"TAVG\",\"station\":\"GHCND:USW00094846\",\"attributes\":\"H,,S,\",\"value\":168},{\"date\":\"2023-09-14T00:00:00\",\"datatype\":\"TAVG\",\"station\":\"GHCND:USW00094846\",\"attributes\":\"H,,S,\",\"value\":172},{\"date\":\"2023-09-15T00:00:00\",\"datatype\":\"TAVG\",\"station\":\"GHCND:USW00094846\",\"attributes\":\"H,,S,\",\"value\":186},{\"date\":\"2023-09-16T00:00:00\",\"datatype\":\"TAVG\",\"station\":\"GHCND:USW00094846\",\"attributes\":\"H,,S,\",\"value\":189},{\"date\":\"2023-09-17T00:00:00\",\"datatype\":\"TAVG\",\"station\":\"GHCND:USW00094846\",\"attributes\":\"H,,S,\",\"value\":164},{\"date\":\"2023-09-18T00:00:00\",\"datatype\":\"TAVG\",\"station\":\"GHCND:USW00094846\",\"attributes\":\"H,,S,\",\"value\":163},{\"date\":\"2023-09-19T00:00:00\",\"datatype\":\"TAVG\",\"station\":\"GHCND:USW00094846\",\"attributes\":\"H,,S,\",\"value\":159},{\"date\":\"2023-09-20T00:00:00\",\"datatype\":\"TAVG\",\"station\":\"GHCND:USW00094846\",\"attributes\":\"H,,S,\",\"value\":211},{\"date\":\"2023-09-21T00:00:00\",\"datatype\":\"TAVG\",\"station\":\"GHCND:USW00094846\",\"attributes\":\"H,,S,\",\"value\":216},{\"date\":\"2023-09-22T00:00:00\",\"datatype\":\"TAVG\",\"station\":\"GHCND:USW00094846\",\"attributes\":\"H,,S,\",\"value\":217},{\"date\":\"2023-09-23T00:00:00\",\"datatype\":\"TAVG\",\"station\":\"GHCND:USW00094846\",\"attributes\":\"H,,S,\",\"value\":227},{\"date\":\"2023-09-24T00:00:00\",\"datatype\":\"TAVG\",\"station\":\"GHCND:USW00094846\",\"attributes\":\"H,,S,\",\"value\":203},{\"date\":\"2023-09-25T00:00:00\",\"datatype\":\"TAVG\",\"station\":\"GHCND:USW00094846\",\"attributes\":\"H,,S,\",\"value\":208},{\"date\":\"2023-09-26T00:00:00\",\"datatype\":\"TAVG\",\"station\":\"GHCND:USW00094846\",\"attributes\":\"H,,S,\",\"value\":195},{\"date\":\"2023-09-27T00:00:00\",\"datatype\":\"TAVG\",\"station\":\"GHCND:USW00094846\",\"attributes\":\"H,,S,\",\"value\":194},{\"date\":\"2023-09-28T00:00:00\",\"datatype\":\"TAVG\",\"station\":\"GHCND:USW00094846\",\"attributes\":\"H,,S,\",\"value\":195},{\"date\":\"2023-09-29T00:00:00\",\"datatype\":\"TAVG\",\"station\":\"GHCND:USW00094846\",\"attributes\":\"H,,S,\",\"value\":193},{\"date\":\"2023-09-30T00:00:00\",\"datatype\":\"TAVG\",\"station\":\"GHCND:USW00094846\",\"attributes\":\"H,,S,\",\"value\":214},{\"date\":\"2023-10-01T00:00:00\",\"datatype\":\"TAVG\",\"station\":\"GHCND:USW00094846\",\"attributes\":\"H,,S,\",\"value\":234},{\"date\":\"2023-10-02T00:00:00\",\"datatype\":\"TAVG\",\"station\":\"GHCND:USW00094846\",\"attributes\":\"H,,S,\",\"value\":233},{\"date\":\"2023-10-03T00:00:00\",\"datatype\":\"TAVG\",\"station\":\"GHCND:USW00094846\",\"attributes\":\"H,,S,\",\"value\":241},{\"date\":\"2023-10-04T00:00:00\",\"datatype\":\"TAVG\",\"station\":\"GHCND:USW00094846\",\"attributes\":\"H,,S,\",\"value\":256},{\"date\":\"2023-10-05T00:00:00\",\"datatype\":\"TAVG\",\"station\":\"GHCND:USW00094846\",\"attributes\":\"H,,S,\",\"value\":217},{\"date\":\"2023-10-06T00:00:00\",\"datatype\":\"TAVG\",\"station\":\"GHCND:USW00094846\",\"attributes\":\"H,,S,\",\"value\":143},{\"date\":\"2023-10-07T00:00:00\",\"datatype\":\"TAVG\",\"station\":\"GHCND:USW00094846\",\"attributes\":\"H,,S,\",\"value\":109},{\"date\":\"2023-10-08T00:00:00\",\"datatype\":\"TAVG\",\"station\":\"GHCND:USW00094846\",\"attributes\":\"H,,S,\",\"value\":107},{\"date\":\"2023-10-09T00:00:00\",\"datatype\":\"TAVG\",\"station\":\"GHCND:USW00094846\",\"attributes\":\"H,,S,\",\"value\":107},{\"date\":\"2023-10-10T00:00:00\",\"datatype\":\"TAVG\",\"station\":\"GHCND:USW00094846\",\"attributes\":\"H,,S,\",\"value\":109},{\"date\":\"2023-10-11T00:00:00\",\"datatype\":\"TAVG\",\"station\":\"GHCND:USW00094846\",\"attributes\":\"H,,S,\",\"value\":126},{\"date\":\"2023-10-12T00:00:00\",\"datatype\":\"TAVG\",\"station\":\"GHCND:USW00094846\",\"attributes\":\"H,,S,\",\"value\":142},{\"date\":\"2023-10-13T00:00:00\",\"datatype\":\"TAVG\",\"station\":\"GHCND:USW00094846\",\"attributes\":\"H,,S,\",\"value\":148},{\"date\":\"2023-10-14T00:00:00\",\"datatype\":\"TAVG\",\"station\":\"GHCND:USW00094846\",\"attributes\":\"H,,S,\",\"value\":131},{\"date\":\"2023-10-15T00:00:00\",\"datatype\":\"TAVG\",\"station\":\"GHCND:USW00094846\",\"attributes\":\"H,,S,\",\"value\":112},{\"date\":\"2023-10-16T00:00:00\",\"datatype\":\"TAVG\",\"station\":\"GHCND:USW00094846\",\"attributes\":\"H,,S,\",\"value\":114},{\"date\":\"2023-10-17T00:00:00\",\"datatype\":\"TAVG\",\"station\":\"GHCND:USW00094846\",\"attributes\":\"H,,S,\",\"value\":107},{\"date\":\"2023-10-18T00:00:00\",\"datatype\":\"TAVG\",\"station\":\"GHCND:USW00094846\",\"attributes\":\"H,,S,\",\"value\":131},{\"date\":\"2023-10-19T00:00:00\",\"datatype\":\"TAVG\",\"station\":\"GHCND:USW00094846\",\"attributes\":\"H,,S,\",\"value\":150},{\"date\":\"2023-10-20T00:00:00\",\"datatype\":\"TAVG\",\"station\":\"GHCND:USW00094846\",\"attributes\":\"H,,S,\",\"value\":133},{\"date\":\"2023-10-21T00:00:00\",\"datatype\":\"TAVG\",\"station\":\"GHCND:USW00094846\",\"attributes\":\"H,,S,\",\"value\":123},{\"date\":\"2023-10-22T00:00:00\",\"datatype\":\"TAVG\",\"station\":\"GHCND:USW00094846\",\"attributes\":\"H,,S,\",\"value\":105},{\"date\":\"2023-10-23T00:00:00\",\"datatype\":\"TAVG\",\"station\":\"GHCND:USW00094846\",\"attributes\":\"H,,S,\",\"value\":116},{\"date\":\"2023-10-24T00:00:00\",\"datatype\":\"TAVG\",\"station\":\"GHCND:USW00094846\",\"attributes\":\"H,,S,\",\"value\":204},{\"date\":\"2023-10-25T00:00:00\",\"datatype\":\"TAVG\",\"station\":\"GHCND:USW00094846\",\"attributes\":\"H,,S,\",\"value\":189},{\"date\":\"2023-10-26T00:00:00\",\"datatype\":\"TAVG\",\"station\":\"GHCND:USW00094846\",\"attributes\":\"H,,S,\",\"value\":197},{\"date\":\"2023-10-27T00:00:00\",\"datatype\":\"TAVG\",\"station\":\"GHCND:USW00094846\",\"attributes\":\"H,,S,\",\"value\":197},{\"date\":\"2023-10-28T00:00:00\",\"datatype\":\"TAVG\",\"station\":\"GHCND:USW00094846\",\"attributes\":\"H,,S,\",\"value\":82},{\"date\":\"2023-10-29T00:00:00\",\"datatype\":\"TAVG\",\"station\":\"GHCND:USW00094846\",\"attributes\":\"H,,S,\",\"value\":79},{\"date\":\"2023-10-30T00:00:00\",\"datatype\":\"TAVG\",\"station\":\"GHCND:USW00094846\",\"attributes\":\"H,,S,\",\"value\":41},{\"date\":\"2023-10-31T00:00:00\",\"datatype\":\"TAVG\",\"station\":\"GHCND:USW00094846\",\"attributes\":\"H,,S,\",\"value\":9},{\"date\":\"2023-11-01T00:00:00\",\"datatype\":\"TAVG\",\"station\":\"GHCND:USW00094846\",\"attributes\":\"H,,S,\",\"value\":19},{\"date\":\"2023-11-02T00:00:00\",\"datatype\":\"TAVG\",\"station\":\"GHCND:USW00094846\",\"attributes\":\"H,,S,\",\"value\":65},{\"date\":\"2023-11-03T00:00:00\",\"datatype\":\"TAVG\",\"station\":\"GHCND:USW00094846\",\"attributes\":\"H,,S,\",\"value\":108},{\"date\":\"2023-11-04T00:00:00\",\"datatype\":\"TAVG\",\"station\":\"GHCND:USW00094846\",\"attributes\":\"H,,S,\",\"value\":108},{\"date\":\"2023-11-05T00:00:00\",\"datatype\":\"TAVG\",\"station\":\"GHCND:USW00094846\",\"attributes\":\"H,,S,\",\"value\":91},{\"date\":\"2023-11-06T00:00:00\",\"datatype\":\"TAVG\",\"station\":\"GHCND:USW00094846\",\"attributes\":\"H,,S,\",\"value\":156},{\"date\":\"2023-11-07T00:00:00\",\"datatype\":\"TAVG\",\"station\":\"GHCND:USW00094846\",\"attributes\":\"H,,S,\",\"value\":111},{\"date\":\"2023-11-08T00:00:00\",\"datatype\":\"TAVG\",\"station\":\"GHCND:USW00094846\",\"attributes\":\"H,,S,\",\"value\":99},{\"date\":\"2023-11-09T00:00:00\",\"datatype\":\"TAVG\",\"station\":\"GHCND:USW00094846\",\"attributes\":\"H,,S,\",\"value\":94},{\"date\":\"2023-11-10T00:00:00\",\"datatype\":\"TAVG\",\"station\":\"GHCND:USW00094846\",\"attributes\":\"H,,S,\",\"value\":65},{\"date\":\"2023-11-11T00:00:00\",\"datatype\":\"TAVG\",\"station\":\"GHCND:USW00094846\",\"attributes\":\"H,,S,\",\"value\":42},{\"date\":\"2023-11-12T00:00:00\",\"datatype\":\"TAVG\",\"station\":\"GHCND:USW00094846\",\"attributes\":\"H,,S,\",\"value\":87},{\"date\":\"2023-11-13T00:00:00\",\"datatype\":\"TAVG\",\"station\":\"GHCND:USW00094846\",\"attributes\":\"H,,S,\",\"value\":106},{\"date\":\"2023-11-14T00:00:00\",\"datatype\":\"TAVG\",\"station\":\"GHCND:USW00094846\",\"attributes\":\"H,,S,\",\"value\":81},{\"date\":\"2023-11-15T00:00:00\",\"datatype\":\"TAVG\",\"station\":\"GHCND:USW00094846\",\"attributes\":\"H,,S,\",\"value\":110},{\"date\":\"2023-11-16T00:00:00\",\"datatype\":\"TAVG\",\"station\":\"GHCND:USW00094846\",\"attributes\":\"H,,S,\",\"value\":119},{\"date\":\"2023-11-17T00:00:00\",\"datatype\":\"TAVG\",\"station\":\"GHCND:USW00094846\",\"attributes\":\"H,,S,\",\"value\":124},{\"date\":\"2023-11-18T00:00:00\",\"datatype\":\"TAVG\",\"station\":\"GHCND:USW00094846\",\"attributes\":\"H,,S,\",\"value\":47},{\"date\":\"2023-11-19T00:00:00\",\"datatype\":\"TAVG\",\"station\":\"GHCND:USW00094846\",\"attributes\":\"H,,S,\",\"value\":70},{\"date\":\"2023-11-20T00:00:00\",\"datatype\":\"TAVG\",\"station\":\"GHCND:USW00094846\",\"attributes\":\"H,,S,\",\"value\":78},{\"date\":\"2023-11-21T00:00:00\",\"datatype\":\"TAVG\",\"station\":\"GHCND:USW00094846\",\"attributes\":\"H,,S,\",\"value\":59},{\"date\":\"2023-11-22T00:00:00\",\"datatype\":\"TAVG\",\"station\":\"GHCND:USW00094846\",\"attributes\":\"H,,S,\",\"value\":41},{\"date\":\"2023-11-23T00:00:00\",\"datatype\":\"TAVG\",\"station\":\"GHCND:USW00094846\",\"attributes\":\"H,,S,\",\"value\":40},{\"date\":\"2023-11-24T00:00:00\",\"datatype\":\"TAVG\",\"station\":\"GHCND:USW00094846\",\"attributes\":\"H,,S,\",\"value\":-4},{\"date\":\"2023-11-25T00:00:00\",\"datatype\":\"TAVG\",\"station\":\"GHCND:USW00094846\",\"attributes\":\"H,,S,\",\"value\":-11},{\"date\":\"2023-11-26T00:00:00\",\"datatype\":\"TAVG\",\"station\":\"GHCND:USW00094846\",\"attributes\":\"H,,S,\",\"value\":-2},{\"date\":\"2023-11-27T00:00:00\",\"datatype\":\"TAVG\",\"station\":\"GHCND:USW00094846\",\"attributes\":\"H,,S,\",\"value\":-33},{\"date\":\"2023-11-28T00:00:00\",\"datatype\":\"TAVG\",\"station\":\"GHCND:USW00094846\",\"attributes\":\"H,,S,\",\"value\":-75},{\"date\":\"2023-11-29T00:00:00\",\"datatype\":\"TAVG\",\"station\":\"GHCND:USW00094846\",\"attributes\":\"H,,S,\",\"value\":-28},{\"date\":\"2023-11-30T00:00:00\",\"datatype\":\"TAVG\",\"station\":\"GHCND:USW00094846\",\"attributes\":\"H,,S,\",\"value\":42},{\"date\":\"2023-12-01T00:00:00\",\"datatype\":\"TAVG\",\"station\":\"GHCND:USW00094846\",\"attributes\":\"H,,S,\",\"value\":66},{\"date\":\"2023-12-02T00:00:00\",\"datatype\":\"TAVG\",\"station\":\"GHCND:USW00094846\",\"attributes\":\"H,,S,\",\"value\":48},{\"date\":\"2023-12-03T00:00:00\",\"datatype\":\"TAVG\",\"station\":\"GHCND:USW00094846\",\"attributes\":\"H,,S,\",\"value\":41},{\"date\":\"2023-12-04T00:00:00\",\"datatype\":\"TAVG\",\"station\":\"GHCND:USW00094846\",\"attributes\":\"H,,S,\",\"value\":28},{\"date\":\"2023-12-05T00:00:00\",\"datatype\":\"TAVG\",\"station\":\"GHCND:USW00094846\",\"attributes\":\"H,,S,\",\"value\":27},{\"date\":\"2023-12-06T00:00:00\",\"datatype\":\"TAVG\",\"station\":\"GHCND:USW00094846\",\"attributes\":\"H,,S,\",\"value\":18},{\"date\":\"2023-12-07T00:00:00\",\"datatype\":\"TAVG\",\"station\":\"GHCND:USW00094846\",\"attributes\":\"H,,S,\",\"value\":50},{\"date\":\"2023-12-08T00:00:00\",\"datatype\":\"TAVG\",\"station\":\"GHCND:USW00094846\",\"attributes\":\"H,,S,\",\"value\":97},{\"date\":\"2023-12-09T00:00:00\",\"datatype\":\"TAVG\",\"station\":\"GHCND:USW00094846\",\"attributes\":\"H,,S,\",\"value\":100},{\"date\":\"2023-12-10T00:00:00\",\"datatype\":\"TAVG\",\"station\":\"GHCND:USW00094846\",\"attributes\":\"H,,S,\",\"value\":17},{\"date\":\"2023-12-11T00:00:00\",\"datatype\":\"TAVG\",\"station\":\"GHCND:USW00094846\",\"attributes\":\"H,,S,\",\"value\":-7},{\"date\":\"2023-12-12T00:00:00\",\"datatype\":\"TAVG\",\"station\":\"GHCND:USW00094846\",\"attributes\":\"H,,S,\",\"value\":12},{\"date\":\"2023-12-13T00:00:00\",\"datatype\":\"TAVG\",\"station\":\"GHCND:USW00094846\",\"attributes\":\"H,,S,\",\"value\":-6},{\"date\":\"2023-12-14T00:00:00\",\"datatype\":\"TAVG\",\"station\":\"GHCND:USW00094846\",\"attributes\":\"H,,S,\",\"value\":34},{\"date\":\"2023-12-15T00:00:00\",\"datatype\":\"TAVG\",\"station\":\"GHCND:USW00094846\",\"attributes\":\"H,,S,\",\"value\":61},{\"date\":\"2023-12-16T00:00:00\",\"datatype\":\"TAVG\",\"station\":\"GHCND:USW00094846\",\"attributes\":\"H,,S,\",\"value\":69},{\"date\":\"2023-12-17T00:00:00\",\"datatype\":\"TAVG\",\"station\":\"GHCND:USW00094846\",\"attributes\":\"H,,S,\",\"value\":62},{\"date\":\"2023-12-18T00:00:00\",\"datatype\":\"TAVG\",\"station\":\"GHCND:USW00094846\",\"attributes\":\"H,,S,\",\"value\":6},{\"date\":\"2023-12-19T00:00:00\",\"datatype\":\"TAVG\",\"station\":\"GHCND:USW00094846\",\"attributes\":\"H,,S,\",\"value\":-48},{\"date\":\"2023-12-20T00:00:00\",\"datatype\":\"TAVG\",\"station\":\"GHCND:USW00094846\",\"attributes\":\"H,,S,\",\"value\":16},{\"date\":\"2023-12-21T00:00:00\",\"datatype\":\"TAVG\",\"station\":\"GHCND:USW00094846\",\"attributes\":\"H,,S,\",\"value\":45},{\"date\":\"2023-12-22T00:00:00\",\"datatype\":\"TAVG\",\"station\":\"GHCND:USW00094846\",\"attributes\":\"H,,S,\",\"value\":66},{\"date\":\"2023-12-23T00:00:00\",\"datatype\":\"TAVG\",\"station\":\"GHCND:USW00094846\",\"attributes\":\"H,,S,\",\"value\":74},{\"date\":\"2023-12-24T00:00:00\",\"datatype\":\"TAVG\",\"station\":\"GHCND:USW00094846\",\"attributes\":\"H,,S,\",\"value\":98},{\"date\":\"2023-12-25T00:00:00\",\"datatype\":\"TAVG\",\"station\":\"GHCND:USW00094846\",\"attributes\":\"H,,S,\",\"value\":117},{\"date\":\"2023-12-26T00:00:00\",\"datatype\":\"TAVG\",\"station\":\"GHCND:USW00094846\",\"attributes\":\"H,,S,\",\"value\":68},{\"date\":\"2023-12-27T00:00:00\",\"datatype\":\"TAVG\",\"station\":\"GHCND:USW00094846\",\"attributes\":\"H,,S,\",\"value\":24},{\"date\":\"2023-12-28T00:00:00\",\"datatype\":\"TAVG\",\"station\":\"GHCND:USW00094846\",\"attributes\":\"H,,S,\",\"value\":31},{\"date\":\"2023-12-29T00:00:00\",\"datatype\":\"TAVG\",\"station\":\"GHCND:USW00094846\",\"attributes\":\"H,,S,\",\"value\":39},{\"date\":\"2023-12-30T00:00:00\",\"datatype\":\"TAVG\",\"station\":\"GHCND:USW00094846\",\"attributes\":\"H,,S,\",\"value\":-3},{\"date\":\"2023-12-31T00:00:00\",\"datatype\":\"TAVG\",\"station\":\"GHCND:USW00094846\",\"attributes\":\"H,,S,\",\"value\":11},{\"date\":\"2024-01-01T00:00:00\",\"datatype\":\"TAVG\",\"station\":\"GHCND:USW00094846\",\"attributes\":\"H,,S,\",\"value\":-3},{\"date\":\"2024-01-02T00:00:00\",\"datatype\":\"TAVG\",\"station\":\"GHCND:USW00094846\",\"attributes\":\"H,,S,\",\"value\":-9},{\"date\":\"2024-01-03T00:00:00\",\"datatype\":\"TAVG\",\"station\":\"GHCND:USW00094846\",\"attributes\":\"H,,S,\",\"value\":5},{\"date\":\"2024-01-04T00:00:00\",\"datatype\":\"TAVG\",\"station\":\"GHCND:USW00094846\",\"attributes\":\"H,,S,\",\"value\":1},{\"date\":\"2024-01-05T00:00:00\",\"datatype\":\"TAVG\",\"station\":\"GHCND:USW00094846\",\"attributes\":\"H,,S,\",\"value\":-3},{\"date\":\"2024-01-06T00:00:00\",\"datatype\":\"TAVG\",\"station\":\"GHCND:USW00094846\",\"attributes\":\"H,,S,\",\"value\":3},{\"date\":\"2024-01-07T00:00:00\",\"datatype\":\"TAVG\",\"station\":\"GHCND:USW00094846\",\"attributes\":\"H,,S,\",\"value\":2},{\"date\":\"2024-01-08T00:00:00\",\"datatype\":\"TAVG\",\"station\":\"GHCND:USW00094846\",\"attributes\":\"H,,S,\",\"value\":6},{\"date\":\"2024-01-09T00:00:00\",\"datatype\":\"TAVG\",\"station\":\"GHCND:USW00094846\",\"attributes\":\"H,,S,\",\"value\":14},{\"date\":\"2024-01-10T00:00:00\",\"datatype\":\"TAVG\",\"station\":\"GHCND:USW00094846\",\"attributes\":\"H,,S,\",\"value\":4},{\"date\":\"2024-01-11T00:00:00\",\"datatype\":\"TAVG\",\"station\":\"GHCND:USW00094846\",\"attributes\":\"H,,S,\",\"value\":-3},{\"date\":\"2024-01-12T00:00:00\",\"datatype\":\"TAVG\",\"station\":\"GHCND:USW00094846\",\"attributes\":\"H,,S,\",\"value\":1},{\"date\":\"2024-01-13T00:00:00\",\"datatype\":\"TAVG\",\"station\":\"GHCND:USW00094846\",\"attributes\":\"H,,S,\",\"value\":-30},{\"date\":\"2024-01-14T00:00:00\",\"datatype\":\"TAVG\",\"station\":\"GHCND:USW00094846\",\"attributes\":\"H,,S,\",\"value\":-192},{\"date\":\"2024-01-15T00:00:00\",\"datatype\":\"TAVG\",\"station\":\"GHCND:USW00094846\",\"attributes\":\"H,,S,\",\"value\":-216},{\"date\":\"2024-01-16T00:00:00\",\"datatype\":\"TAVG\",\"station\":\"GHCND:USW00094846\",\"attributes\":\"H,,S,\",\"value\":-186},{\"date\":\"2024-01-17T00:00:00\",\"datatype\":\"TAVG\",\"station\":\"GHCND:USW00094846\",\"attributes\":\"H,,S,\",\"value\":-138},{\"date\":\"2024-01-18T00:00:00\",\"datatype\":\"TAVG\",\"station\":\"GHCND:USW00094846\",\"attributes\":\"H,,S,\",\"value\":-65},{\"date\":\"2024-01-19T00:00:00\",\"datatype\":\"TAVG\",\"station\":\"GHCND:USW00094846\",\"attributes\":\"H,,S,\",\"value\":-109},{\"date\":\"2024-01-20T00:00:00\",\"datatype\":\"TAVG\",\"station\":\"GHCND:USW00094846\",\"attributes\":\"H,,S,\",\"value\":-121},{\"date\":\"2024-01-21T00:00:00\",\"datatype\":\"TAVG\",\"station\":\"GHCND:USW00094846\",\"attributes\":\"H,,S,\",\"value\":-128},{\"date\":\"2024-01-22T00:00:00\",\"datatype\":\"TAVG\",\"station\":\"GHCND:USW00094846\",\"attributes\":\"H,,S,\",\"value\":-37},{\"date\":\"2024-01-23T00:00:00\",\"datatype\":\"TAVG\",\"station\":\"GHCND:USW00094846\",\"attributes\":\"H,,S,\",\"value\":12},{\"date\":\"2024-01-24T00:00:00\",\"datatype\":\"TAVG\",\"station\":\"GHCND:USW00094846\",\"attributes\":\"H,,S,\",\"value\":19},{\"date\":\"2024-01-25T00:00:00\",\"datatype\":\"TAVG\",\"station\":\"GHCND:USW00094846\",\"attributes\":\"H,,S,\",\"value\":25},{\"date\":\"2024-01-26T00:00:00\",\"datatype\":\"TAVG\",\"station\":\"GHCND:USW00094846\",\"attributes\":\"H,,S,\",\"value\":34},{\"date\":\"2024-01-27T00:00:00\",\"datatype\":\"TAVG\",\"station\":\"GHCND:USW00094846\",\"attributes\":\"H,,S,\",\"value\":31},{\"date\":\"2024-01-28T00:00:00\",\"datatype\":\"TAVG\",\"station\":\"GHCND:USW00094846\",\"attributes\":\"H,,S,\",\"value\":29},{\"date\":\"2024-01-29T00:00:00\",\"datatype\":\"TAVG\",\"station\":\"GHCND:USW00094846\",\"attributes\":\"H,,S,\",\"value\":9},{\"date\":\"2024-01-30T00:00:00\",\"datatype\":\"TAVG\",\"station\":\"GHCND:USW00094846\",\"attributes\":\"H,,S,\",\"value\":34},{\"date\":\"2024-01-31T00:00:00\",\"datatype\":\"TAVG\",\"station\":\"GHCND:USW00094846\",\"attributes\":\"H,,S,\",\"value\":30},{\"date\":\"2024-02-01T00:00:00\",\"datatype\":\"TAVG\",\"station\":\"GHCND:USW00094846\",\"attributes\":\"H,,S,\",\"value\":46},{\"date\":\"2024-02-02T00:00:00\",\"datatype\":\"TAVG\",\"station\":\"GHCND:USW00094846\",\"attributes\":\"H,,S,\",\"value\":33},{\"date\":\"2024-02-03T00:00:00\",\"datatype\":\"TAVG\",\"station\":\"GHCND:USW00094846\",\"attributes\":\"H,,S,\",\"value\":12},{\"date\":\"2024-02-04T00:00:00\",\"datatype\":\"TAVG\",\"station\":\"GHCND:USW00094846\",\"attributes\":\"H,,S,\",\"value\":21},{\"date\":\"2024-02-05T00:00:00\",\"datatype\":\"TAVG\",\"station\":\"GHCND:USW00094846\",\"attributes\":\"H,,S,\",\"value\":13},{\"date\":\"2024-02-06T00:00:00\",\"datatype\":\"TAVG\",\"station\":\"GHCND:USW00094846\",\"attributes\":\"H,,S,\",\"value\":28},{\"date\":\"2024-02-07T00:00:00\",\"datatype\":\"TAVG\",\"station\":\"GHCND:USW00094846\",\"attributes\":\"H,,S,\",\"value\":31},{\"date\":\"2024-02-08T00:00:00\",\"datatype\":\"TAVG\",\"station\":\"GHCND:USW00094846\",\"attributes\":\"H,,S,\",\"value\":99},{\"date\":\"2024-02-09T00:00:00\",\"datatype\":\"TAVG\",\"station\":\"GHCND:USW00094846\",\"attributes\":\"H,,S,\",\"value\":103},{\"date\":\"2024-02-10T00:00:00\",\"datatype\":\"TAVG\",\"station\":\"GHCND:USW00094846\",\"attributes\":\"H,,S,\",\"value\":33},{\"date\":\"2024-02-11T00:00:00\",\"datatype\":\"TAVG\",\"station\":\"GHCND:USW00094846\",\"attributes\":\"H,,S,\",\"value\":6},{\"date\":\"2024-02-12T00:00:00\",\"datatype\":\"TAVG\",\"station\":\"GHCND:USW00094846\",\"attributes\":\"H,,S,\",\"value\":9},{\"date\":\"2024-02-13T00:00:00\",\"datatype\":\"TAVG\",\"station\":\"GHCND:USW00094846\",\"attributes\":\"H,,S,\",\"value\":20},{\"date\":\"2024-02-14T00:00:00\",\"datatype\":\"TAVG\",\"station\":\"GHCND:USW00094846\",\"attributes\":\"H,,S,\",\"value\":13},{\"date\":\"2024-02-15T00:00:00\",\"datatype\":\"TAVG\",\"station\":\"GHCND:USW00094846\",\"attributes\":\"H,,S,\",\"value\":50},{\"date\":\"2024-02-16T00:00:00\",\"datatype\":\"TAVG\",\"station\":\"GHCND:USW00094846\",\"attributes\":\"H,,S,\",\"value\":-8},{\"date\":\"2024-02-17T00:00:00\",\"datatype\":\"TAVG\",\"station\":\"GHCND:USW00094846\",\"attributes\":\"H,,S,\",\"value\":-57},{\"date\":\"2024-02-18T00:00:00\",\"datatype\":\"TAVG\",\"station\":\"GHCND:USW00094846\",\"attributes\":\"H,,S,\",\"value\":-8},{\"date\":\"2024-02-19T00:00:00\",\"datatype\":\"TAVG\",\"station\":\"GHCND:USW00094846\",\"attributes\":\"H,,S,\",\"value\":18},{\"date\":\"2024-02-20T00:00:00\",\"datatype\":\"TAVG\",\"station\":\"GHCND:USW00094846\",\"attributes\":\"H,,S,\",\"value\":54},{\"date\":\"2024-02-21T00:00:00\",\"datatype\":\"TAVG\",\"station\":\"GHCND:USW00094846\",\"attributes\":\"H,,S,\",\"value\":112},{\"date\":\"2024-02-22T00:00:00\",\"datatype\":\"TAVG\",\"station\":\"GHCND:USW00094846\",\"attributes\":\"H,,S,\",\"value\":111},{\"date\":\"2024-02-23T00:00:00\",\"datatype\":\"TAVG\",\"station\":\"GHCND:USW00094846\",\"attributes\":\"H,,S,\",\"value\":75},{\"date\":\"2024-02-24T00:00:00\",\"datatype\":\"TAVG\",\"station\":\"GHCND:USW00094846\",\"attributes\":\"H,,S,\",\"value\":-22},{\"date\":\"2024-02-25T00:00:00\",\"datatype\":\"TAVG\",\"station\":\"GHCND:USW00094846\",\"attributes\":\"H,,S,\",\"value\":46},{\"date\":\"2024-02-26T00:00:00\",\"datatype\":\"TAVG\",\"station\":\"GHCND:USW00094846\",\"attributes\":\"H,,S,\",\"value\":115},{\"date\":\"2024-02-27T00:00:00\",\"datatype\":\"TAVG\",\"station\":\"GHCND:USW00094846\",\"attributes\":\"H,,S,\",\"value\":171},{\"date\":\"2024-02-28T00:00:00\",\"datatype\":\"TAVG\",\"station\":\"GHCND:USW00094846\",\"attributes\":\"H,,S,\",\"value\":39},{\"date\":\"2024-02-29T00:00:00\",\"datatype\":\"TAVG\",\"station\":\"GHCND:USW00094846\",\"attributes\":\"H,,S,\",\"value\":-20},{\"date\":\"2024-03-01T00:00:00\",\"datatype\":\"TAVG\",\"station\":\"GHCND:USW00094846\",\"attributes\":\"H,,S,\",\"value\":41},{\"date\":\"2024-03-02T00:00:00\",\"datatype\":\"TAVG\",\"station\":\"GHCND:USW00094846\",\"attributes\":\"H,,S,\",\"value\":76},{\"date\":\"2024-03-03T00:00:00\",\"datatype\":\"TAVG\",\"station\":\"GHCND:USW00094846\",\"attributes\":\"H,,S,\",\"value\":126},{\"date\":\"2024-03-04T00:00:00\",\"datatype\":\"TAVG\",\"station\":\"GHCND:USW00094846\",\"attributes\":\"H,,S,\",\"value\":166},{\"date\":\"2024-03-05T00:00:00\",\"datatype\":\"TAVG\",\"station\":\"GHCND:USW00094846\",\"attributes\":\"H,,S,\",\"value\":88},{\"date\":\"2024-03-06T00:00:00\",\"datatype\":\"TAVG\",\"station\":\"GHCND:USW00094846\",\"attributes\":\"H,,S,\",\"value\":54},{\"date\":\"2024-03-07T00:00:00\",\"datatype\":\"TAVG\",\"station\":\"GHCND:USW00094846\",\"attributes\":\"H,,S,\",\"value\":55},{\"date\":\"2024-03-08T00:00:00\",\"datatype\":\"TAVG\",\"station\":\"GHCND:USW00094846\",\"attributes\":\"H,,S,\",\"value\":68},{\"date\":\"2024-03-09T00:00:00\",\"datatype\":\"TAVG\",\"station\":\"GHCND:USW00094846\",\"attributes\":\"H,,S,\",\"value\":49},{\"date\":\"2024-03-10T00:00:00\",\"datatype\":\"TAVG\",\"station\":\"GHCND:USW00094846\",\"attributes\":\"H,,S,\",\"value\":29},{\"date\":\"2024-03-11T00:00:00\",\"datatype\":\"TAVG\",\"station\":\"GHCND:USW00094846\",\"attributes\":\"H,,S,\",\"value\":74},{\"date\":\"2024-03-12T00:00:00\",\"datatype\":\"TAVG\",\"station\":\"GHCND:USW00094846\",\"attributes\":\"H,,S,\",\"value\":146},{\"date\":\"2024-03-13T00:00:00\",\"datatype\":\"TAVG\",\"station\":\"GHCND:USW00094846\",\"attributes\":\"H,,S,\",\"value\":151},{\"date\":\"2024-03-14T00:00:00\",\"datatype\":\"TAVG\",\"station\":\"GHCND:USW00094846\",\"attributes\":\"H,,S,\",\"value\":110},{\"date\":\"2024-03-15T00:00:00\",\"datatype\":\"TAVG\",\"station\":\"GHCND:USW00094846\",\"attributes\":\"H,,S,\",\"value\":62},{\"date\":\"2024-03-16T00:00:00\",\"datatype\":\"TAVG\",\"station\":\"GHCND:USW00094846\",\"attributes\":\"H,,S,\",\"value\":80},{\"date\":\"2024-03-17T00:00:00\",\"datatype\":\"TAVG\",\"station\":\"GHCND:USW00094846\",\"attributes\":\"H,,S,\",\"value\":38},{\"date\":\"2024-03-18T00:00:00\",\"datatype\":\"TAVG\",\"station\":\"GHCND:USW00094846\",\"attributes\":\"H,,S,\",\"value\":-11},{\"date\":\"2024-03-19T00:00:00\",\"datatype\":\"TAVG\",\"station\":\"GHCND:USW00094846\",\"attributes\":\"H,,S,\",\"value\":34},{\"date\":\"2024-03-20T00:00:00\",\"datatype\":\"TAVG\",\"station\":\"GHCND:USW00094846\",\"attributes\":\"H,,S,\",\"value\":49},{\"date\":\"2024-03-21T00:00:00\",\"datatype\":\"TAVG\",\"station\":\"GHCND:USW00094846\",\"attributes\":\"H,,S,\",\"value\":4},{\"date\":\"2024-03-22T00:00:00\",\"datatype\":\"TAVG\",\"station\":\"GHCND:USW00094846\",\"attributes\":\"H,,S,\",\"value\":16},{\"date\":\"2024-03-23T00:00:00\",\"datatype\":\"TAVG\",\"station\":\"GHCND:USW00094846\",\"attributes\":\"H,,S,\",\"value\":11},{\"date\":\"2024-03-24T00:00:00\",\"datatype\":\"TAVG\",\"station\":\"GHCND:USW00094846\",\"attributes\":\"H,,S,\",\"value\":30},{\"date\":\"2024-03-25T00:00:00\",\"datatype\":\"TAVG\",\"station\":\"GHCND:USW00094846\",\"attributes\":\"H,,S,\",\"value\":105},{\"date\":\"2024-03-26T00:00:00\",\"datatype\":\"TAVG\",\"station\":\"GHCND:USW00094846\",\"attributes\":\"H,,S,\",\"value\":104},{\"date\":\"2024-03-27T00:00:00\",\"datatype\":\"TAVG\",\"station\":\"GHCND:USW00094846\",\"attributes\":\"H,,S,\",\"value\":13},{\"date\":\"2024-03-28T00:00:00\",\"datatype\":\"TAVG\",\"station\":\"GHCND:USW00094846\",\"attributes\":\"H,,S,\",\"value\":36},{\"date\":\"2024-03-29T00:00:00\",\"datatype\":\"TAVG\",\"station\":\"GHCND:USW00094846\",\"attributes\":\"H,,S,\",\"value\":57},{\"date\":\"2024-03-30T00:00:00\",\"datatype\":\"TAVG\",\"station\":\"GHCND:USW00094846\",\"attributes\":\"H,,S,\",\"value\":90},{\"date\":\"2024-03-31T00:00:00\",\"datatype\":\"TAVG\",\"station\":\"GHCND:USW00094846\",\"attributes\":\"H,,S,\",\"value\":59},{\"date\":\"2024-04-01T00:00:00\",\"datatype\":\"TAVG\",\"station\":\"GHCND:USW00094846\",\"attributes\":\"H,,S,\",\"value\":64},{\"date\":\"2024-04-02T00:00:00\",\"datatype\":\"TAVG\",\"station\":\"GHCND:USW00094846\",\"attributes\":\"H,,S,\",\"value\":62},{\"date\":\"2024-04-03T00:00:00\",\"datatype\":\"TAVG\",\"station\":\"GHCND:USW00094846\",\"attributes\":\"H,,S,\",\"value\":23},{\"date\":\"2024-04-04T00:00:00\",\"datatype\":\"TAVG\",\"station\":\"GHCND:USW00094846\",\"attributes\":\"H,,S,\",\"value\":34},{\"date\":\"2024-04-05T00:00:00\",\"datatype\":\"TAVG\",\"station\":\"GHCND:USW00094846\",\"attributes\":\"H,,S,\",\"value\":54},{\"date\":\"2024-04-06T00:00:00\",\"datatype\":\"TAVG\",\"station\":\"GHCND:USW00094846\",\"attributes\":\"H,,S,\",\"value\":58},{\"date\":\"2024-04-07T00:00:00\",\"datatype\":\"TAVG\",\"station\":\"GHCND:USW00094846\",\"attributes\":\"H,,S,\",\"value\":67},{\"date\":\"2024-04-08T00:00:00\",\"datatype\":\"TAVG\",\"station\":\"GHCND:USW00094846\",\"attributes\":\"H,,S,\",\"value\":128},{\"date\":\"2024-04-09T00:00:00\",\"datatype\":\"TAVG\",\"station\":\"GHCND:USW00094846\",\"attributes\":\"H,,S,\",\"value\":154},{\"date\":\"2024-04-10T00:00:00\",\"datatype\":\"TAVG\",\"station\":\"GHCND:USW00094846\",\"attributes\":\"H,,S,\",\"value\":134},{\"date\":\"2024-04-11T00:00:00\",\"datatype\":\"TAVG\",\"station\":\"GHCND:USW00094846\",\"attributes\":\"H,,S,\",\"value\":131},{\"date\":\"2024-04-12T00:00:00\",\"datatype\":\"TAVG\",\"station\":\"GHCND:USW00094846\",\"attributes\":\"H,,S,\",\"value\":123},{\"date\":\"2024-04-13T00:00:00\",\"datatype\":\"TAVG\",\"station\":\"GHCND:USW00094846\",\"attributes\":\"H,,S,\",\"value\":130},{\"date\":\"2024-04-14T00:00:00\",\"datatype\":\"TAVG\",\"station\":\"GHCND:USW00094846\",\"attributes\":\"H,,S,\",\"value\":208},{\"date\":\"2024-04-15T00:00:00\",\"datatype\":\"TAVG\",\"station\":\"GHCND:USW00094846\",\"attributes\":\"H,,S,\",\"value\":171},{\"date\":\"2024-04-16T00:00:00\",\"datatype\":\"TAVG\",\"station\":\"GHCND:USW00094846\",\"attributes\":\"H,,S,\",\"value\":171},{\"date\":\"2024-04-17T00:00:00\",\"datatype\":\"TAVG\",\"station\":\"GHCND:USW00094846\",\"attributes\":\"H,,S,\",\"value\":186},{\"date\":\"2024-04-18T00:00:00\",\"datatype\":\"TAVG\",\"station\":\"GHCND:USW00094846\",\"attributes\":\"H,,S,\",\"value\":120},{\"date\":\"2024-04-19T00:00:00\",\"datatype\":\"TAVG\",\"station\":\"GHCND:USW00094846\",\"attributes\":\"H,,S,\",\"value\":96},{\"date\":\"2024-04-20T00:00:00\",\"datatype\":\"TAVG\",\"station\":\"GHCND:USW00094846\",\"attributes\":\"H,,S,\",\"value\":59},{\"date\":\"2024-04-21T00:00:00\",\"datatype\":\"TAVG\",\"station\":\"GHCND:USW00094846\",\"attributes\":\"H,,S,\",\"value\":65},{\"date\":\"2024-04-22T00:00:00\",\"datatype\":\"TAVG\",\"station\":\"GHCND:USW00094846\",\"attributes\":\"H,,S,\",\"value\":119},{\"date\":\"2024-04-23T00:00:00\",\"datatype\":\"TAVG\",\"station\":\"GHCND:USW00094846\",\"attributes\":\"H,,S,\",\"value\":151},{\"date\":\"2024-04-24T00:00:00\",\"datatype\":\"TAVG\",\"station\":\"GHCND:USW00094846\",\"attributes\":\"H,,S,\",\"value\":73},{\"date\":\"2024-04-25T00:00:00\",\"datatype\":\"TAVG\",\"station\":\"GHCND:USW00094846\",\"attributes\":\"H,,S,\",\"value\":65},{\"date\":\"2024-04-26T00:00:00\",\"datatype\":\"TAVG\",\"station\":\"GHCND:USW00094846\",\"attributes\":\"H,,S,\",\"value\":96},{\"date\":\"2024-04-27T00:00:00\",\"datatype\":\"TAVG\",\"station\":\"GHCND:USW00094846\",\"attributes\":\"H,,S,\",\"value\":187},{\"date\":\"2024-04-28T00:00:00\",\"datatype\":\"TAVG\",\"station\":\"GHCND:USW00094846\",\"attributes\":\"H,,S,\",\"value\":196},{\"date\":\"2024-04-29T00:00:00\",\"datatype\":\"TAVG\",\"station\":\"GHCND:USW00094846\",\"attributes\":\"H,,S,\",\"value\":191},{\"date\":\"2024-04-30T00:00:00\",\"datatype\":\"TAVG\",\"station\":\"GHCND:USW00094846\",\"attributes\":\"H,,S,\",\"value\":158},{\"date\":\"2024-05-01T00:00:00\",\"datatype\":\"TAVG\",\"station\":\"GHCND:USW00094846\",\"attributes\":\"H,,S,\",\"value\":208},{\"date\":\"2024-05-02T00:00:00\",\"datatype\":\"TAVG\",\"station\":\"GHCND:USW00094846\",\"attributes\":\"H,,S,\",\"value\":187},{\"date\":\"2024-05-03T00:00:00\",\"datatype\":\"TAVG\",\"station\":\"GHCND:USW00094846\",\"attributes\":\"H,,S,\",\"value\":181},{\"date\":\"2024-05-04T00:00:00\",\"datatype\":\"TAVG\",\"station\":\"GHCND:USW00094846\",\"attributes\":\"H,,S,\",\"value\":173},{\"date\":\"2024-05-05T00:00:00\",\"datatype\":\"TAVG\",\"station\":\"GHCND:USW00094846\",\"attributes\":\"H,,S,\",\"value\":149},{\"date\":\"2024-05-06T00:00:00\",\"datatype\":\"TAVG\",\"station\":\"GHCND:USW00094846\",\"attributes\":\"H,,S,\",\"value\":145},{\"date\":\"2024-05-07T00:00:00\",\"datatype\":\"TAVG\",\"station\":\"GHCND:USW00094846\",\"attributes\":\"H,,S,\",\"value\":185},{\"date\":\"2024-05-08T00:00:00\",\"datatype\":\"TAVG\",\"station\":\"GHCND:USW00094846\",\"attributes\":\"H,,S,\",\"value\":193},{\"date\":\"2024-05-09T00:00:00\",\"datatype\":\"TAVG\",\"station\":\"GHCND:USW00094846\",\"attributes\":\"H,,S,\",\"value\":149},{\"date\":\"2024-05-10T00:00:00\",\"datatype\":\"TAVG\",\"station\":\"GHCND:USW00094846\",\"attributes\":\"H,,S,\",\"value\":128}]}'"
            ],
            "application/vnd.google.colaboratory.intrinsic+json": {
              "type": "string"
            }
          },
          "metadata": {},
          "execution_count": 7
        }
      ]
    },
    {
      "cell_type": "markdown",
      "source": [
        "# 3. Convert JSON into a pandas dataframe"
      ],
      "metadata": {
        "id": "ZI2ALd90FLhF"
      }
    },
    {
      "cell_type": "code",
      "source": [
        "# convert data into a pandas dataframe\n",
        "import pandas as pd\n",
        "df = pd.DataFrame(data['results'])\n",
        "df"
      ],
      "metadata": {
        "colab": {
          "base_uri": "https://localhost:8080/",
          "height": 597
        },
        "id": "--HjoepkEVO3",
        "outputId": "44cd2fcf-3a6c-4b66-ab21-037506d281e0"
      },
      "execution_count": 8,
      "outputs": [
        {
          "output_type": "execute_result",
          "data": {
            "text/plain": [
              "                    date datatype            station attributes  value\n",
              "0    2023-07-01T00:00:00     TAVG  GHCND:USW00094846      H,,S,    256\n",
              "1    2023-07-02T00:00:00     TAVG  GHCND:USW00094846      H,,S,    217\n",
              "2    2023-07-03T00:00:00     TAVG  GHCND:USW00094846      H,,S,    232\n",
              "3    2023-07-04T00:00:00     TAVG  GHCND:USW00094846      H,,S,    267\n",
              "4    2023-07-05T00:00:00     TAVG  GHCND:USW00094846      H,,S,    278\n",
              "..                   ...      ...                ...        ...    ...\n",
              "310  2024-05-06T00:00:00     TAVG  GHCND:USW00094846      H,,S,    145\n",
              "311  2024-05-07T00:00:00     TAVG  GHCND:USW00094846      H,,S,    185\n",
              "312  2024-05-08T00:00:00     TAVG  GHCND:USW00094846      H,,S,    193\n",
              "313  2024-05-09T00:00:00     TAVG  GHCND:USW00094846      H,,S,    149\n",
              "314  2024-05-10T00:00:00     TAVG  GHCND:USW00094846      H,,S,    128\n",
              "\n",
              "[315 rows x 5 columns]"
            ],
            "text/html": [
              "\n",
              "  <div id=\"df-860f42c4-e5f3-414c-9fdc-b145978e6b95\" class=\"colab-df-container\">\n",
              "    <div>\n",
              "<style scoped>\n",
              "    .dataframe tbody tr th:only-of-type {\n",
              "        vertical-align: middle;\n",
              "    }\n",
              "\n",
              "    .dataframe tbody tr th {\n",
              "        vertical-align: top;\n",
              "    }\n",
              "\n",
              "    .dataframe thead th {\n",
              "        text-align: right;\n",
              "    }\n",
              "</style>\n",
              "<table border=\"1\" class=\"dataframe\">\n",
              "  <thead>\n",
              "    <tr style=\"text-align: right;\">\n",
              "      <th></th>\n",
              "      <th>date</th>\n",
              "      <th>datatype</th>\n",
              "      <th>station</th>\n",
              "      <th>attributes</th>\n",
              "      <th>value</th>\n",
              "    </tr>\n",
              "  </thead>\n",
              "  <tbody>\n",
              "    <tr>\n",
              "      <th>0</th>\n",
              "      <td>2023-07-01T00:00:00</td>\n",
              "      <td>TAVG</td>\n",
              "      <td>GHCND:USW00094846</td>\n",
              "      <td>H,,S,</td>\n",
              "      <td>256</td>\n",
              "    </tr>\n",
              "    <tr>\n",
              "      <th>1</th>\n",
              "      <td>2023-07-02T00:00:00</td>\n",
              "      <td>TAVG</td>\n",
              "      <td>GHCND:USW00094846</td>\n",
              "      <td>H,,S,</td>\n",
              "      <td>217</td>\n",
              "    </tr>\n",
              "    <tr>\n",
              "      <th>2</th>\n",
              "      <td>2023-07-03T00:00:00</td>\n",
              "      <td>TAVG</td>\n",
              "      <td>GHCND:USW00094846</td>\n",
              "      <td>H,,S,</td>\n",
              "      <td>232</td>\n",
              "    </tr>\n",
              "    <tr>\n",
              "      <th>3</th>\n",
              "      <td>2023-07-04T00:00:00</td>\n",
              "      <td>TAVG</td>\n",
              "      <td>GHCND:USW00094846</td>\n",
              "      <td>H,,S,</td>\n",
              "      <td>267</td>\n",
              "    </tr>\n",
              "    <tr>\n",
              "      <th>4</th>\n",
              "      <td>2023-07-05T00:00:00</td>\n",
              "      <td>TAVG</td>\n",
              "      <td>GHCND:USW00094846</td>\n",
              "      <td>H,,S,</td>\n",
              "      <td>278</td>\n",
              "    </tr>\n",
              "    <tr>\n",
              "      <th>...</th>\n",
              "      <td>...</td>\n",
              "      <td>...</td>\n",
              "      <td>...</td>\n",
              "      <td>...</td>\n",
              "      <td>...</td>\n",
              "    </tr>\n",
              "    <tr>\n",
              "      <th>310</th>\n",
              "      <td>2024-05-06T00:00:00</td>\n",
              "      <td>TAVG</td>\n",
              "      <td>GHCND:USW00094846</td>\n",
              "      <td>H,,S,</td>\n",
              "      <td>145</td>\n",
              "    </tr>\n",
              "    <tr>\n",
              "      <th>311</th>\n",
              "      <td>2024-05-07T00:00:00</td>\n",
              "      <td>TAVG</td>\n",
              "      <td>GHCND:USW00094846</td>\n",
              "      <td>H,,S,</td>\n",
              "      <td>185</td>\n",
              "    </tr>\n",
              "    <tr>\n",
              "      <th>312</th>\n",
              "      <td>2024-05-08T00:00:00</td>\n",
              "      <td>TAVG</td>\n",
              "      <td>GHCND:USW00094846</td>\n",
              "      <td>H,,S,</td>\n",
              "      <td>193</td>\n",
              "    </tr>\n",
              "    <tr>\n",
              "      <th>313</th>\n",
              "      <td>2024-05-09T00:00:00</td>\n",
              "      <td>TAVG</td>\n",
              "      <td>GHCND:USW00094846</td>\n",
              "      <td>H,,S,</td>\n",
              "      <td>149</td>\n",
              "    </tr>\n",
              "    <tr>\n",
              "      <th>314</th>\n",
              "      <td>2024-05-10T00:00:00</td>\n",
              "      <td>TAVG</td>\n",
              "      <td>GHCND:USW00094846</td>\n",
              "      <td>H,,S,</td>\n",
              "      <td>128</td>\n",
              "    </tr>\n",
              "  </tbody>\n",
              "</table>\n",
              "<p>315 rows × 5 columns</p>\n",
              "</div>\n",
              "    <div class=\"colab-df-buttons\">\n",
              "\n",
              "  <div class=\"colab-df-container\">\n",
              "    <button class=\"colab-df-convert\" onclick=\"convertToInteractive('df-860f42c4-e5f3-414c-9fdc-b145978e6b95')\"\n",
              "            title=\"Convert this dataframe to an interactive table.\"\n",
              "            style=\"display:none;\">\n",
              "\n",
              "  <svg xmlns=\"http://www.w3.org/2000/svg\" height=\"24px\" viewBox=\"0 -960 960 960\">\n",
              "    <path d=\"M120-120v-720h720v720H120Zm60-500h600v-160H180v160Zm220 220h160v-160H400v160Zm0 220h160v-160H400v160ZM180-400h160v-160H180v160Zm440 0h160v-160H620v160ZM180-180h160v-160H180v160Zm440 0h160v-160H620v160Z\"/>\n",
              "  </svg>\n",
              "    </button>\n",
              "\n",
              "  <style>\n",
              "    .colab-df-container {\n",
              "      display:flex;\n",
              "      gap: 12px;\n",
              "    }\n",
              "\n",
              "    .colab-df-convert {\n",
              "      background-color: #E8F0FE;\n",
              "      border: none;\n",
              "      border-radius: 50%;\n",
              "      cursor: pointer;\n",
              "      display: none;\n",
              "      fill: #1967D2;\n",
              "      height: 32px;\n",
              "      padding: 0 0 0 0;\n",
              "      width: 32px;\n",
              "    }\n",
              "\n",
              "    .colab-df-convert:hover {\n",
              "      background-color: #E2EBFA;\n",
              "      box-shadow: 0px 1px 2px rgba(60, 64, 67, 0.3), 0px 1px 3px 1px rgba(60, 64, 67, 0.15);\n",
              "      fill: #174EA6;\n",
              "    }\n",
              "\n",
              "    .colab-df-buttons div {\n",
              "      margin-bottom: 4px;\n",
              "    }\n",
              "\n",
              "    [theme=dark] .colab-df-convert {\n",
              "      background-color: #3B4455;\n",
              "      fill: #D2E3FC;\n",
              "    }\n",
              "\n",
              "    [theme=dark] .colab-df-convert:hover {\n",
              "      background-color: #434B5C;\n",
              "      box-shadow: 0px 1px 3px 1px rgba(0, 0, 0, 0.15);\n",
              "      filter: drop-shadow(0px 1px 2px rgba(0, 0, 0, 0.3));\n",
              "      fill: #FFFFFF;\n",
              "    }\n",
              "  </style>\n",
              "\n",
              "    <script>\n",
              "      const buttonEl =\n",
              "        document.querySelector('#df-860f42c4-e5f3-414c-9fdc-b145978e6b95 button.colab-df-convert');\n",
              "      buttonEl.style.display =\n",
              "        google.colab.kernel.accessAllowed ? 'block' : 'none';\n",
              "\n",
              "      async function convertToInteractive(key) {\n",
              "        const element = document.querySelector('#df-860f42c4-e5f3-414c-9fdc-b145978e6b95');\n",
              "        const dataTable =\n",
              "          await google.colab.kernel.invokeFunction('convertToInteractive',\n",
              "                                                    [key], {});\n",
              "        if (!dataTable) return;\n",
              "\n",
              "        const docLinkHtml = 'Like what you see? Visit the ' +\n",
              "          '<a target=\"_blank\" href=https://colab.research.google.com/notebooks/data_table.ipynb>data table notebook</a>'\n",
              "          + ' to learn more about interactive tables.';\n",
              "        element.innerHTML = '';\n",
              "        dataTable['output_type'] = 'display_data';\n",
              "        await google.colab.output.renderOutput(dataTable, element);\n",
              "        const docLink = document.createElement('div');\n",
              "        docLink.innerHTML = docLinkHtml;\n",
              "        element.appendChild(docLink);\n",
              "      }\n",
              "    </script>\n",
              "  </div>\n",
              "\n",
              "\n",
              "<div id=\"df-1e474944-776e-429d-9def-b6d172f3e2d2\">\n",
              "  <button class=\"colab-df-quickchart\" onclick=\"quickchart('df-1e474944-776e-429d-9def-b6d172f3e2d2')\"\n",
              "            title=\"Suggest charts\"\n",
              "            style=\"display:none;\">\n",
              "\n",
              "<svg xmlns=\"http://www.w3.org/2000/svg\" height=\"24px\"viewBox=\"0 0 24 24\"\n",
              "     width=\"24px\">\n",
              "    <g>\n",
              "        <path d=\"M19 3H5c-1.1 0-2 .9-2 2v14c0 1.1.9 2 2 2h14c1.1 0 2-.9 2-2V5c0-1.1-.9-2-2-2zM9 17H7v-7h2v7zm4 0h-2V7h2v10zm4 0h-2v-4h2v4z\"/>\n",
              "    </g>\n",
              "</svg>\n",
              "  </button>\n",
              "\n",
              "<style>\n",
              "  .colab-df-quickchart {\n",
              "      --bg-color: #E8F0FE;\n",
              "      --fill-color: #1967D2;\n",
              "      --hover-bg-color: #E2EBFA;\n",
              "      --hover-fill-color: #174EA6;\n",
              "      --disabled-fill-color: #AAA;\n",
              "      --disabled-bg-color: #DDD;\n",
              "  }\n",
              "\n",
              "  [theme=dark] .colab-df-quickchart {\n",
              "      --bg-color: #3B4455;\n",
              "      --fill-color: #D2E3FC;\n",
              "      --hover-bg-color: #434B5C;\n",
              "      --hover-fill-color: #FFFFFF;\n",
              "      --disabled-bg-color: #3B4455;\n",
              "      --disabled-fill-color: #666;\n",
              "  }\n",
              "\n",
              "  .colab-df-quickchart {\n",
              "    background-color: var(--bg-color);\n",
              "    border: none;\n",
              "    border-radius: 50%;\n",
              "    cursor: pointer;\n",
              "    display: none;\n",
              "    fill: var(--fill-color);\n",
              "    height: 32px;\n",
              "    padding: 0;\n",
              "    width: 32px;\n",
              "  }\n",
              "\n",
              "  .colab-df-quickchart:hover {\n",
              "    background-color: var(--hover-bg-color);\n",
              "    box-shadow: 0 1px 2px rgba(60, 64, 67, 0.3), 0 1px 3px 1px rgba(60, 64, 67, 0.15);\n",
              "    fill: var(--button-hover-fill-color);\n",
              "  }\n",
              "\n",
              "  .colab-df-quickchart-complete:disabled,\n",
              "  .colab-df-quickchart-complete:disabled:hover {\n",
              "    background-color: var(--disabled-bg-color);\n",
              "    fill: var(--disabled-fill-color);\n",
              "    box-shadow: none;\n",
              "  }\n",
              "\n",
              "  .colab-df-spinner {\n",
              "    border: 2px solid var(--fill-color);\n",
              "    border-color: transparent;\n",
              "    border-bottom-color: var(--fill-color);\n",
              "    animation:\n",
              "      spin 1s steps(1) infinite;\n",
              "  }\n",
              "\n",
              "  @keyframes spin {\n",
              "    0% {\n",
              "      border-color: transparent;\n",
              "      border-bottom-color: var(--fill-color);\n",
              "      border-left-color: var(--fill-color);\n",
              "    }\n",
              "    20% {\n",
              "      border-color: transparent;\n",
              "      border-left-color: var(--fill-color);\n",
              "      border-top-color: var(--fill-color);\n",
              "    }\n",
              "    30% {\n",
              "      border-color: transparent;\n",
              "      border-left-color: var(--fill-color);\n",
              "      border-top-color: var(--fill-color);\n",
              "      border-right-color: var(--fill-color);\n",
              "    }\n",
              "    40% {\n",
              "      border-color: transparent;\n",
              "      border-right-color: var(--fill-color);\n",
              "      border-top-color: var(--fill-color);\n",
              "    }\n",
              "    60% {\n",
              "      border-color: transparent;\n",
              "      border-right-color: var(--fill-color);\n",
              "    }\n",
              "    80% {\n",
              "      border-color: transparent;\n",
              "      border-right-color: var(--fill-color);\n",
              "      border-bottom-color: var(--fill-color);\n",
              "    }\n",
              "    90% {\n",
              "      border-color: transparent;\n",
              "      border-bottom-color: var(--fill-color);\n",
              "    }\n",
              "  }\n",
              "</style>\n",
              "\n",
              "  <script>\n",
              "    async function quickchart(key) {\n",
              "      const quickchartButtonEl =\n",
              "        document.querySelector('#' + key + ' button');\n",
              "      quickchartButtonEl.disabled = true;  // To prevent multiple clicks.\n",
              "      quickchartButtonEl.classList.add('colab-df-spinner');\n",
              "      try {\n",
              "        const charts = await google.colab.kernel.invokeFunction(\n",
              "            'suggestCharts', [key], {});\n",
              "      } catch (error) {\n",
              "        console.error('Error during call to suggestCharts:', error);\n",
              "      }\n",
              "      quickchartButtonEl.classList.remove('colab-df-spinner');\n",
              "      quickchartButtonEl.classList.add('colab-df-quickchart-complete');\n",
              "    }\n",
              "    (() => {\n",
              "      let quickchartButtonEl =\n",
              "        document.querySelector('#df-1e474944-776e-429d-9def-b6d172f3e2d2 button');\n",
              "      quickchartButtonEl.style.display =\n",
              "        google.colab.kernel.accessAllowed ? 'block' : 'none';\n",
              "    })();\n",
              "  </script>\n",
              "</div>\n",
              "\n",
              "  <div id=\"id_7049c100-e0cd-4b79-913d-cd9c926b6c42\">\n",
              "    <style>\n",
              "      .colab-df-generate {\n",
              "        background-color: #E8F0FE;\n",
              "        border: none;\n",
              "        border-radius: 50%;\n",
              "        cursor: pointer;\n",
              "        display: none;\n",
              "        fill: #1967D2;\n",
              "        height: 32px;\n",
              "        padding: 0 0 0 0;\n",
              "        width: 32px;\n",
              "      }\n",
              "\n",
              "      .colab-df-generate:hover {\n",
              "        background-color: #E2EBFA;\n",
              "        box-shadow: 0px 1px 2px rgba(60, 64, 67, 0.3), 0px 1px 3px 1px rgba(60, 64, 67, 0.15);\n",
              "        fill: #174EA6;\n",
              "      }\n",
              "\n",
              "      [theme=dark] .colab-df-generate {\n",
              "        background-color: #3B4455;\n",
              "        fill: #D2E3FC;\n",
              "      }\n",
              "\n",
              "      [theme=dark] .colab-df-generate:hover {\n",
              "        background-color: #434B5C;\n",
              "        box-shadow: 0px 1px 3px 1px rgba(0, 0, 0, 0.15);\n",
              "        filter: drop-shadow(0px 1px 2px rgba(0, 0, 0, 0.3));\n",
              "        fill: #FFFFFF;\n",
              "      }\n",
              "    </style>\n",
              "    <button class=\"colab-df-generate\" onclick=\"generateWithVariable('df')\"\n",
              "            title=\"Generate code using this dataframe.\"\n",
              "            style=\"display:none;\">\n",
              "\n",
              "  <svg xmlns=\"http://www.w3.org/2000/svg\" height=\"24px\"viewBox=\"0 0 24 24\"\n",
              "       width=\"24px\">\n",
              "    <path d=\"M7,19H8.4L18.45,9,17,7.55,7,17.6ZM5,21V16.75L18.45,3.32a2,2,0,0,1,2.83,0l1.4,1.43a1.91,1.91,0,0,1,.58,1.4,1.91,1.91,0,0,1-.58,1.4L9.25,21ZM18.45,9,17,7.55Zm-12,3A5.31,5.31,0,0,0,4.9,8.1,5.31,5.31,0,0,0,1,6.5,5.31,5.31,0,0,0,4.9,4.9,5.31,5.31,0,0,0,6.5,1,5.31,5.31,0,0,0,8.1,4.9,5.31,5.31,0,0,0,12,6.5,5.46,5.46,0,0,0,6.5,12Z\"/>\n",
              "  </svg>\n",
              "    </button>\n",
              "    <script>\n",
              "      (() => {\n",
              "      const buttonEl =\n",
              "        document.querySelector('#id_7049c100-e0cd-4b79-913d-cd9c926b6c42 button.colab-df-generate');\n",
              "      buttonEl.style.display =\n",
              "        google.colab.kernel.accessAllowed ? 'block' : 'none';\n",
              "\n",
              "      buttonEl.onclick = () => {\n",
              "        google.colab.notebook.generateWithVariable('df');\n",
              "      }\n",
              "      })();\n",
              "    </script>\n",
              "  </div>\n",
              "\n",
              "    </div>\n",
              "  </div>\n"
            ],
            "application/vnd.google.colaboratory.intrinsic+json": {
              "type": "dataframe",
              "variable_name": "df",
              "summary": "{\n  \"name\": \"df\",\n  \"rows\": 315,\n  \"fields\": [\n    {\n      \"column\": \"date\",\n      \"properties\": {\n        \"dtype\": \"object\",\n        \"num_unique_values\": 315,\n        \"samples\": [\n          \"2024-01-23T00:00:00\",\n          \"2023-08-03T00:00:00\",\n          \"2023-12-11T00:00:00\"\n        ],\n        \"semantic_type\": \"\",\n        \"description\": \"\"\n      }\n    },\n    {\n      \"column\": \"datatype\",\n      \"properties\": {\n        \"dtype\": \"category\",\n        \"num_unique_values\": 1,\n        \"samples\": [\n          \"TAVG\"\n        ],\n        \"semantic_type\": \"\",\n        \"description\": \"\"\n      }\n    },\n    {\n      \"column\": \"station\",\n      \"properties\": {\n        \"dtype\": \"category\",\n        \"num_unique_values\": 1,\n        \"samples\": [\n          \"GHCND:USW00094846\"\n        ],\n        \"semantic_type\": \"\",\n        \"description\": \"\"\n      }\n    },\n    {\n      \"column\": \"attributes\",\n      \"properties\": {\n        \"dtype\": \"category\",\n        \"num_unique_values\": 1,\n        \"samples\": [\n          \"H,,S,\"\n        ],\n        \"semantic_type\": \"\",\n        \"description\": \"\"\n      }\n    },\n    {\n      \"column\": \"value\",\n      \"properties\": {\n        \"dtype\": \"number\",\n        \"std\": 99,\n        \"min\": -216,\n        \"max\": 323,\n        \"num_unique_values\": 207,\n        \"samples\": [\n          30\n        ],\n        \"semantic_type\": \"\",\n        \"description\": \"\"\n      }\n    }\n  ]\n}"
            }
          },
          "metadata": {},
          "execution_count": 8
        }
      ]
    },
    {
      "cell_type": "markdown",
      "source": [
        "## 3.1 Perform a quick plot of the data\n",
        "- We note the data seems off by an order of magnitude."
      ],
      "metadata": {
        "id": "HAUQraNBFeHB"
      }
    },
    {
      "cell_type": "code",
      "source": [
        "df['value'].plot()"
      ],
      "metadata": {
        "colab": {
          "base_uri": "https://localhost:8080/",
          "height": 448
        },
        "id": "90TeE71iEghM",
        "outputId": "e5a7ca0f-b6ef-402a-b687-5a7a9bd46e81"
      },
      "execution_count": 9,
      "outputs": [
        {
          "output_type": "execute_result",
          "data": {
            "text/plain": [
              "<Axes: >"
            ]
          },
          "metadata": {},
          "execution_count": 9
        },
        {
          "output_type": "display_data",
          "data": {
            "text/plain": [
              "<Figure size 640x480 with 1 Axes>"
            ],
            "image/png": "[encoded data removed]"
          },
          "metadata": {}
        }
      ]
    },
    {
      "cell_type": "markdown",
      "source": [
        "## 3.2 Convert data to deg. F\n",
        "A little research shows the data is provided in deg. C but with no decimal. Possibly for saving storage and trasmission."
      ],
      "metadata": {
        "id": "Z6bIjY3-FtAF"
      }
    },
    {
      "cell_type": "code",
      "source": [
        "df['temp']= (df['value']/10* 9/5) + 32"
      ],
      "metadata": {
        "id": "tj_ZqTlhE3Yt"
      },
      "execution_count": 10,
      "outputs": []
    },
    {
      "cell_type": "code",
      "source": [
        "df.head()"
      ],
      "metadata": {
        "colab": {
          "base_uri": "https://localhost:8080/",
          "height": 293
        },
        "id": "eoWy16-gFLUs",
        "outputId": "6ca346bb-c970-4f6d-f36d-7741c188a941"
      },
      "execution_count": 11,
      "outputs": [
        {
          "output_type": "execute_result",
          "data": {
            "text/plain": [
              "                  date datatype            station attributes  value   temp\n",
              "0  2023-07-01T00:00:00     TAVG  GHCND:USW00094846      H,,S,    256  78.08\n",
              "1  2023-07-02T00:00:00     TAVG  GHCND:USW00094846      H,,S,    217  71.06\n",
              "2  2023-07-03T00:00:00     TAVG  GHCND:USW00094846      H,,S,    232  73.76\n",
              "3  2023-07-04T00:00:00     TAVG  GHCND:USW00094846      H,,S,    267  80.06\n",
              "4  2023-07-05T00:00:00     TAVG  GHCND:USW00094846      H,,S,    278  82.04"
            ],
            "text/html": [
              "\n",
              "  <div id=\"df-99562fa5-0b99-406e-ac76-149e8010ad1c\" class=\"colab-df-container\">\n",
              "    <div>\n",
              "<style scoped>\n",
              "    .dataframe tbody tr th:only-of-type {\n",
              "        vertical-align: middle;\n",
              "    }\n",
              "\n",
              "    .dataframe tbody tr th {\n",
              "        vertical-align: top;\n",
              "    }\n",
              "\n",
              "    .dataframe thead th {\n",
              "        text-align: right;\n",
              "    }\n",
              "</style>\n",
              "<table border=\"1\" class=\"dataframe\">\n",
              "  <thead>\n",
              "    <tr style=\"text-align: right;\">\n",
              "      <th></th>\n",
              "      <th>date</th>\n",
              "      <th>datatype</th>\n",
              "      <th>station</th>\n",
              "      <th>attributes</th>\n",
              "      <th>value</th>\n",
              "      <th>temp</th>\n",
              "    </tr>\n",
              "  </thead>\n",
              "  <tbody>\n",
              "    <tr>\n",
              "      <th>0</th>\n",
              "      <td>2023-07-01T00:00:00</td>\n",
              "      <td>TAVG</td>\n",
              "      <td>GHCND:USW00094846</td>\n",
              "      <td>H,,S,</td>\n",
              "      <td>256</td>\n",
              "      <td>78.08</td>\n",
              "    </tr>\n",
              "    <tr>\n",
              "      <th>1</th>\n",
              "      <td>2023-07-02T00:00:00</td>\n",
              "      <td>TAVG</td>\n",
              "      <td>GHCND:USW00094846</td>\n",
              "      <td>H,,S,</td>\n",
              "      <td>217</td>\n",
              "      <td>71.06</td>\n",
              "    </tr>\n",
              "    <tr>\n",
              "      <th>2</th>\n",
              "      <td>2023-07-03T00:00:00</td>\n",
              "      <td>TAVG</td>\n",
              "      <td>GHCND:USW00094846</td>\n",
              "      <td>H,,S,</td>\n",
              "      <td>232</td>\n",
              "      <td>73.76</td>\n",
              "    </tr>\n",
              "    <tr>\n",
              "      <th>3</th>\n",
              "      <td>2023-07-04T00:00:00</td>\n",
              "      <td>TAVG</td>\n",
              "      <td>GHCND:USW00094846</td>\n",
              "      <td>H,,S,</td>\n",
              "      <td>267</td>\n",
              "      <td>80.06</td>\n",
              "    </tr>\n",
              "    <tr>\n",
              "      <th>4</th>\n",
              "      <td>2023-07-05T00:00:00</td>\n",
              "      <td>TAVG</td>\n",
              "      <td>GHCND:USW00094846</td>\n",
              "      <td>H,,S,</td>\n",
              "      <td>278</td>\n",
              "      <td>82.04</td>\n",
              "    </tr>\n",
              "  </tbody>\n",
              "</table>\n",
              "</div>\n",
              "    <div class=\"colab-df-buttons\">\n",
              "\n",
              "  <div class=\"colab-df-container\">\n",
              "    <button class=\"colab-df-convert\" onclick=\"convertToInteractive('df-99562fa5-0b99-406e-ac76-149e8010ad1c')\"\n",
              "            title=\"Convert this dataframe to an interactive table.\"\n",
              "            style=\"display:none;\">\n",
              "\n",
              "  <svg xmlns=\"http://www.w3.org/2000/svg\" height=\"24px\" viewBox=\"0 -960 960 960\">\n",
              "    <path d=\"M120-120v-720h720v720H120Zm60-500h600v-160H180v160Zm220 220h160v-160H400v160Zm0 220h160v-160H400v160ZM180-400h160v-160H180v160Zm440 0h160v-160H620v160ZM180-180h160v-160H180v160Zm440 0h160v-160H620v160Z\"/>\n",
              "  </svg>\n",
              "    </button>\n",
              "\n",
              "  <style>\n",
              "    .colab-df-container {\n",
              "      display:flex;\n",
              "      gap: 12px;\n",
              "    }\n",
              "\n",
              "    .colab-df-convert {\n",
              "      background-color: #E8F0FE;\n",
              "      border: none;\n",
              "      border-radius: 50%;\n",
              "      cursor: pointer;\n",
              "      display: none;\n",
              "      fill: #1967D2;\n",
              "      height: 32px;\n",
              "      padding: 0 0 0 0;\n",
              "      width: 32px;\n",
              "    }\n",
              "\n",
              "    .colab-df-convert:hover {\n",
              "      background-color: #E2EBFA;\n",
              "      box-shadow: 0px 1px 2px rgba(60, 64, 67, 0.3), 0px 1px 3px 1px rgba(60, 64, 67, 0.15);\n",
              "      fill: #174EA6;\n",
              "    }\n",
              "\n",
              "    .colab-df-buttons div {\n",
              "      margin-bottom: 4px;\n",
              "    }\n",
              "\n",
              "    [theme=dark] .colab-df-convert {\n",
              "      background-color: #3B4455;\n",
              "      fill: #D2E3FC;\n",
              "    }\n",
              "\n",
              "    [theme=dark] .colab-df-convert:hover {\n",
              "      background-color: #434B5C;\n",
              "      box-shadow: 0px 1px 3px 1px rgba(0, 0, 0, 0.15);\n",
              "      filter: drop-shadow(0px 1px 2px rgba(0, 0, 0, 0.3));\n",
              "      fill: #FFFFFF;\n",
              "    }\n",
              "  </style>\n",
              "\n",
              "    <script>\n",
              "      const buttonEl =\n",
              "        document.querySelector('#df-99562fa5-0b99-406e-ac76-149e8010ad1c button.colab-df-convert');\n",
              "      buttonEl.style.display =\n",
              "        google.colab.kernel.accessAllowed ? 'block' : 'none';\n",
              "\n",
              "      async function convertToInteractive(key) {\n",
              "        const element = document.querySelector('#df-99562fa5-0b99-406e-ac76-149e8010ad1c');\n",
              "        const dataTable =\n",
              "          await google.colab.kernel.invokeFunction('convertToInteractive',\n",
              "                                                    [key], {});\n",
              "        if (!dataTable) return;\n",
              "\n",
              "        const docLinkHtml = 'Like what you see? Visit the ' +\n",
              "          '<a target=\"_blank\" href=https://colab.research.google.com/notebooks/data_table.ipynb>data table notebook</a>'\n",
              "          + ' to learn more about interactive tables.';\n",
              "        element.innerHTML = '';\n",
              "        dataTable['output_type'] = 'display_data';\n",
              "        await google.colab.output.renderOutput(dataTable, element);\n",
              "        const docLink = document.createElement('div');\n",
              "        docLink.innerHTML = docLinkHtml;\n",
              "        element.appendChild(docLink);\n",
              "      }\n",
              "    </script>\n",
              "  </div>\n",
              "\n",
              "\n",
              "<div id=\"df-88f08320-1ed4-4e69-b471-e74b40b3509c\">\n",
              "  <button class=\"colab-df-quickchart\" onclick=\"quickchart('df-88f08320-1ed4-4e69-b471-e74b40b3509c')\"\n",
              "            title=\"Suggest charts\"\n",
              "            style=\"display:none;\">\n",
              "\n",
              "<svg xmlns=\"http://www.w3.org/2000/svg\" height=\"24px\"viewBox=\"0 0 24 24\"\n",
              "     width=\"24px\">\n",
              "    <g>\n",
              "        <path d=\"M19 3H5c-1.1 0-2 .9-2 2v14c0 1.1.9 2 2 2h14c1.1 0 2-.9 2-2V5c0-1.1-.9-2-2-2zM9 17H7v-7h2v7zm4 0h-2V7h2v10zm4 0h-2v-4h2v4z\"/>\n",
              "    </g>\n",
              "</svg>\n",
              "  </button>\n",
              "\n",
              "<style>\n",
              "  .colab-df-quickchart {\n",
              "      --bg-color: #E8F0FE;\n",
              "      --fill-color: #1967D2;\n",
              "      --hover-bg-color: #E2EBFA;\n",
              "      --hover-fill-color: #174EA6;\n",
              "      --disabled-fill-color: #AAA;\n",
              "      --disabled-bg-color: #DDD;\n",
              "  }\n",
              "\n",
              "  [theme=dark] .colab-df-quickchart {\n",
              "      --bg-color: #3B4455;\n",
              "      --fill-color: #D2E3FC;\n",
              "      --hover-bg-color: #434B5C;\n",
              "      --hover-fill-color: #FFFFFF;\n",
              "      --disabled-bg-color: #3B4455;\n",
              "      --disabled-fill-color: #666;\n",
              "  }\n",
              "\n",
              "  .colab-df-quickchart {\n",
              "    background-color: var(--bg-color);\n",
              "    border: none;\n",
              "    border-radius: 50%;\n",
              "    cursor: pointer;\n",
              "    display: none;\n",
              "    fill: var(--fill-color);\n",
              "    height: 32px;\n",
              "    padding: 0;\n",
              "    width: 32px;\n",
              "  }\n",
              "\n",
              "  .colab-df-quickchart:hover {\n",
              "    background-color: var(--hover-bg-color);\n",
              "    box-shadow: 0 1px 2px rgba(60, 64, 67, 0.3), 0 1px 3px 1px rgba(60, 64, 67, 0.15);\n",
              "    fill: var(--button-hover-fill-color);\n",
              "  }\n",
              "\n",
              "  .colab-df-quickchart-complete:disabled,\n",
              "  .colab-df-quickchart-complete:disabled:hover {\n",
              "    background-color: var(--disabled-bg-color);\n",
              "    fill: var(--disabled-fill-color);\n",
              "    box-shadow: none;\n",
              "  }\n",
              "\n",
              "  .colab-df-spinner {\n",
              "    border: 2px solid var(--fill-color);\n",
              "    border-color: transparent;\n",
              "    border-bottom-color: var(--fill-color);\n",
              "    animation:\n",
              "      spin 1s steps(1) infinite;\n",
              "  }\n",
              "\n",
              "  @keyframes spin {\n",
              "    0% {\n",
              "      border-color: transparent;\n",
              "      border-bottom-color: var(--fill-color);\n",
              "      border-left-color: var(--fill-color);\n",
              "    }\n",
              "    20% {\n",
              "      border-color: transparent;\n",
              "      border-left-color: var(--fill-color);\n",
              "      border-top-color: var(--fill-color);\n",
              "    }\n",
              "    30% {\n",
              "      border-color: transparent;\n",
              "      border-left-color: var(--fill-color);\n",
              "      border-top-color: var(--fill-color);\n",
              "      border-right-color: var(--fill-color);\n",
              "    }\n",
              "    40% {\n",
              "      border-color: transparent;\n",
              "      border-right-color: var(--fill-color);\n",
              "      border-top-color: var(--fill-color);\n",
              "    }\n",
              "    60% {\n",
              "      border-color: transparent;\n",
              "      border-right-color: var(--fill-color);\n",
              "    }\n",
              "    80% {\n",
              "      border-color: transparent;\n",
              "      border-right-color: var(--fill-color);\n",
              "      border-bottom-color: var(--fill-color);\n",
              "    }\n",
              "    90% {\n",
              "      border-color: transparent;\n",
              "      border-bottom-color: var(--fill-color);\n",
              "    }\n",
              "  }\n",
              "</style>\n",
              "\n",
              "  <script>\n",
              "    async function quickchart(key) {\n",
              "      const quickchartButtonEl =\n",
              "        document.querySelector('#' + key + ' button');\n",
              "      quickchartButtonEl.disabled = true;  // To prevent multiple clicks.\n",
              "      quickchartButtonEl.classList.add('colab-df-spinner');\n",
              "      try {\n",
              "        const charts = await google.colab.kernel.invokeFunction(\n",
              "            'suggestCharts', [key], {});\n",
              "      } catch (error) {\n",
              "        console.error('Error during call to suggestCharts:', error);\n",
              "      }\n",
              "      quickchartButtonEl.classList.remove('colab-df-spinner');\n",
              "      quickchartButtonEl.classList.add('colab-df-quickchart-complete');\n",
              "    }\n",
              "    (() => {\n",
              "      let quickchartButtonEl =\n",
              "        document.querySelector('#df-88f08320-1ed4-4e69-b471-e74b40b3509c button');\n",
              "      quickchartButtonEl.style.display =\n",
              "        google.colab.kernel.accessAllowed ? 'block' : 'none';\n",
              "    })();\n",
              "  </script>\n",
              "</div>\n",
              "\n",
              "    </div>\n",
              "  </div>\n"
            ],
            "application/vnd.google.colaboratory.intrinsic+json": {
              "type": "dataframe",
              "variable_name": "df",
              "summary": "{\n  \"name\": \"df\",\n  \"rows\": 315,\n  \"fields\": [\n    {\n      \"column\": \"date\",\n      \"properties\": {\n        \"dtype\": \"object\",\n        \"num_unique_values\": 315,\n        \"samples\": [\n          \"2024-01-23T00:00:00\",\n          \"2023-08-03T00:00:00\",\n          \"2023-12-11T00:00:00\"\n        ],\n        \"semantic_type\": \"\",\n        \"description\": \"\"\n      }\n    },\n    {\n      \"column\": \"datatype\",\n      \"properties\": {\n        \"dtype\": \"category\",\n        \"num_unique_values\": 1,\n        \"samples\": [\n          \"TAVG\"\n        ],\n        \"semantic_type\": \"\",\n        \"description\": \"\"\n      }\n    },\n    {\n      \"column\": \"station\",\n      \"properties\": {\n        \"dtype\": \"category\",\n        \"num_unique_values\": 1,\n        \"samples\": [\n          \"GHCND:USW00094846\"\n        ],\n        \"semantic_type\": \"\",\n        \"description\": \"\"\n      }\n    },\n    {\n      \"column\": \"attributes\",\n      \"properties\": {\n        \"dtype\": \"category\",\n        \"num_unique_values\": 1,\n        \"samples\": [\n          \"H,,S,\"\n        ],\n        \"semantic_type\": \"\",\n        \"description\": \"\"\n      }\n    },\n    {\n      \"column\": \"value\",\n      \"properties\": {\n        \"dtype\": \"number\",\n        \"std\": 99,\n        \"min\": -216,\n        \"max\": 323,\n        \"num_unique_values\": 207,\n        \"samples\": [\n          30\n        ],\n        \"semantic_type\": \"\",\n        \"description\": \"\"\n      }\n    },\n    {\n      \"column\": \"temp\",\n      \"properties\": {\n        \"dtype\": \"number\",\n        \"std\": 17.871716299619507,\n        \"min\": -6.880000000000003,\n        \"max\": 90.14,\n        \"num_unique_values\": 207,\n        \"samples\": [\n          37.4\n        ],\n        \"semantic_type\": \"\",\n        \"description\": \"\"\n      }\n    }\n  ]\n}"
            }
          },
          "metadata": {},
          "execution_count": 11
        }
      ]
    },
    {
      "cell_type": "code",
      "source": [
        "df['temp'].plot()"
      ],
      "metadata": {
        "colab": {
          "base_uri": "https://localhost:8080/",
          "height": 448
        },
        "id": "-CDlqUFVFNDI",
        "outputId": "647ffb2b-e4ed-4c40-b2e6-5be5926175d5"
      },
      "execution_count": 12,
      "outputs": [
        {
          "output_type": "execute_result",
          "data": {
            "text/plain": [
              "<Axes: >"
            ]
          },
          "metadata": {},
          "execution_count": 12
        },
        {
          "output_type": "display_data",
          "data": {
            "text/plain": [
              "<Figure size 640x480 with 1 Axes>"
            ],
            "image/png": "[encoded data removed]"
          },
          "metadata": {}
        }
      ]
    },
    {
      "cell_type": "markdown",
      "source": [
        "## 3.3 Update index and pull a subset into a dataframe\n",
        "We are only interested in the temperature data"
      ],
      "metadata": {
        "id": "MQ8t0RvRGTFq"
      }
    },
    {
      "cell_type": "code",
      "source": [
        "df.set_index('date', inplace=True)"
      ],
      "metadata": {
        "id": "mJ9rdzmfFS7I"
      },
      "execution_count": 13,
      "outputs": []
    },
    {
      "cell_type": "markdown",
      "source": [
        "Make a new dataframe chicago and just pull in 'temp'. Note the index is the date and we do not need to specifically request it."
      ],
      "metadata": {
        "id": "_eyraN9mGdX8"
      }
    },
    {
      "cell_type": "code",
      "source": [
        "chicago= df[['temp']]"
      ],
      "metadata": {
        "id": "O9ABL0mOFnEY"
      },
      "execution_count": 14,
      "outputs": []
    },
    {
      "cell_type": "code",
      "source": [
        "chicago"
      ],
      "metadata": {
        "colab": {
          "base_uri": "https://localhost:8080/",
          "height": 455
        },
        "id": "mgFRBNG1F8Do",
        "outputId": "ecf4f0be-e832-49be-c2ee-0edfd03941cd"
      },
      "execution_count": 15,
      "outputs": [
        {
          "output_type": "execute_result",
          "data": {
            "text/plain": [
              "                      temp\n",
              "date                      \n",
              "2023-07-01T00:00:00  78.08\n",
              "2023-07-02T00:00:00  71.06\n",
              "2023-07-03T00:00:00  73.76\n",
              "2023-07-04T00:00:00  80.06\n",
              "2023-07-05T00:00:00  82.04\n",
              "...                    ...\n",
              "2024-05-06T00:00:00  58.10\n",
              "2024-05-07T00:00:00  65.30\n",
              "2024-05-08T00:00:00  66.74\n",
              "2024-05-09T00:00:00  58.82\n",
              "2024-05-10T00:00:00  55.04\n",
              "\n",
              "[315 rows x 1 columns]"
            ],
            "text/html": [
              "\n",
              "  <div id=\"df-08552a94-3758-47e7-a2de-f6d905057d06\" class=\"colab-df-container\">\n",
              "    <div>\n",
              "<style scoped>\n",
              "    .dataframe tbody tr th:only-of-type {\n",
              "        vertical-align: middle;\n",
              "    }\n",
              "\n",
              "    .dataframe tbody tr th {\n",
              "        vertical-align: top;\n",
              "    }\n",
              "\n",
              "    .dataframe thead th {\n",
              "        text-align: right;\n",
              "    }\n",
              "</style>\n",
              "<table border=\"1\" class=\"dataframe\">\n",
              "  <thead>\n",
              "    <tr style=\"text-align: right;\">\n",
              "      <th></th>\n",
              "      <th>temp</th>\n",
              "    </tr>\n",
              "    <tr>\n",
              "      <th>date</th>\n",
              "      <th></th>\n",
              "    </tr>\n",
              "  </thead>\n",
              "  <tbody>\n",
              "    <tr>\n",
              "      <th>2023-07-01T00:00:00</th>\n",
              "      <td>78.08</td>\n",
              "    </tr>\n",
              "    <tr>\n",
              "      <th>2023-07-02T00:00:00</th>\n",
              "      <td>71.06</td>\n",
              "    </tr>\n",
              "    <tr>\n",
              "      <th>2023-07-03T00:00:00</th>\n",
              "      <td>73.76</td>\n",
              "    </tr>\n",
              "    <tr>\n",
              "      <th>2023-07-04T00:00:00</th>\n",
              "      <td>80.06</td>\n",
              "    </tr>\n",
              "    <tr>\n",
              "      <th>2023-07-05T00:00:00</th>\n",
              "      <td>82.04</td>\n",
              "    </tr>\n",
              "    <tr>\n",
              "      <th>...</th>\n",
              "      <td>...</td>\n",
              "    </tr>\n",
              "    <tr>\n",
              "      <th>2024-05-06T00:00:00</th>\n",
              "      <td>58.10</td>\n",
              "    </tr>\n",
              "    <tr>\n",
              "      <th>2024-05-07T00:00:00</th>\n",
              "      <td>65.30</td>\n",
              "    </tr>\n",
              "    <tr>\n",
              "      <th>2024-05-08T00:00:00</th>\n",
              "      <td>66.74</td>\n",
              "    </tr>\n",
              "    <tr>\n",
              "      <th>2024-05-09T00:00:00</th>\n",
              "      <td>58.82</td>\n",
              "    </tr>\n",
              "    <tr>\n",
              "      <th>2024-05-10T00:00:00</th>\n",
              "      <td>55.04</td>\n",
              "    </tr>\n",
              "  </tbody>\n",
              "</table>\n",
              "<p>315 rows × 1 columns</p>\n",
              "</div>\n",
              "    <div class=\"colab-df-buttons\">\n",
              "\n",
              "  <div class=\"colab-df-container\">\n",
              "    <button class=\"colab-df-convert\" onclick=\"convertToInteractive('df-08552a94-3758-47e7-a2de-f6d905057d06')\"\n",
              "            title=\"Convert this dataframe to an interactive table.\"\n",
              "            style=\"display:none;\">\n",
              "\n",
              "  <svg xmlns=\"http://www.w3.org/2000/svg\" height=\"24px\" viewBox=\"0 -960 960 960\">\n",
              "    <path d=\"M120-120v-720h720v720H120Zm60-500h600v-160H180v160Zm220 220h160v-160H400v160Zm0 220h160v-160H400v160ZM180-400h160v-160H180v160Zm440 0h160v-160H620v160ZM180-180h160v-160H180v160Zm440 0h160v-160H620v160Z\"/>\n",
              "  </svg>\n",
              "    </button>\n",
              "\n",
              "  <style>\n",
              "    .colab-df-container {\n",
              "      display:flex;\n",
              "      gap: 12px;\n",
              "    }\n",
              "\n",
              "    .colab-df-convert {\n",
              "      background-color: #E8F0FE;\n",
              "      border: none;\n",
              "      border-radius: 50%;\n",
              "      cursor: pointer;\n",
              "      display: none;\n",
              "      fill: #1967D2;\n",
              "      height: 32px;\n",
              "      padding: 0 0 0 0;\n",
              "      width: 32px;\n",
              "    }\n",
              "\n",
              "    .colab-df-convert:hover {\n",
              "      background-color: #E2EBFA;\n",
              "      box-shadow: 0px 1px 2px rgba(60, 64, 67, 0.3), 0px 1px 3px 1px rgba(60, 64, 67, 0.15);\n",
              "      fill: #174EA6;\n",
              "    }\n",
              "\n",
              "    .colab-df-buttons div {\n",
              "      margin-bottom: 4px;\n",
              "    }\n",
              "\n",
              "    [theme=dark] .colab-df-convert {\n",
              "      background-color: #3B4455;\n",
              "      fill: #D2E3FC;\n",
              "    }\n",
              "\n",
              "    [theme=dark] .colab-df-convert:hover {\n",
              "      background-color: #434B5C;\n",
              "      box-shadow: 0px 1px 3px 1px rgba(0, 0, 0, 0.15);\n",
              "      filter: drop-shadow(0px 1px 2px rgba(0, 0, 0, 0.3));\n",
              "      fill: #FFFFFF;\n",
              "    }\n",
              "  </style>\n",
              "\n",
              "    <script>\n",
              "      const buttonEl =\n",
              "        document.querySelector('#df-08552a94-3758-47e7-a2de-f6d905057d06 button.colab-df-convert');\n",
              "      buttonEl.style.display =\n",
              "        google.colab.kernel.accessAllowed ? 'block' : 'none';\n",
              "\n",
              "      async function convertToInteractive(key) {\n",
              "        const element = document.querySelector('#df-08552a94-3758-47e7-a2de-f6d905057d06');\n",
              "        const dataTable =\n",
              "          await google.colab.kernel.invokeFunction('convertToInteractive',\n",
              "                                                    [key], {});\n",
              "        if (!dataTable) return;\n",
              "\n",
              "        const docLinkHtml = 'Like what you see? Visit the ' +\n",
              "          '<a target=\"_blank\" href=https://colab.research.google.com/notebooks/data_table.ipynb>data table notebook</a>'\n",
              "          + ' to learn more about interactive tables.';\n",
              "        element.innerHTML = '';\n",
              "        dataTable['output_type'] = 'display_data';\n",
              "        await google.colab.output.renderOutput(dataTable, element);\n",
              "        const docLink = document.createElement('div');\n",
              "        docLink.innerHTML = docLinkHtml;\n",
              "        element.appendChild(docLink);\n",
              "      }\n",
              "    </script>\n",
              "  </div>\n",
              "\n",
              "\n",
              "<div id=\"df-8a89fff6-bc9f-4b4e-b7e3-05c39507b88f\">\n",
              "  <button class=\"colab-df-quickchart\" onclick=\"quickchart('df-8a89fff6-bc9f-4b4e-b7e3-05c39507b88f')\"\n",
              "            title=\"Suggest charts\"\n",
              "            style=\"display:none;\">\n",
              "\n",
              "<svg xmlns=\"http://www.w3.org/2000/svg\" height=\"24px\"viewBox=\"0 0 24 24\"\n",
              "     width=\"24px\">\n",
              "    <g>\n",
              "        <path d=\"M19 3H5c-1.1 0-2 .9-2 2v14c0 1.1.9 2 2 2h14c1.1 0 2-.9 2-2V5c0-1.1-.9-2-2-2zM9 17H7v-7h2v7zm4 0h-2V7h2v10zm4 0h-2v-4h2v4z\"/>\n",
              "    </g>\n",
              "</svg>\n",
              "  </button>\n",
              "\n",
              "<style>\n",
              "  .colab-df-quickchart {\n",
              "      --bg-color: #E8F0FE;\n",
              "      --fill-color: #1967D2;\n",
              "      --hover-bg-color: #E2EBFA;\n",
              "      --hover-fill-color: #174EA6;\n",
              "      --disabled-fill-color: #AAA;\n",
              "      --disabled-bg-color: #DDD;\n",
              "  }\n",
              "\n",
              "  [theme=dark] .colab-df-quickchart {\n",
              "      --bg-color: #3B4455;\n",
              "      --fill-color: #D2E3FC;\n",
              "      --hover-bg-color: #434B5C;\n",
              "      --hover-fill-color: #FFFFFF;\n",
              "      --disabled-bg-color: #3B4455;\n",
              "      --disabled-fill-color: #666;\n",
              "  }\n",
              "\n",
              "  .colab-df-quickchart {\n",
              "    background-color: var(--bg-color);\n",
              "    border: none;\n",
              "    border-radius: 50%;\n",
              "    cursor: pointer;\n",
              "    display: none;\n",
              "    fill: var(--fill-color);\n",
              "    height: 32px;\n",
              "    padding: 0;\n",
              "    width: 32px;\n",
              "  }\n",
              "\n",
              "  .colab-df-quickchart:hover {\n",
              "    background-color: var(--hover-bg-color);\n",
              "    box-shadow: 0 1px 2px rgba(60, 64, 67, 0.3), 0 1px 3px 1px rgba(60, 64, 67, 0.15);\n",
              "    fill: var(--button-hover-fill-color);\n",
              "  }\n",
              "\n",
              "  .colab-df-quickchart-complete:disabled,\n",
              "  .colab-df-quickchart-complete:disabled:hover {\n",
              "    background-color: var(--disabled-bg-color);\n",
              "    fill: var(--disabled-fill-color);\n",
              "    box-shadow: none;\n",
              "  }\n",
              "\n",
              "  .colab-df-spinner {\n",
              "    border: 2px solid var(--fill-color);\n",
              "    border-color: transparent;\n",
              "    border-bottom-color: var(--fill-color);\n",
              "    animation:\n",
              "      spin 1s steps(1) infinite;\n",
              "  }\n",
              "\n",
              "  @keyframes spin {\n",
              "    0% {\n",
              "      border-color: transparent;\n",
              "      border-bottom-color: var(--fill-color);\n",
              "      border-left-color: var(--fill-color);\n",
              "    }\n",
              "    20% {\n",
              "      border-color: transparent;\n",
              "      border-left-color: var(--fill-color);\n",
              "      border-top-color: var(--fill-color);\n",
              "    }\n",
              "    30% {\n",
              "      border-color: transparent;\n",
              "      border-left-color: var(--fill-color);\n",
              "      border-top-color: var(--fill-color);\n",
              "      border-right-color: var(--fill-color);\n",
              "    }\n",
              "    40% {\n",
              "      border-color: transparent;\n",
              "      border-right-color: var(--fill-color);\n",
              "      border-top-color: var(--fill-color);\n",
              "    }\n",
              "    60% {\n",
              "      border-color: transparent;\n",
              "      border-right-color: var(--fill-color);\n",
              "    }\n",
              "    80% {\n",
              "      border-color: transparent;\n",
              "      border-right-color: var(--fill-color);\n",
              "      border-bottom-color: var(--fill-color);\n",
              "    }\n",
              "    90% {\n",
              "      border-color: transparent;\n",
              "      border-bottom-color: var(--fill-color);\n",
              "    }\n",
              "  }\n",
              "</style>\n",
              "\n",
              "  <script>\n",
              "    async function quickchart(key) {\n",
              "      const quickchartButtonEl =\n",
              "        document.querySelector('#' + key + ' button');\n",
              "      quickchartButtonEl.disabled = true;  // To prevent multiple clicks.\n",
              "      quickchartButtonEl.classList.add('colab-df-spinner');\n",
              "      try {\n",
              "        const charts = await google.colab.kernel.invokeFunction(\n",
              "            'suggestCharts', [key], {});\n",
              "      } catch (error) {\n",
              "        console.error('Error during call to suggestCharts:', error);\n",
              "      }\n",
              "      quickchartButtonEl.classList.remove('colab-df-spinner');\n",
              "      quickchartButtonEl.classList.add('colab-df-quickchart-complete');\n",
              "    }\n",
              "    (() => {\n",
              "      let quickchartButtonEl =\n",
              "        document.querySelector('#df-8a89fff6-bc9f-4b4e-b7e3-05c39507b88f button');\n",
              "      quickchartButtonEl.style.display =\n",
              "        google.colab.kernel.accessAllowed ? 'block' : 'none';\n",
              "    })();\n",
              "  </script>\n",
              "</div>\n",
              "\n",
              "  <div id=\"id_bfc265c7-10b4-4037-b27e-633f66853f5a\">\n",
              "    <style>\n",
              "      .colab-df-generate {\n",
              "        background-color: #E8F0FE;\n",
              "        border: none;\n",
              "        border-radius: 50%;\n",
              "        cursor: pointer;\n",
              "        display: none;\n",
              "        fill: #1967D2;\n",
              "        height: 32px;\n",
              "        padding: 0 0 0 0;\n",
              "        width: 32px;\n",
              "      }\n",
              "\n",
              "      .colab-df-generate:hover {\n",
              "        background-color: #E2EBFA;\n",
              "        box-shadow: 0px 1px 2px rgba(60, 64, 67, 0.3), 0px 1px 3px 1px rgba(60, 64, 67, 0.15);\n",
              "        fill: #174EA6;\n",
              "      }\n",
              "\n",
              "      [theme=dark] .colab-df-generate {\n",
              "        background-color: #3B4455;\n",
              "        fill: #D2E3FC;\n",
              "      }\n",
              "\n",
              "      [theme=dark] .colab-df-generate:hover {\n",
              "        background-color: #434B5C;\n",
              "        box-shadow: 0px 1px 3px 1px rgba(0, 0, 0, 0.15);\n",
              "        filter: drop-shadow(0px 1px 2px rgba(0, 0, 0, 0.3));\n",
              "        fill: #FFFFFF;\n",
              "      }\n",
              "    </style>\n",
              "    <button class=\"colab-df-generate\" onclick=\"generateWithVariable('chicago')\"\n",
              "            title=\"Generate code using this dataframe.\"\n",
              "            style=\"display:none;\">\n",
              "\n",
              "  <svg xmlns=\"http://www.w3.org/2000/svg\" height=\"24px\"viewBox=\"0 0 24 24\"\n",
              "       width=\"24px\">\n",
              "    <path d=\"M7,19H8.4L18.45,9,17,7.55,7,17.6ZM5,21V16.75L18.45,3.32a2,2,0,0,1,2.83,0l1.4,1.43a1.91,1.91,0,0,1,.58,1.4,1.91,1.91,0,0,1-.58,1.4L9.25,21ZM18.45,9,17,7.55Zm-12,3A5.31,5.31,0,0,0,4.9,8.1,5.31,5.31,0,0,0,1,6.5,5.31,5.31,0,0,0,4.9,4.9,5.31,5.31,0,0,0,6.5,1,5.31,5.31,0,0,0,8.1,4.9,5.31,5.31,0,0,0,12,6.5,5.46,5.46,0,0,0,6.5,12Z\"/>\n",
              "  </svg>\n",
              "    </button>\n",
              "    <script>\n",
              "      (() => {\n",
              "      const buttonEl =\n",
              "        document.querySelector('#id_bfc265c7-10b4-4037-b27e-633f66853f5a button.colab-df-generate');\n",
              "      buttonEl.style.display =\n",
              "        google.colab.kernel.accessAllowed ? 'block' : 'none';\n",
              "\n",
              "      buttonEl.onclick = () => {\n",
              "        google.colab.notebook.generateWithVariable('chicago');\n",
              "      }\n",
              "      })();\n",
              "    </script>\n",
              "  </div>\n",
              "\n",
              "    </div>\n",
              "  </div>\n"
            ],
            "application/vnd.google.colaboratory.intrinsic+json": {
              "type": "dataframe",
              "variable_name": "chicago",
              "summary": "{\n  \"name\": \"chicago\",\n  \"rows\": 315,\n  \"fields\": [\n    {\n      \"column\": \"date\",\n      \"properties\": {\n        \"dtype\": \"object\",\n        \"num_unique_values\": 315,\n        \"samples\": [\n          \"2024-01-23T00:00:00\",\n          \"2023-08-03T00:00:00\",\n          \"2023-12-11T00:00:00\"\n        ],\n        \"semantic_type\": \"\",\n        \"description\": \"\"\n      }\n    },\n    {\n      \"column\": \"temp\",\n      \"properties\": {\n        \"dtype\": \"number\",\n        \"std\": 17.871716299619507,\n        \"min\": -6.880000000000003,\n        \"max\": 90.14,\n        \"num_unique_values\": 207,\n        \"samples\": [\n          37.4,\n          74.84,\n          58.64\n        ],\n        \"semantic_type\": \"\",\n        \"description\": \"\"\n      }\n    }\n  ]\n}"
            }
          },
          "metadata": {},
          "execution_count": 15
        }
      ]
    },
    {
      "cell_type": "markdown",
      "source": [
        "Another quick plot and we can see our x-axis is date aware. A bit messy, but we can get back to that."
      ],
      "metadata": {
        "id": "0u7c6BbqG9JR"
      }
    },
    {
      "cell_type": "code",
      "source": [
        "chicago.plot()"
      ],
      "metadata": {
        "colab": {
          "base_uri": "https://localhost:8080/",
          "height": 467
        },
        "id": "TkNdQHW9GCta",
        "outputId": "29fe74b9-0731-4611-8bc9-19b6e67cb5d6"
      },
      "execution_count": 16,
      "outputs": [
        {
          "output_type": "execute_result",
          "data": {
            "text/plain": [
              "<Axes: xlabel='date'>"
            ]
          },
          "metadata": {},
          "execution_count": 16
        },
        {
          "output_type": "display_data",
          "data": {
            "text/plain": [
              "<Figure size 640x480 with 1 Axes>"
            ],
            "image/png": "[encoded data removed]"
          },
          "metadata": {}
        }
      ]
    },
    {
      "cell_type": "markdown",
      "source": [
        "# 4. Visualization"
      ],
      "metadata": {
        "id": "JWKLH07LH5BR"
      }
    },
    {
      "cell_type": "markdown",
      "source": [
        "## 4.1 Plotly Interactive Plotting Library"
      ],
      "metadata": {
        "id": "DVMkjfyBH9gA"
      }
    },
    {
      "cell_type": "code",
      "source": [
        "import plotly.express as px\n",
        "\n",
        "# Plotly has several methods of plotting. For one dataframe express makes life easy.\n",
        "# One trick in access the x-axis data if we want the index, we need to use a special call\n",
        "fig = px.line(chicago, x=chicago.index, y='temp')\n",
        "\n",
        "# Plotly has lots of options and features\n",
        "fig.update_layout(\n",
        "    title='Chicago Temperatures from NCDC',\n",
        "    xaxis_title=\"Datetime\",\n",
        "    yaxis_title=\"Temperature (Deg. F)\",\n",
        "    # I want a longer aspect plot\n",
        "    width=576,  # 6 inches in pixels (assuming 96px/in)\n",
        "    height=288   # 3 inches in pixels\n",
        ")\n",
        "fig.show()"
      ],
      "metadata": {
        "colab": {
          "base_uri": "https://localhost:8080/",
          "height": 305
        },
        "id": "hYvOiRO4GNAI",
        "outputId": "9aabffe4-431b-493d-f239-d652f2ca9dc1"
      },
      "execution_count": 45,
      "outputs": [
        {
          "output_type": "display_data",
          "data": {
            "text/html": [
              "<html>\n",
              "<head><meta charset=\"utf-8\" /></head>\n",
              "<body>\n",
              "    <div>            <script src=\"https://cdnjs.cloudflare.com/ajax/libs/mathjax/2.7.5/MathJax.js?config=TeX-AMS-MML_SVG\"></script><script type=\"text/javascript\">if (window.MathJax && window.MathJax.Hub && window.MathJax.Hub.Config) {window.MathJax.Hub.Config({SVG: {font: \"STIX-Web\"}});}</script>                <script type=\"text/javascript\">window.PlotlyConfig = {MathJaxConfig: 'local'};</script>\n",
              "        <script charset=\"utf-8\" src=\"https://cdn.plot.ly/plotly-2.24.1.min.js\"></script>                <div id=\"93ca2e72-4d99-43a4-9cb5-426a8ee1c8aa\" class=\"plotly-graph-div\" style=\"height:288px; width:576px;\"></div>            <script type=\"text/javascript\">                                    window.PLOTLYENV=window.PLOTLYENV || {};                                    if (document.getElementById(\"93ca2e72-4d99-43a4-9cb5-426a8ee1c8aa\")) {                    Plotly.newPlot(                        \"93ca2e72-4d99-43a4-9cb5-426a8ee1c8aa\",                        [{\"hovertemplate\":\"date=%{x}\\u003cbr\\u003etemp=%{y}\\u003cextra\\u003e\\u003c\\u002fextra\\u003e\",\"legendgroup\":\"\",\"line\":{\"color\":\"#636efa\",\"dash\":\"solid\"},\"marker\":{\"symbol\":\"circle\"},\"mode\":\"lines\",\"name\":\"\",\"orientation\":\"v\",\"showlegend\":false,\"x\":[\"2023-07-01T00:00:00\",\"2023-07-02T00:00:00\",\"2023-07-03T00:00:00\",\"2023-07-04T00:00:00\",\"2023-07-05T00:00:00\",\"2023-07-06T00:00:00\",\"2023-07-07T00:00:00\",\"2023-07-08T00:00:00\",\"2023-07-09T00:00:00\",\"2023-07-10T00:00:00\",\"2023-07-11T00:00:00\",\"2023-07-12T00:00:00\",\"2023-07-13T00:00:00\",\"2023-07-14T00:00:00\",\"2023-07-15T00:00:00\",\"2023-07-16T00:00:00\",\"2023-07-17T00:00:00\",\"2023-07-18T00:00:00\",\"2023-07-19T00:00:00\",\"2023-07-20T00:00:00\",\"2023-07-21T00:00:00\",\"2023-07-22T00:00:00\",\"2023-07-23T00:00:00\",\"2023-07-24T00:00:00\",\"2023-07-25T00:00:00\",\"2023-07-26T00:00:00\",\"2023-07-27T00:00:00\",\"2023-07-28T00:00:00\",\"2023-07-29T00:00:00\",\"2023-07-30T00:00:00\",\"2023-07-31T00:00:00\",\"2023-08-01T00:00:00\",\"2023-08-02T00:00:00\",\"2023-08-03T00:00:00\",\"2023-08-04T00:00:00\",\"2023-08-05T00:00:00\",\"2023-08-06T00:00:00\",\"2023-08-07T00:00:00\",\"2023-08-08T00:00:00\",\"2023-08-09T00:00:00\",\"2023-08-10T00:00:00\",\"2023-08-11T00:00:00\",\"2023-08-12T00:00:00\",\"2023-08-13T00:00:00\",\"2023-08-14T00:00:00\",\"2023-08-15T00:00:00\",\"2023-08-16T00:00:00\",\"2023-08-17T00:00:00\",\"2023-08-18T00:00:00\",\"2023-08-19T00:00:00\",\"2023-08-20T00:00:00\",\"2023-08-21T00:00:00\",\"2023-08-22T00:00:00\",\"2023-08-23T00:00:00\",\"2023-08-24T00:00:00\",\"2023-08-25T00:00:00\",\"2023-08-26T00:00:00\",\"2023-08-27T00:00:00\",\"2023-08-28T00:00:00\",\"2023-08-29T00:00:00\",\"2023-08-30T00:00:00\",\"2023-08-31T00:00:00\",\"2023-09-01T00:00:00\",\"2023-09-02T00:00:00\",\"2023-09-03T00:00:00\",\"2023-09-04T00:00:00\",\"2023-09-05T00:00:00\",\"2023-09-06T00:00:00\",\"2023-09-07T00:00:00\",\"2023-09-08T00:00:00\",\"2023-09-09T00:00:00\",\"2023-09-10T00:00:00\",\"2023-09-11T00:00:00\",\"2023-09-12T00:00:00\",\"2023-09-13T00:00:00\",\"2023-09-14T00:00:00\",\"2023-09-15T00:00:00\",\"2023-09-16T00:00:00\",\"2023-09-17T00:00:00\",\"2023-09-18T00:00:00\",\"2023-09-19T00:00:00\",\"2023-09-20T00:00:00\",\"2023-09-21T00:00:00\",\"2023-09-22T00:00:00\",\"2023-09-23T00:00:00\",\"2023-09-24T00:00:00\",\"2023-09-25T00:00:00\",\"2023-09-26T00:00:00\",\"2023-09-27T00:00:00\",\"2023-09-28T00:00:00\",\"2023-09-29T00:00:00\",\"2023-09-30T00:00:00\",\"2023-10-01T00:00:00\",\"2023-10-02T00:00:00\",\"2023-10-03T00:00:00\",\"2023-10-04T00:00:00\",\"2023-10-05T00:00:00\",\"2023-10-06T00:00:00\",\"2023-10-07T00:00:00\",\"2023-10-08T00:00:00\",\"2023-10-09T00:00:00\",\"2023-10-10T00:00:00\",\"2023-10-11T00:00:00\",\"2023-10-12T00:00:00\",\"2023-10-13T00:00:00\",\"2023-10-14T00:00:00\",\"2023-10-15T00:00:00\",\"2023-10-16T00:00:00\",\"2023-10-17T00:00:00\",\"2023-10-18T00:00:00\",\"2023-10-19T00:00:00\",\"2023-10-20T00:00:00\",\"2023-10-21T00:00:00\",\"2023-10-22T00:00:00\",\"2023-10-23T00:00:00\",\"2023-10-24T00:00:00\",\"2023-10-25T00:00:00\",\"2023-10-26T00:00:00\",\"2023-10-27T00:00:00\",\"2023-10-28T00:00:00\",\"2023-10-29T00:00:00\",\"2023-10-30T00:00:00\",\"2023-10-31T00:00:00\",\"2023-11-01T00:00:00\",\"2023-11-02T00:00:00\",\"2023-11-03T00:00:00\",\"2023-11-04T00:00:00\",\"2023-11-05T00:00:00\",\"2023-11-06T00:00:00\",\"2023-11-07T00:00:00\",\"2023-11-08T00:00:00\",\"2023-11-09T00:00:00\",\"2023-11-10T00:00:00\",\"2023-11-11T00:00:00\",\"2023-11-12T00:00:00\",\"2023-11-13T00:00:00\",\"2023-11-14T00:00:00\",\"2023-11-15T00:00:00\",\"2023-11-16T00:00:00\",\"2023-11-17T00:00:00\",\"2023-11-18T00:00:00\",\"2023-11-19T00:00:00\",\"2023-11-20T00:00:00\",\"2023-11-21T00:00:00\",\"2023-11-22T00:00:00\",\"2023-11-23T00:00:00\",\"2023-11-24T00:00:00\",\"2023-11-25T00:00:00\",\"2023-11-26T00:00:00\",\"2023-11-27T00:00:00\",\"2023-11-28T00:00:00\",\"2023-11-29T00:00:00\",\"2023-11-30T00:00:00\",\"2023-12-01T00:00:00\",\"2023-12-02T00:00:00\",\"2023-12-03T00:00:00\",\"2023-12-04T00:00:00\",\"2023-12-05T00:00:00\",\"2023-12-06T00:00:00\",\"2023-12-07T00:00:00\",\"2023-12-08T00:00:00\",\"2023-12-09T00:00:00\",\"2023-12-10T00:00:00\",\"2023-12-11T00:00:00\",\"2023-12-12T00:00:00\",\"2023-12-13T00:00:00\",\"2023-12-14T00:00:00\",\"2023-12-15T00:00:00\",\"2023-12-16T00:00:00\",\"2023-12-17T00:00:00\",\"2023-12-18T00:00:00\",\"2023-12-19T00:00:00\",\"2023-12-20T00:00:00\",\"2023-12-21T00:00:00\",\"2023-12-22T00:00:00\",\"2023-12-23T00:00:00\",\"2023-12-24T00:00:00\",\"2023-12-25T00:00:00\",\"2023-12-26T00:00:00\",\"2023-12-27T00:00:00\",\"2023-12-28T00:00:00\",\"2023-12-29T00:00:00\",\"2023-12-30T00:00:00\",\"2023-12-31T00:00:00\",\"2024-01-01T00:00:00\",\"2024-01-02T00:00:00\",\"2024-01-03T00:00:00\",\"2024-01-04T00:00:00\",\"2024-01-05T00:00:00\",\"2024-01-06T00:00:00\",\"2024-01-07T00:00:00\",\"2024-01-08T00:00:00\",\"2024-01-09T00:00:00\",\"2024-01-10T00:00:00\",\"2024-01-11T00:00:00\",\"2024-01-12T00:00:00\",\"2024-01-13T00:00:00\",\"2024-01-14T00:00:00\",\"2024-01-15T00:00:00\",\"2024-01-16T00:00:00\",\"2024-01-17T00:00:00\",\"2024-01-18T00:00:00\",\"2024-01-19T00:00:00\",\"2024-01-20T00:00:00\",\"2024-01-21T00:00:00\",\"2024-01-22T00:00:00\",\"2024-01-23T00:00:00\",\"2024-01-24T00:00:00\",\"2024-01-25T00:00:00\",\"2024-01-26T00:00:00\",\"2024-01-27T00:00:00\",\"2024-01-28T00:00:00\",\"2024-01-29T00:00:00\",\"2024-01-30T00:00:00\",\"2024-01-31T00:00:00\",\"2024-02-01T00:00:00\",\"2024-02-02T00:00:00\",\"2024-02-03T00:00:00\",\"2024-02-04T00:00:00\",\"2024-02-05T00:00:00\",\"2024-02-06T00:00:00\",\"2024-02-07T00:00:00\",\"2024-02-08T00:00:00\",\"2024-02-09T00:00:00\",\"2024-02-10T00:00:00\",\"2024-02-11T00:00:00\",\"2024-02-12T00:00:00\",\"2024-02-13T00:00:00\",\"2024-02-14T00:00:00\",\"2024-02-15T00:00:00\",\"2024-02-16T00:00:00\",\"2024-02-17T00:00:00\",\"2024-02-18T00:00:00\",\"2024-02-19T00:00:00\",\"2024-02-20T00:00:00\",\"2024-02-21T00:00:00\",\"2024-02-22T00:00:00\",\"2024-02-23T00:00:00\",\"2024-02-24T00:00:00\",\"2024-02-25T00:00:00\",\"2024-02-26T00:00:00\",\"2024-02-27T00:00:00\",\"2024-02-28T00:00:00\",\"2024-02-29T00:00:00\",\"2024-03-01T00:00:00\",\"2024-03-02T00:00:00\",\"2024-03-03T00:00:00\",\"2024-03-04T00:00:00\",\"2024-03-05T00:00:00\",\"2024-03-06T00:00:00\",\"2024-03-07T00:00:00\",\"2024-03-08T00:00:00\",\"2024-03-09T00:00:00\",\"2024-03-10T00:00:00\",\"2024-03-11T00:00:00\",\"2024-03-12T00:00:00\",\"2024-03-13T00:00:00\",\"2024-03-14T00:00:00\",\"2024-03-15T00:00:00\",\"2024-03-16T00:00:00\",\"2024-03-17T00:00:00\",\"2024-03-18T00:00:00\",\"2024-03-19T00:00:00\",\"2024-03-20T00:00:00\",\"2024-03-21T00:00:00\",\"2024-03-22T00:00:00\",\"2024-03-23T00:00:00\",\"2024-03-24T00:00:00\",\"2024-03-25T00:00:00\",\"2024-03-26T00:00:00\",\"2024-03-27T00:00:00\",\"2024-03-28T00:00:00\",\"2024-03-29T00:00:00\",\"2024-03-30T00:00:00\",\"2024-03-31T00:00:00\",\"2024-04-01T00:00:00\",\"2024-04-02T00:00:00\",\"2024-04-03T00:00:00\",\"2024-04-04T00:00:00\",\"2024-04-05T00:00:00\",\"2024-04-06T00:00:00\",\"2024-04-07T00:00:00\",\"2024-04-08T00:00:00\",\"2024-04-09T00:00:00\",\"2024-04-10T00:00:00\",\"2024-04-11T00:00:00\",\"2024-04-12T00:00:00\",\"2024-04-13T00:00:00\",\"2024-04-14T00:00:00\",\"2024-04-15T00:00:00\",\"2024-04-16T00:00:00\",\"2024-04-17T00:00:00\",\"2024-04-18T00:00:00\",\"2024-04-19T00:00:00\",\"2024-04-20T00:00:00\",\"2024-04-21T00:00:00\",\"2024-04-22T00:00:00\",\"2024-04-23T00:00:00\",\"2024-04-24T00:00:00\",\"2024-04-25T00:00:00\",\"2024-04-26T00:00:00\",\"2024-04-27T00:00:00\",\"2024-04-28T00:00:00\",\"2024-04-29T00:00:00\",\"2024-04-30T00:00:00\",\"2024-05-01T00:00:00\",\"2024-05-02T00:00:00\",\"2024-05-03T00:00:00\",\"2024-05-04T00:00:00\",\"2024-05-05T00:00:00\",\"2024-05-06T00:00:00\",\"2024-05-07T00:00:00\",\"2024-05-08T00:00:00\",\"2024-05-09T00:00:00\",\"2024-05-10T00:00:00\"],\"xaxis\":\"x\",\"y\":[78.08,71.06,73.75999999999999,80.06,82.04,73.94,72.32,69.25999999999999,72.68,76.64,75.92,68.54,68.72,77.36,77.54,74.84,73.75999999999999,72.14,73.94,78.8,73.4,74.48,72.14,78.08,79.34,81.14,82.75999999999999,83.66,76.28,73.94,73.04,76.1,77.54,77.72,79.16,73.75999999999999,69.8,71.96,73.58,73.04,73.94,76.82,78.62,75.02,71.78,68.18,70.16,73.22,68.72,71.78,80.24000000000001,75.74000000000001,76.82,85.82,90.14,78.44,73.75999999999999,69.08,70.16,73.22,66.38,65.48,70.52,75.74000000000001,81.32,82.75999999999999,83.84,77.18,68.72,64.94,64.94,66.74000000000001,66.92,63.14,62.24,62.959999999999994,65.48,66.02,61.519999999999996,61.34,60.62,69.98,70.88,71.06,72.86,68.54,69.44,67.1,66.92,67.1,66.74000000000001,70.52,74.12,73.94,75.38,78.08,71.06,57.74,51.620000000000005,51.26,51.26,51.620000000000005,54.68,57.56,58.64,55.58,52.16,52.52,51.26,55.58,59.0,55.94,54.14,50.9,52.879999999999995,68.72,66.02,67.46,67.46,46.76,46.22,39.38,33.62,35.42,43.7,51.44,51.44,48.379999999999995,60.08,51.98,49.82,48.92,43.7,39.56,47.66,51.08,46.58,51.8,53.42,54.32,40.46,44.6,46.04,42.620000000000005,39.38,39.2,31.28,30.02,31.64,26.060000000000002,18.5,26.96,39.56,43.879999999999995,40.64,39.38,37.04,36.86,35.24,41.0,49.46,50.0,35.06,30.74,34.16,30.92,38.12,42.980000000000004,44.42,43.16,33.08,23.36,34.88,40.1,43.879999999999995,45.32,49.64,53.06,44.239999999999995,36.32,37.58,39.02,31.46,33.98,31.46,30.38,32.9,32.18,31.46,32.54,32.36,33.08,34.52,32.72,31.46,32.18,26.6,-2.559999999999995,-6.880000000000003,-1.480000000000004,7.16,20.3,12.379999999999999,10.220000000000002,8.96,25.34,34.16,35.42,36.5,38.12,37.58,37.22,33.62,38.12,37.4,40.28,37.94,34.16,35.78,34.34,37.04,37.58,49.82,50.54,37.94,33.08,33.62,35.6,34.34,41.0,30.56,21.74,30.56,35.24,41.72,52.16,51.98,45.5,28.04,40.28,52.7,62.78,39.02,28.4,39.38,45.68,54.68,61.88,47.84,41.72,41.9,44.239999999999995,40.82,37.22,45.32,58.28,59.18,51.8,43.16,46.4,38.839999999999996,30.02,38.12,40.82,32.72,34.88,33.98,37.4,50.9,50.72,34.34,38.48,42.260000000000005,48.2,42.620000000000005,43.519999999999996,43.16,36.14,38.12,41.72,42.44,44.06,55.04,59.72,56.120000000000005,55.58,54.14,55.4,69.44,62.78,62.78,65.48,53.6,49.28,42.620000000000005,43.7,53.42,59.18,45.14,43.7,49.28,65.66,67.28,66.38,60.440000000000005,69.44,65.66,64.58,63.14,58.82,58.1,65.3,66.74000000000001,58.82,55.04],\"yaxis\":\"y\",\"type\":\"scatter\"}],                        {\"template\":{\"data\":{\"histogram2dcontour\":[{\"type\":\"histogram2dcontour\",\"colorbar\":{\"outlinewidth\":0,\"ticks\":\"\"},\"colorscale\":[[0.0,\"#0d0887\"],[0.1111111111111111,\"#46039f\"],[0.2222222222222222,\"#7201a8\"],[0.3333333333333333,\"#9c179e\"],[0.4444444444444444,\"#bd3786\"],[0.5555555555555556,\"#d8576b\"],[0.6666666666666666,\"#ed7953\"],[0.7777777777777778,\"#fb9f3a\"],[0.8888888888888888,\"#fdca26\"],[1.0,\"#f0f921\"]]}],\"choropleth\":[{\"type\":\"choropleth\",\"colorbar\":{\"outlinewidth\":0,\"ticks\":\"\"}}],\"histogram2d\":[{\"type\":\"histogram2d\",\"colorbar\":{\"outlinewidth\":0,\"ticks\":\"\"},\"colorscale\":[[0.0,\"#0d0887\"],[0.1111111111111111,\"#46039f\"],[0.2222222222222222,\"#7201a8\"],[0.3333333333333333,\"#9c179e\"],[0.4444444444444444,\"#bd3786\"],[0.5555555555555556,\"#d8576b\"],[0.6666666666666666,\"#ed7953\"],[0.7777777777777778,\"#fb9f3a\"],[0.8888888888888888,\"#fdca26\"],[1.0,\"#f0f921\"]]}],\"heatmap\":[{\"type\":\"heatmap\",\"colorbar\":{\"outlinewidth\":0,\"ticks\":\"\"},\"colorscale\":[[0.0,\"#0d0887\"],[0.1111111111111111,\"#46039f\"],[0.2222222222222222,\"#7201a8\"],[0.3333333333333333,\"#9c179e\"],[0.4444444444444444,\"#bd3786\"],[0.5555555555555556,\"#d8576b\"],[0.6666666666666666,\"#ed7953\"],[0.7777777777777778,\"#fb9f3a\"],[0.8888888888888888,\"#fdca26\"],[1.0,\"#f0f921\"]]}],\"heatmapgl\":[{\"type\":\"heatmapgl\",\"colorbar\":{\"outlinewidth\":0,\"ticks\":\"\"},\"colorscale\":[[0.0,\"#0d0887\"],[0.1111111111111111,\"#46039f\"],[0.2222222222222222,\"#7201a8\"],[0.3333333333333333,\"#9c179e\"],[0.4444444444444444,\"#bd3786\"],[0.5555555555555556,\"#d8576b\"],[0.6666666666666666,\"#ed7953\"],[0.7777777777777778,\"#fb9f3a\"],[0.8888888888888888,\"#fdca26\"],[1.0,\"#f0f921\"]]}],\"contourcarpet\":[{\"type\":\"contourcarpet\",\"colorbar\":{\"outlinewidth\":0,\"ticks\":\"\"}}],\"contour\":[{\"type\":\"contour\",\"colorbar\":{\"outlinewidth\":0,\"ticks\":\"\"},\"colorscale\":[[0.0,\"#0d0887\"],[0.1111111111111111,\"#46039f\"],[0.2222222222222222,\"#7201a8\"],[0.3333333333333333,\"#9c179e\"],[0.4444444444444444,\"#bd3786\"],[0.5555555555555556,\"#d8576b\"],[0.6666666666666666,\"#ed7953\"],[0.7777777777777778,\"#fb9f3a\"],[0.8888888888888888,\"#fdca26\"],[1.0,\"#f0f921\"]]}],\"surface\":[{\"type\":\"surface\",\"colorbar\":{\"outlinewidth\":0,\"ticks\":\"\"},\"colorscale\":[[0.0,\"#0d0887\"],[0.1111111111111111,\"#46039f\"],[0.2222222222222222,\"#7201a8\"],[0.3333333333333333,\"#9c179e\"],[0.4444444444444444,\"#bd3786\"],[0.5555555555555556,\"#d8576b\"],[0.6666666666666666,\"#ed7953\"],[0.7777777777777778,\"#fb9f3a\"],[0.8888888888888888,\"#fdca26\"],[1.0,\"#f0f921\"]]}],\"mesh3d\":[{\"type\":\"mesh3d\",\"colorbar\":{\"outlinewidth\":0,\"ticks\":\"\"}}],\"scatter\":[{\"fillpattern\":{\"fillmode\":\"overlay\",\"size\":10,\"solidity\":0.2},\"type\":\"scatter\"}],\"parcoords\":[{\"type\":\"parcoords\",\"line\":{\"colorbar\":{\"outlinewidth\":0,\"ticks\":\"\"}}}],\"scatterpolargl\":[{\"type\":\"scatterpolargl\",\"marker\":{\"colorbar\":{\"outlinewidth\":0,\"ticks\":\"\"}}}],\"bar\":[{\"error_x\":{\"color\":\"#2a3f5f\"},\"error_y\":{\"color\":\"#2a3f5f\"},\"marker\":{\"line\":{\"color\":\"#E5ECF6\",\"width\":0.5},\"pattern\":{\"fillmode\":\"overlay\",\"size\":10,\"solidity\":0.2}},\"type\":\"bar\"}],\"scattergeo\":[{\"type\":\"scattergeo\",\"marker\":{\"colorbar\":{\"outlinewidth\":0,\"ticks\":\"\"}}}],\"scatterpolar\":[{\"type\":\"scatterpolar\",\"marker\":{\"colorbar\":{\"outlinewidth\":0,\"ticks\":\"\"}}}],\"histogram\":[{\"marker\":{\"pattern\":{\"fillmode\":\"overlay\",\"size\":10,\"solidity\":0.2}},\"type\":\"histogram\"}],\"scattergl\":[{\"type\":\"scattergl\",\"marker\":{\"colorbar\":{\"outlinewidth\":0,\"ticks\":\"\"}}}],\"scatter3d\":[{\"type\":\"scatter3d\",\"line\":{\"colorbar\":{\"outlinewidth\":0,\"ticks\":\"\"}},\"marker\":{\"colorbar\":{\"outlinewidth\":0,\"ticks\":\"\"}}}],\"scattermapbox\":[{\"type\":\"scattermapbox\",\"marker\":{\"colorbar\":{\"outlinewidth\":0,\"ticks\":\"\"}}}],\"scatterternary\":[{\"type\":\"scatterternary\",\"marker\":{\"colorbar\":{\"outlinewidth\":0,\"ticks\":\"\"}}}],\"scattercarpet\":[{\"type\":\"scattercarpet\",\"marker\":{\"colorbar\":{\"outlinewidth\":0,\"ticks\":\"\"}}}],\"carpet\":[{\"aaxis\":{\"endlinecolor\":\"#2a3f5f\",\"gridcolor\":\"white\",\"linecolor\":\"white\",\"minorgridcolor\":\"white\",\"startlinecolor\":\"#2a3f5f\"},\"baxis\":{\"endlinecolor\":\"#2a3f5f\",\"gridcolor\":\"white\",\"linecolor\":\"white\",\"minorgridcolor\":\"white\",\"startlinecolor\":\"#2a3f5f\"},\"type\":\"carpet\"}],\"table\":[{\"cells\":{\"fill\":{\"color\":\"#EBF0F8\"},\"line\":{\"color\":\"white\"}},\"header\":{\"fill\":{\"color\":\"#C8D4E3\"},\"line\":{\"color\":\"white\"}},\"type\":\"table\"}],\"barpolar\":[{\"marker\":{\"line\":{\"color\":\"#E5ECF6\",\"width\":0.5},\"pattern\":{\"fillmode\":\"overlay\",\"size\":10,\"solidity\":0.2}},\"type\":\"barpolar\"}],\"pie\":[{\"automargin\":true,\"type\":\"pie\"}]},\"layout\":{\"autotypenumbers\":\"strict\",\"colorway\":[\"#636efa\",\"#EF553B\",\"#00cc96\",\"#ab63fa\",\"#FFA15A\",\"#19d3f3\",\"#FF6692\",\"#B6E880\",\"#FF97FF\",\"#FECB52\"],\"font\":{\"color\":\"#2a3f5f\"},\"hovermode\":\"closest\",\"hoverlabel\":{\"align\":\"left\"},\"paper_bgcolor\":\"white\",\"plot_bgcolor\":\"#E5ECF6\",\"polar\":{\"bgcolor\":\"#E5ECF6\",\"angularaxis\":{\"gridcolor\":\"white\",\"linecolor\":\"white\",\"ticks\":\"\"},\"radialaxis\":{\"gridcolor\":\"white\",\"linecolor\":\"white\",\"ticks\":\"\"}},\"ternary\":{\"bgcolor\":\"#E5ECF6\",\"aaxis\":{\"gridcolor\":\"white\",\"linecolor\":\"white\",\"ticks\":\"\"},\"baxis\":{\"gridcolor\":\"white\",\"linecolor\":\"white\",\"ticks\":\"\"},\"caxis\":{\"gridcolor\":\"white\",\"linecolor\":\"white\",\"ticks\":\"\"}},\"coloraxis\":{\"colorbar\":{\"outlinewidth\":0,\"ticks\":\"\"}},\"colorscale\":{\"sequential\":[[0.0,\"#0d0887\"],[0.1111111111111111,\"#46039f\"],[0.2222222222222222,\"#7201a8\"],[0.3333333333333333,\"#9c179e\"],[0.4444444444444444,\"#bd3786\"],[0.5555555555555556,\"#d8576b\"],[0.6666666666666666,\"#ed7953\"],[0.7777777777777778,\"#fb9f3a\"],[0.8888888888888888,\"#fdca26\"],[1.0,\"#f0f921\"]],\"sequentialminus\":[[0.0,\"#0d0887\"],[0.1111111111111111,\"#46039f\"],[0.2222222222222222,\"#7201a8\"],[0.3333333333333333,\"#9c179e\"],[0.4444444444444444,\"#bd3786\"],[0.5555555555555556,\"#d8576b\"],[0.6666666666666666,\"#ed7953\"],[0.7777777777777778,\"#fb9f3a\"],[0.8888888888888888,\"#fdca26\"],[1.0,\"#f0f921\"]],\"diverging\":[[0,\"#8e0152\"],[0.1,\"#c51b7d\"],[0.2,\"#de77ae\"],[0.3,\"#f1b6da\"],[0.4,\"#fde0ef\"],[0.5,\"#f7f7f7\"],[0.6,\"#e6f5d0\"],[0.7,\"#b8e186\"],[0.8,\"#7fbc41\"],[0.9,\"#4d9221\"],[1,\"#276419\"]]},\"xaxis\":{\"gridcolor\":\"white\",\"linecolor\":\"white\",\"ticks\":\"\",\"title\":{\"standoff\":15},\"zerolinecolor\":\"white\",\"automargin\":true,\"zerolinewidth\":2},\"yaxis\":{\"gridcolor\":\"white\",\"linecolor\":\"white\",\"ticks\":\"\",\"title\":{\"standoff\":15},\"zerolinecolor\":\"white\",\"automargin\":true,\"zerolinewidth\":2},\"scene\":{\"xaxis\":{\"backgroundcolor\":\"#E5ECF6\",\"gridcolor\":\"white\",\"linecolor\":\"white\",\"showbackground\":true,\"ticks\":\"\",\"zerolinecolor\":\"white\",\"gridwidth\":2},\"yaxis\":{\"backgroundcolor\":\"#E5ECF6\",\"gridcolor\":\"white\",\"linecolor\":\"white\",\"showbackground\":true,\"ticks\":\"\",\"zerolinecolor\":\"white\",\"gridwidth\":2},\"zaxis\":{\"backgroundcolor\":\"#E5ECF6\",\"gridcolor\":\"white\",\"linecolor\":\"white\",\"showbackground\":true,\"ticks\":\"\",\"zerolinecolor\":\"white\",\"gridwidth\":2}},\"shapedefaults\":{\"line\":{\"color\":\"#2a3f5f\"}},\"annotationdefaults\":{\"arrowcolor\":\"#2a3f5f\",\"arrowhead\":0,\"arrowwidth\":1},\"geo\":{\"bgcolor\":\"white\",\"landcolor\":\"#E5ECF6\",\"subunitcolor\":\"white\",\"showland\":true,\"showlakes\":true,\"lakecolor\":\"white\"},\"title\":{\"x\":0.05},\"mapbox\":{\"style\":\"light\"}}},\"xaxis\":{\"anchor\":\"y\",\"domain\":[0.0,1.0],\"title\":{\"text\":\"Datetime\"}},\"yaxis\":{\"anchor\":\"x\",\"domain\":[0.0,1.0],\"title\":{\"text\":\"Temperature (Deg. F)\"}},\"legend\":{\"tracegroupgap\":0},\"margin\":{\"t\":60},\"title\":{\"text\":\"Chicago Temperatures from NCDC\"},\"width\":576,\"height\":288},                        {\"responsive\": true}                    ).then(function(){\n",
              "                            \n",
              "var gd = document.getElementById('93ca2e72-4d99-43a4-9cb5-426a8ee1c8aa');\n",
              "var x = new MutationObserver(function (mutations, observer) {{\n",
              "        var display = window.getComputedStyle(gd).display;\n",
              "        if (!display || display === 'none') {{\n",
              "            console.log([gd, 'removed!']);\n",
              "            Plotly.purge(gd);\n",
              "            observer.disconnect();\n",
              "        }}\n",
              "}});\n",
              "\n",
              "// Listen for the removal of the full notebook cells\n",
              "var notebookContainer = gd.closest('#notebook-container');\n",
              "if (notebookContainer) {{\n",
              "    x.observe(notebookContainer, {childList: true});\n",
              "}}\n",
              "\n",
              "// Listen for the clearing of the current output cell\n",
              "var outputEl = gd.closest('.output');\n",
              "if (outputEl) {{\n",
              "    x.observe(outputEl, {childList: true});\n",
              "}}\n",
              "\n",
              "                        })                };                            </script>        </div>\n",
              "</body>\n",
              "</html>"
            ]
          },
          "metadata": {}
        }
      ]
    },
    {
      "cell_type": "code",
      "source": [
        "# Min temperature\n",
        "chicago['temp'].min()"
      ],
      "metadata": {
        "colab": {
          "base_uri": "https://localhost:8080/"
        },
        "id": "a7OnN4cuKWLH",
        "outputId": "3502cd4a-2920-43aa-8ffa-e223d4a5f016"
      },
      "execution_count": 40,
      "outputs": [
        {
          "output_type": "execute_result",
          "data": {
            "text/plain": [
              "-6.880000000000003"
            ]
          },
          "metadata": {},
          "execution_count": 40
        }
      ]
    },
    {
      "cell_type": "code",
      "source": [
        "chicago['temp'].idxmin()"
      ],
      "metadata": {
        "colab": {
          "base_uri": "https://localhost:8080/",
          "height": 35
        },
        "id": "lGlZklqzKKwj",
        "outputId": "574d1298-e851-4326-86c5-6fe3f06bfcb8"
      },
      "execution_count": 41,
      "outputs": [
        {
          "output_type": "execute_result",
          "data": {
            "text/plain": [
              "'2024-01-15T00:00:00'"
            ],
            "application/vnd.google.colaboratory.intrinsic+json": {
              "type": "string"
            }
          },
          "metadata": {},
          "execution_count": 41
        }
      ]
    },
    {
      "cell_type": "code",
      "source": [
        "# Add a marker for the specific cold day\n",
        "coldest_day = chicago['temp'].idxmin()\n",
        "fig.add_scatter(\n",
        "    x=[coldest_day], y=[chicago.loc[coldest_day, 'temp']],\n",
        "    mode='markers', marker=dict(color='blue', size=10),\n",
        "    showlegend=False\n",
        ")\n",
        "\n",
        "# Add an annotation at the coldest day\n",
        "fig.add_annotation(\n",
        "    x=coldest_day, y=chicago.loc[coldest_day, 'temp'],\n",
        "    text=\"Coldest day at -6.88°F\",\n",
        "    showarrow=True,\n",
        "    arrowhead=1,\n",
        "    ax=0,  # arrow x offset\n",
        "    ay=10  # arrow y offset (negative to point down)\n",
        ")\n",
        "\n",
        "fig.show()"
      ],
      "metadata": {
        "colab": {
          "base_uri": "https://localhost:8080/",
          "height": 305
        },
        "id": "R1vibG-8JpIG",
        "outputId": "55f403f2-7480-48d1-c998-a63d6603a687"
      },
      "execution_count": 46,
      "outputs": [
        {
          "output_type": "display_data",
          "data": {
            "text/html": [
              "<html>\n",
              "<head><meta charset=\"utf-8\" /></head>\n",
              "<body>\n",
              "    <div>            <script src=\"https://cdnjs.cloudflare.com/ajax/libs/mathjax/2.7.5/MathJax.js?config=TeX-AMS-MML_SVG\"></script><script type=\"text/javascript\">if (window.MathJax && window.MathJax.Hub && window.MathJax.Hub.Config) {window.MathJax.Hub.Config({SVG: {font: \"STIX-Web\"}});}</script>                <script type=\"text/javascript\">window.PlotlyConfig = {MathJaxConfig: 'local'};</script>\n",
              "        <script charset=\"utf-8\" src=\"https://cdn.plot.ly/plotly-2.24.1.min.js\"></script>                <div id=\"d7c00de5-e192-48b3-a023-ffb7eda898f4\" class=\"plotly-graph-div\" style=\"height:288px; width:576px;\"></div>            <script type=\"text/javascript\">                                    window.PLOTLYENV=window.PLOTLYENV || {};                                    if (document.getElementById(\"d7c00de5-e192-48b3-a023-ffb7eda898f4\")) {                    Plotly.newPlot(                        \"d7c00de5-e192-48b3-a023-ffb7eda898f4\",                        [{\"hovertemplate\":\"date=%{x}\\u003cbr\\u003etemp=%{y}\\u003cextra\\u003e\\u003c\\u002fextra\\u003e\",\"legendgroup\":\"\",\"line\":{\"color\":\"#636efa\",\"dash\":\"solid\"},\"marker\":{\"symbol\":\"circle\"},\"mode\":\"lines\",\"name\":\"\",\"orientation\":\"v\",\"showlegend\":false,\"x\":[\"2023-07-01T00:00:00\",\"2023-07-02T00:00:00\",\"2023-07-03T00:00:00\",\"2023-07-04T00:00:00\",\"2023-07-05T00:00:00\",\"2023-07-06T00:00:00\",\"2023-07-07T00:00:00\",\"2023-07-08T00:00:00\",\"2023-07-09T00:00:00\",\"2023-07-10T00:00:00\",\"2023-07-11T00:00:00\",\"2023-07-12T00:00:00\",\"2023-07-13T00:00:00\",\"2023-07-14T00:00:00\",\"2023-07-15T00:00:00\",\"2023-07-16T00:00:00\",\"2023-07-17T00:00:00\",\"2023-07-18T00:00:00\",\"2023-07-19T00:00:00\",\"2023-07-20T00:00:00\",\"2023-07-21T00:00:00\",\"2023-07-22T00:00:00\",\"2023-07-23T00:00:00\",\"2023-07-24T00:00:00\",\"2023-07-25T00:00:00\",\"2023-07-26T00:00:00\",\"2023-07-27T00:00:00\",\"2023-07-28T00:00:00\",\"2023-07-29T00:00:00\",\"2023-07-30T00:00:00\",\"2023-07-31T00:00:00\",\"2023-08-01T00:00:00\",\"2023-08-02T00:00:00\",\"2023-08-03T00:00:00\",\"2023-08-04T00:00:00\",\"2023-08-05T00:00:00\",\"2023-08-06T00:00:00\",\"2023-08-07T00:00:00\",\"2023-08-08T00:00:00\",\"2023-08-09T00:00:00\",\"2023-08-10T00:00:00\",\"2023-08-11T00:00:00\",\"2023-08-12T00:00:00\",\"2023-08-13T00:00:00\",\"2023-08-14T00:00:00\",\"2023-08-15T00:00:00\",\"2023-08-16T00:00:00\",\"2023-08-17T00:00:00\",\"2023-08-18T00:00:00\",\"2023-08-19T00:00:00\",\"2023-08-20T00:00:00\",\"2023-08-21T00:00:00\",\"2023-08-22T00:00:00\",\"2023-08-23T00:00:00\",\"2023-08-24T00:00:00\",\"2023-08-25T00:00:00\",\"2023-08-26T00:00:00\",\"2023-08-27T00:00:00\",\"2023-08-28T00:00:00\",\"2023-08-29T00:00:00\",\"2023-08-30T00:00:00\",\"2023-08-31T00:00:00\",\"2023-09-01T00:00:00\",\"2023-09-02T00:00:00\",\"2023-09-03T00:00:00\",\"2023-09-04T00:00:00\",\"2023-09-05T00:00:00\",\"2023-09-06T00:00:00\",\"2023-09-07T00:00:00\",\"2023-09-08T00:00:00\",\"2023-09-09T00:00:00\",\"2023-09-10T00:00:00\",\"2023-09-11T00:00:00\",\"2023-09-12T00:00:00\",\"2023-09-13T00:00:00\",\"2023-09-14T00:00:00\",\"2023-09-15T00:00:00\",\"2023-09-16T00:00:00\",\"2023-09-17T00:00:00\",\"2023-09-18T00:00:00\",\"2023-09-19T00:00:00\",\"2023-09-20T00:00:00\",\"2023-09-21T00:00:00\",\"2023-09-22T00:00:00\",\"2023-09-23T00:00:00\",\"2023-09-24T00:00:00\",\"2023-09-25T00:00:00\",\"2023-09-26T00:00:00\",\"2023-09-27T00:00:00\",\"2023-09-28T00:00:00\",\"2023-09-29T00:00:00\",\"2023-09-30T00:00:00\",\"2023-10-01T00:00:00\",\"2023-10-02T00:00:00\",\"2023-10-03T00:00:00\",\"2023-10-04T00:00:00\",\"2023-10-05T00:00:00\",\"2023-10-06T00:00:00\",\"2023-10-07T00:00:00\",\"2023-10-08T00:00:00\",\"2023-10-09T00:00:00\",\"2023-10-10T00:00:00\",\"2023-10-11T00:00:00\",\"2023-10-12T00:00:00\",\"2023-10-13T00:00:00\",\"2023-10-14T00:00:00\",\"2023-10-15T00:00:00\",\"2023-10-16T00:00:00\",\"2023-10-17T00:00:00\",\"2023-10-18T00:00:00\",\"2023-10-19T00:00:00\",\"2023-10-20T00:00:00\",\"2023-10-21T00:00:00\",\"2023-10-22T00:00:00\",\"2023-10-23T00:00:00\",\"2023-10-24T00:00:00\",\"2023-10-25T00:00:00\",\"2023-10-26T00:00:00\",\"2023-10-27T00:00:00\",\"2023-10-28T00:00:00\",\"2023-10-29T00:00:00\",\"2023-10-30T00:00:00\",\"2023-10-31T00:00:00\",\"2023-11-01T00:00:00\",\"2023-11-02T00:00:00\",\"2023-11-03T00:00:00\",\"2023-11-04T00:00:00\",\"2023-11-05T00:00:00\",\"2023-11-06T00:00:00\",\"2023-11-07T00:00:00\",\"2023-11-08T00:00:00\",\"2023-11-09T00:00:00\",\"2023-11-10T00:00:00\",\"2023-11-11T00:00:00\",\"2023-11-12T00:00:00\",\"2023-11-13T00:00:00\",\"2023-11-14T00:00:00\",\"2023-11-15T00:00:00\",\"2023-11-16T00:00:00\",\"2023-11-17T00:00:00\",\"2023-11-18T00:00:00\",\"2023-11-19T00:00:00\",\"2023-11-20T00:00:00\",\"2023-11-21T00:00:00\",\"2023-11-22T00:00:00\",\"2023-11-23T00:00:00\",\"2023-11-24T00:00:00\",\"2023-11-25T00:00:00\",\"2023-11-26T00:00:00\",\"2023-11-27T00:00:00\",\"2023-11-28T00:00:00\",\"2023-11-29T00:00:00\",\"2023-11-30T00:00:00\",\"2023-12-01T00:00:00\",\"2023-12-02T00:00:00\",\"2023-12-03T00:00:00\",\"2023-12-04T00:00:00\",\"2023-12-05T00:00:00\",\"2023-12-06T00:00:00\",\"2023-12-07T00:00:00\",\"2023-12-08T00:00:00\",\"2023-12-09T00:00:00\",\"2023-12-10T00:00:00\",\"2023-12-11T00:00:00\",\"2023-12-12T00:00:00\",\"2023-12-13T00:00:00\",\"2023-12-14T00:00:00\",\"2023-12-15T00:00:00\",\"2023-12-16T00:00:00\",\"2023-12-17T00:00:00\",\"2023-12-18T00:00:00\",\"2023-12-19T00:00:00\",\"2023-12-20T00:00:00\",\"2023-12-21T00:00:00\",\"2023-12-22T00:00:00\",\"2023-12-23T00:00:00\",\"2023-12-24T00:00:00\",\"2023-12-25T00:00:00\",\"2023-12-26T00:00:00\",\"2023-12-27T00:00:00\",\"2023-12-28T00:00:00\",\"2023-12-29T00:00:00\",\"2023-12-30T00:00:00\",\"2023-12-31T00:00:00\",\"2024-01-01T00:00:00\",\"2024-01-02T00:00:00\",\"2024-01-03T00:00:00\",\"2024-01-04T00:00:00\",\"2024-01-05T00:00:00\",\"2024-01-06T00:00:00\",\"2024-01-07T00:00:00\",\"2024-01-08T00:00:00\",\"2024-01-09T00:00:00\",\"2024-01-10T00:00:00\",\"2024-01-11T00:00:00\",\"2024-01-12T00:00:00\",\"2024-01-13T00:00:00\",\"2024-01-14T00:00:00\",\"2024-01-15T00:00:00\",\"2024-01-16T00:00:00\",\"2024-01-17T00:00:00\",\"2024-01-18T00:00:00\",\"2024-01-19T00:00:00\",\"2024-01-20T00:00:00\",\"2024-01-21T00:00:00\",\"2024-01-22T00:00:00\",\"2024-01-23T00:00:00\",\"2024-01-24T00:00:00\",\"2024-01-25T00:00:00\",\"2024-01-26T00:00:00\",\"2024-01-27T00:00:00\",\"2024-01-28T00:00:00\",\"2024-01-29T00:00:00\",\"2024-01-30T00:00:00\",\"2024-01-31T00:00:00\",\"2024-02-01T00:00:00\",\"2024-02-02T00:00:00\",\"2024-02-03T00:00:00\",\"2024-02-04T00:00:00\",\"2024-02-05T00:00:00\",\"2024-02-06T00:00:00\",\"2024-02-07T00:00:00\",\"2024-02-08T00:00:00\",\"2024-02-09T00:00:00\",\"2024-02-10T00:00:00\",\"2024-02-11T00:00:00\",\"2024-02-12T00:00:00\",\"2024-02-13T00:00:00\",\"2024-02-14T00:00:00\",\"2024-02-15T00:00:00\",\"2024-02-16T00:00:00\",\"2024-02-17T00:00:00\",\"2024-02-18T00:00:00\",\"2024-02-19T00:00:00\",\"2024-02-20T00:00:00\",\"2024-02-21T00:00:00\",\"2024-02-22T00:00:00\",\"2024-02-23T00:00:00\",\"2024-02-24T00:00:00\",\"2024-02-25T00:00:00\",\"2024-02-26T00:00:00\",\"2024-02-27T00:00:00\",\"2024-02-28T00:00:00\",\"2024-02-29T00:00:00\",\"2024-03-01T00:00:00\",\"2024-03-02T00:00:00\",\"2024-03-03T00:00:00\",\"2024-03-04T00:00:00\",\"2024-03-05T00:00:00\",\"2024-03-06T00:00:00\",\"2024-03-07T00:00:00\",\"2024-03-08T00:00:00\",\"2024-03-09T00:00:00\",\"2024-03-10T00:00:00\",\"2024-03-11T00:00:00\",\"2024-03-12T00:00:00\",\"2024-03-13T00:00:00\",\"2024-03-14T00:00:00\",\"2024-03-15T00:00:00\",\"2024-03-16T00:00:00\",\"2024-03-17T00:00:00\",\"2024-03-18T00:00:00\",\"2024-03-19T00:00:00\",\"2024-03-20T00:00:00\",\"2024-03-21T00:00:00\",\"2024-03-22T00:00:00\",\"2024-03-23T00:00:00\",\"2024-03-24T00:00:00\",\"2024-03-25T00:00:00\",\"2024-03-26T00:00:00\",\"2024-03-27T00:00:00\",\"2024-03-28T00:00:00\",\"2024-03-29T00:00:00\",\"2024-03-30T00:00:00\",\"2024-03-31T00:00:00\",\"2024-04-01T00:00:00\",\"2024-04-02T00:00:00\",\"2024-04-03T00:00:00\",\"2024-04-04T00:00:00\",\"2024-04-05T00:00:00\",\"2024-04-06T00:00:00\",\"2024-04-07T00:00:00\",\"2024-04-08T00:00:00\",\"2024-04-09T00:00:00\",\"2024-04-10T00:00:00\",\"2024-04-11T00:00:00\",\"2024-04-12T00:00:00\",\"2024-04-13T00:00:00\",\"2024-04-14T00:00:00\",\"2024-04-15T00:00:00\",\"2024-04-16T00:00:00\",\"2024-04-17T00:00:00\",\"2024-04-18T00:00:00\",\"2024-04-19T00:00:00\",\"2024-04-20T00:00:00\",\"2024-04-21T00:00:00\",\"2024-04-22T00:00:00\",\"2024-04-23T00:00:00\",\"2024-04-24T00:00:00\",\"2024-04-25T00:00:00\",\"2024-04-26T00:00:00\",\"2024-04-27T00:00:00\",\"2024-04-28T00:00:00\",\"2024-04-29T00:00:00\",\"2024-04-30T00:00:00\",\"2024-05-01T00:00:00\",\"2024-05-02T00:00:00\",\"2024-05-03T00:00:00\",\"2024-05-04T00:00:00\",\"2024-05-05T00:00:00\",\"2024-05-06T00:00:00\",\"2024-05-07T00:00:00\",\"2024-05-08T00:00:00\",\"2024-05-09T00:00:00\",\"2024-05-10T00:00:00\"],\"xaxis\":\"x\",\"y\":[78.08,71.06,73.75999999999999,80.06,82.04,73.94,72.32,69.25999999999999,72.68,76.64,75.92,68.54,68.72,77.36,77.54,74.84,73.75999999999999,72.14,73.94,78.8,73.4,74.48,72.14,78.08,79.34,81.14,82.75999999999999,83.66,76.28,73.94,73.04,76.1,77.54,77.72,79.16,73.75999999999999,69.8,71.96,73.58,73.04,73.94,76.82,78.62,75.02,71.78,68.18,70.16,73.22,68.72,71.78,80.24000000000001,75.74000000000001,76.82,85.82,90.14,78.44,73.75999999999999,69.08,70.16,73.22,66.38,65.48,70.52,75.74000000000001,81.32,82.75999999999999,83.84,77.18,68.72,64.94,64.94,66.74000000000001,66.92,63.14,62.24,62.959999999999994,65.48,66.02,61.519999999999996,61.34,60.62,69.98,70.88,71.06,72.86,68.54,69.44,67.1,66.92,67.1,66.74000000000001,70.52,74.12,73.94,75.38,78.08,71.06,57.74,51.620000000000005,51.26,51.26,51.620000000000005,54.68,57.56,58.64,55.58,52.16,52.52,51.26,55.58,59.0,55.94,54.14,50.9,52.879999999999995,68.72,66.02,67.46,67.46,46.76,46.22,39.38,33.62,35.42,43.7,51.44,51.44,48.379999999999995,60.08,51.98,49.82,48.92,43.7,39.56,47.66,51.08,46.58,51.8,53.42,54.32,40.46,44.6,46.04,42.620000000000005,39.38,39.2,31.28,30.02,31.64,26.060000000000002,18.5,26.96,39.56,43.879999999999995,40.64,39.38,37.04,36.86,35.24,41.0,49.46,50.0,35.06,30.74,34.16,30.92,38.12,42.980000000000004,44.42,43.16,33.08,23.36,34.88,40.1,43.879999999999995,45.32,49.64,53.06,44.239999999999995,36.32,37.58,39.02,31.46,33.98,31.46,30.38,32.9,32.18,31.46,32.54,32.36,33.08,34.52,32.72,31.46,32.18,26.6,-2.559999999999995,-6.880000000000003,-1.480000000000004,7.16,20.3,12.379999999999999,10.220000000000002,8.96,25.34,34.16,35.42,36.5,38.12,37.58,37.22,33.62,38.12,37.4,40.28,37.94,34.16,35.78,34.34,37.04,37.58,49.82,50.54,37.94,33.08,33.62,35.6,34.34,41.0,30.56,21.74,30.56,35.24,41.72,52.16,51.98,45.5,28.04,40.28,52.7,62.78,39.02,28.4,39.38,45.68,54.68,61.88,47.84,41.72,41.9,44.239999999999995,40.82,37.22,45.32,58.28,59.18,51.8,43.16,46.4,38.839999999999996,30.02,38.12,40.82,32.72,34.88,33.98,37.4,50.9,50.72,34.34,38.48,42.260000000000005,48.2,42.620000000000005,43.519999999999996,43.16,36.14,38.12,41.72,42.44,44.06,55.04,59.72,56.120000000000005,55.58,54.14,55.4,69.44,62.78,62.78,65.48,53.6,49.28,42.620000000000005,43.7,53.42,59.18,45.14,43.7,49.28,65.66,67.28,66.38,60.440000000000005,69.44,65.66,64.58,63.14,58.82,58.1,65.3,66.74000000000001,58.82,55.04],\"yaxis\":\"y\",\"type\":\"scatter\"},{\"marker\":{\"color\":\"blue\",\"size\":10},\"mode\":\"markers\",\"showlegend\":false,\"x\":[\"2024-01-15T00:00:00\"],\"y\":[-6.880000000000003],\"type\":\"scatter\"}],                        {\"template\":{\"data\":{\"histogram2dcontour\":[{\"type\":\"histogram2dcontour\",\"colorbar\":{\"outlinewidth\":0,\"ticks\":\"\"},\"colorscale\":[[0.0,\"#0d0887\"],[0.1111111111111111,\"#46039f\"],[0.2222222222222222,\"#7201a8\"],[0.3333333333333333,\"#9c179e\"],[0.4444444444444444,\"#bd3786\"],[0.5555555555555556,\"#d8576b\"],[0.6666666666666666,\"#ed7953\"],[0.7777777777777778,\"#fb9f3a\"],[0.8888888888888888,\"#fdca26\"],[1.0,\"#f0f921\"]]}],\"choropleth\":[{\"type\":\"choropleth\",\"colorbar\":{\"outlinewidth\":0,\"ticks\":\"\"}}],\"histogram2d\":[{\"type\":\"histogram2d\",\"colorbar\":{\"outlinewidth\":0,\"ticks\":\"\"},\"colorscale\":[[0.0,\"#0d0887\"],[0.1111111111111111,\"#46039f\"],[0.2222222222222222,\"#7201a8\"],[0.3333333333333333,\"#9c179e\"],[0.4444444444444444,\"#bd3786\"],[0.5555555555555556,\"#d8576b\"],[0.6666666666666666,\"#ed7953\"],[0.7777777777777778,\"#fb9f3a\"],[0.8888888888888888,\"#fdca26\"],[1.0,\"#f0f921\"]]}],\"heatmap\":[{\"type\":\"heatmap\",\"colorbar\":{\"outlinewidth\":0,\"ticks\":\"\"},\"colorscale\":[[0.0,\"#0d0887\"],[0.1111111111111111,\"#46039f\"],[0.2222222222222222,\"#7201a8\"],[0.3333333333333333,\"#9c179e\"],[0.4444444444444444,\"#bd3786\"],[0.5555555555555556,\"#d8576b\"],[0.6666666666666666,\"#ed7953\"],[0.7777777777777778,\"#fb9f3a\"],[0.8888888888888888,\"#fdca26\"],[1.0,\"#f0f921\"]]}],\"heatmapgl\":[{\"type\":\"heatmapgl\",\"colorbar\":{\"outlinewidth\":0,\"ticks\":\"\"},\"colorscale\":[[0.0,\"#0d0887\"],[0.1111111111111111,\"#46039f\"],[0.2222222222222222,\"#7201a8\"],[0.3333333333333333,\"#9c179e\"],[0.4444444444444444,\"#bd3786\"],[0.5555555555555556,\"#d8576b\"],[0.6666666666666666,\"#ed7953\"],[0.7777777777777778,\"#fb9f3a\"],[0.8888888888888888,\"#fdca26\"],[1.0,\"#f0f921\"]]}],\"contourcarpet\":[{\"type\":\"contourcarpet\",\"colorbar\":{\"outlinewidth\":0,\"ticks\":\"\"}}],\"contour\":[{\"type\":\"contour\",\"colorbar\":{\"outlinewidth\":0,\"ticks\":\"\"},\"colorscale\":[[0.0,\"#0d0887\"],[0.1111111111111111,\"#46039f\"],[0.2222222222222222,\"#7201a8\"],[0.3333333333333333,\"#9c179e\"],[0.4444444444444444,\"#bd3786\"],[0.5555555555555556,\"#d8576b\"],[0.6666666666666666,\"#ed7953\"],[0.7777777777777778,\"#fb9f3a\"],[0.8888888888888888,\"#fdca26\"],[1.0,\"#f0f921\"]]}],\"surface\":[{\"type\":\"surface\",\"colorbar\":{\"outlinewidth\":0,\"ticks\":\"\"},\"colorscale\":[[0.0,\"#0d0887\"],[0.1111111111111111,\"#46039f\"],[0.2222222222222222,\"#7201a8\"],[0.3333333333333333,\"#9c179e\"],[0.4444444444444444,\"#bd3786\"],[0.5555555555555556,\"#d8576b\"],[0.6666666666666666,\"#ed7953\"],[0.7777777777777778,\"#fb9f3a\"],[0.8888888888888888,\"#fdca26\"],[1.0,\"#f0f921\"]]}],\"mesh3d\":[{\"type\":\"mesh3d\",\"colorbar\":{\"outlinewidth\":0,\"ticks\":\"\"}}],\"scatter\":[{\"fillpattern\":{\"fillmode\":\"overlay\",\"size\":10,\"solidity\":0.2},\"type\":\"scatter\"}],\"parcoords\":[{\"type\":\"parcoords\",\"line\":{\"colorbar\":{\"outlinewidth\":0,\"ticks\":\"\"}}}],\"scatterpolargl\":[{\"type\":\"scatterpolargl\",\"marker\":{\"colorbar\":{\"outlinewidth\":0,\"ticks\":\"\"}}}],\"bar\":[{\"error_x\":{\"color\":\"#2a3f5f\"},\"error_y\":{\"color\":\"#2a3f5f\"},\"marker\":{\"line\":{\"color\":\"#E5ECF6\",\"width\":0.5},\"pattern\":{\"fillmode\":\"overlay\",\"size\":10,\"solidity\":0.2}},\"type\":\"bar\"}],\"scattergeo\":[{\"type\":\"scattergeo\",\"marker\":{\"colorbar\":{\"outlinewidth\":0,\"ticks\":\"\"}}}],\"scatterpolar\":[{\"type\":\"scatterpolar\",\"marker\":{\"colorbar\":{\"outlinewidth\":0,\"ticks\":\"\"}}}],\"histogram\":[{\"marker\":{\"pattern\":{\"fillmode\":\"overlay\",\"size\":10,\"solidity\":0.2}},\"type\":\"histogram\"}],\"scattergl\":[{\"type\":\"scattergl\",\"marker\":{\"colorbar\":{\"outlinewidth\":0,\"ticks\":\"\"}}}],\"scatter3d\":[{\"type\":\"scatter3d\",\"line\":{\"colorbar\":{\"outlinewidth\":0,\"ticks\":\"\"}},\"marker\":{\"colorbar\":{\"outlinewidth\":0,\"ticks\":\"\"}}}],\"scattermapbox\":[{\"type\":\"scattermapbox\",\"marker\":{\"colorbar\":{\"outlinewidth\":0,\"ticks\":\"\"}}}],\"scatterternary\":[{\"type\":\"scatterternary\",\"marker\":{\"colorbar\":{\"outlinewidth\":0,\"ticks\":\"\"}}}],\"scattercarpet\":[{\"type\":\"scattercarpet\",\"marker\":{\"colorbar\":{\"outlinewidth\":0,\"ticks\":\"\"}}}],\"carpet\":[{\"aaxis\":{\"endlinecolor\":\"#2a3f5f\",\"gridcolor\":\"white\",\"linecolor\":\"white\",\"minorgridcolor\":\"white\",\"startlinecolor\":\"#2a3f5f\"},\"baxis\":{\"endlinecolor\":\"#2a3f5f\",\"gridcolor\":\"white\",\"linecolor\":\"white\",\"minorgridcolor\":\"white\",\"startlinecolor\":\"#2a3f5f\"},\"type\":\"carpet\"}],\"table\":[{\"cells\":{\"fill\":{\"color\":\"#EBF0F8\"},\"line\":{\"color\":\"white\"}},\"header\":{\"fill\":{\"color\":\"#C8D4E3\"},\"line\":{\"color\":\"white\"}},\"type\":\"table\"}],\"barpolar\":[{\"marker\":{\"line\":{\"color\":\"#E5ECF6\",\"width\":0.5},\"pattern\":{\"fillmode\":\"overlay\",\"size\":10,\"solidity\":0.2}},\"type\":\"barpolar\"}],\"pie\":[{\"automargin\":true,\"type\":\"pie\"}]},\"layout\":{\"autotypenumbers\":\"strict\",\"colorway\":[\"#636efa\",\"#EF553B\",\"#00cc96\",\"#ab63fa\",\"#FFA15A\",\"#19d3f3\",\"#FF6692\",\"#B6E880\",\"#FF97FF\",\"#FECB52\"],\"font\":{\"color\":\"#2a3f5f\"},\"hovermode\":\"closest\",\"hoverlabel\":{\"align\":\"left\"},\"paper_bgcolor\":\"white\",\"plot_bgcolor\":\"#E5ECF6\",\"polar\":{\"bgcolor\":\"#E5ECF6\",\"angularaxis\":{\"gridcolor\":\"white\",\"linecolor\":\"white\",\"ticks\":\"\"},\"radialaxis\":{\"gridcolor\":\"white\",\"linecolor\":\"white\",\"ticks\":\"\"}},\"ternary\":{\"bgcolor\":\"#E5ECF6\",\"aaxis\":{\"gridcolor\":\"white\",\"linecolor\":\"white\",\"ticks\":\"\"},\"baxis\":{\"gridcolor\":\"white\",\"linecolor\":\"white\",\"ticks\":\"\"},\"caxis\":{\"gridcolor\":\"white\",\"linecolor\":\"white\",\"ticks\":\"\"}},\"coloraxis\":{\"colorbar\":{\"outlinewidth\":0,\"ticks\":\"\"}},\"colorscale\":{\"sequential\":[[0.0,\"#0d0887\"],[0.1111111111111111,\"#46039f\"],[0.2222222222222222,\"#7201a8\"],[0.3333333333333333,\"#9c179e\"],[0.4444444444444444,\"#bd3786\"],[0.5555555555555556,\"#d8576b\"],[0.6666666666666666,\"#ed7953\"],[0.7777777777777778,\"#fb9f3a\"],[0.8888888888888888,\"#fdca26\"],[1.0,\"#f0f921\"]],\"sequentialminus\":[[0.0,\"#0d0887\"],[0.1111111111111111,\"#46039f\"],[0.2222222222222222,\"#7201a8\"],[0.3333333333333333,\"#9c179e\"],[0.4444444444444444,\"#bd3786\"],[0.5555555555555556,\"#d8576b\"],[0.6666666666666666,\"#ed7953\"],[0.7777777777777778,\"#fb9f3a\"],[0.8888888888888888,\"#fdca26\"],[1.0,\"#f0f921\"]],\"diverging\":[[0,\"#8e0152\"],[0.1,\"#c51b7d\"],[0.2,\"#de77ae\"],[0.3,\"#f1b6da\"],[0.4,\"#fde0ef\"],[0.5,\"#f7f7f7\"],[0.6,\"#e6f5d0\"],[0.7,\"#b8e186\"],[0.8,\"#7fbc41\"],[0.9,\"#4d9221\"],[1,\"#276419\"]]},\"xaxis\":{\"gridcolor\":\"white\",\"linecolor\":\"white\",\"ticks\":\"\",\"title\":{\"standoff\":15},\"zerolinecolor\":\"white\",\"automargin\":true,\"zerolinewidth\":2},\"yaxis\":{\"gridcolor\":\"white\",\"linecolor\":\"white\",\"ticks\":\"\",\"title\":{\"standoff\":15},\"zerolinecolor\":\"white\",\"automargin\":true,\"zerolinewidth\":2},\"scene\":{\"xaxis\":{\"backgroundcolor\":\"#E5ECF6\",\"gridcolor\":\"white\",\"linecolor\":\"white\",\"showbackground\":true,\"ticks\":\"\",\"zerolinecolor\":\"white\",\"gridwidth\":2},\"yaxis\":{\"backgroundcolor\":\"#E5ECF6\",\"gridcolor\":\"white\",\"linecolor\":\"white\",\"showbackground\":true,\"ticks\":\"\",\"zerolinecolor\":\"white\",\"gridwidth\":2},\"zaxis\":{\"backgroundcolor\":\"#E5ECF6\",\"gridcolor\":\"white\",\"linecolor\":\"white\",\"showbackground\":true,\"ticks\":\"\",\"zerolinecolor\":\"white\",\"gridwidth\":2}},\"shapedefaults\":{\"line\":{\"color\":\"#2a3f5f\"}},\"annotationdefaults\":{\"arrowcolor\":\"#2a3f5f\",\"arrowhead\":0,\"arrowwidth\":1},\"geo\":{\"bgcolor\":\"white\",\"landcolor\":\"#E5ECF6\",\"subunitcolor\":\"white\",\"showland\":true,\"showlakes\":true,\"lakecolor\":\"white\"},\"title\":{\"x\":0.05},\"mapbox\":{\"style\":\"light\"}}},\"xaxis\":{\"anchor\":\"y\",\"domain\":[0.0,1.0],\"title\":{\"text\":\"Datetime\"}},\"yaxis\":{\"anchor\":\"x\",\"domain\":[0.0,1.0],\"title\":{\"text\":\"Temperature (Deg. F)\"}},\"legend\":{\"tracegroupgap\":0},\"margin\":{\"t\":60},\"title\":{\"text\":\"Chicago Temperatures from NCDC\"},\"width\":576,\"height\":288,\"annotations\":[{\"arrowhead\":1,\"ax\":0,\"ay\":10,\"showarrow\":true,\"text\":\"Coldest day at -6.88\\u00b0F\",\"x\":\"2024-01-15T00:00:00\",\"y\":-6.880000000000003}]},                        {\"responsive\": true}                    ).then(function(){\n",
              "                            \n",
              "var gd = document.getElementById('d7c00de5-e192-48b3-a023-ffb7eda898f4');\n",
              "var x = new MutationObserver(function (mutations, observer) {{\n",
              "        var display = window.getComputedStyle(gd).display;\n",
              "        if (!display || display === 'none') {{\n",
              "            console.log([gd, 'removed!']);\n",
              "            Plotly.purge(gd);\n",
              "            observer.disconnect();\n",
              "        }}\n",
              "}});\n",
              "\n",
              "// Listen for the removal of the full notebook cells\n",
              "var notebookContainer = gd.closest('#notebook-container');\n",
              "if (notebookContainer) {{\n",
              "    x.observe(notebookContainer, {childList: true});\n",
              "}}\n",
              "\n",
              "// Listen for the clearing of the current output cell\n",
              "var outputEl = gd.closest('.output');\n",
              "if (outputEl) {{\n",
              "    x.observe(outputEl, {childList: true});\n",
              "}}\n",
              "\n",
              "                        })                };                            </script>        </div>\n",
              "</body>\n",
              "</html>"
            ]
          },
          "metadata": {}
        }
      ]
    },
    {
      "cell_type": "code",
      "source": [
        "\n",
        "\n",
        "# Add a vertical rectangle to highlight the conference dates\n",
        "fig.add_vrect(\n",
        "    x0=\"2024-04-28\", x1=\"2024-05-04\",\n",
        "    fillcolor=\"red\", opacity=0.5,\n",
        "    layer=\"below\", line_width=0,\n",
        "    annotation_text=\"WJE Conference!\",  # text to display\n",
        "    annotation_position=\"top right\"\n",
        ")\n",
        "\n",
        "fig.show()\n"
      ],
      "metadata": {
        "colab": {
          "base_uri": "https://localhost:8080/",
          "height": 305
        },
        "id": "mY17mC4zLTGp",
        "outputId": "6d42f60f-bc61-4087-b347-908983ef6409"
      },
      "execution_count": 48,
      "outputs": [
        {
          "output_type": "display_data",
          "data": {
            "text/html": [
              "<html>\n",
              "<head><meta charset=\"utf-8\" /></head>\n",
              "<body>\n",
              "    <div>            <script src=\"https://cdnjs.cloudflare.com/ajax/libs/mathjax/2.7.5/MathJax.js?config=TeX-AMS-MML_SVG\"></script><script type=\"text/javascript\">if (window.MathJax && window.MathJax.Hub && window.MathJax.Hub.Config) {window.MathJax.Hub.Config({SVG: {font: \"STIX-Web\"}});}</script>                <script type=\"text/javascript\">window.PlotlyConfig = {MathJaxConfig: 'local'};</script>\n",
              "        <script charset=\"utf-8\" src=\"https://cdn.plot.ly/plotly-2.24.1.min.js\"></script>                <div id=\"dfa2088b-9bc4-4ac0-af61-c241d7d82e0f\" class=\"plotly-graph-div\" style=\"height:288px; width:576px;\"></div>            <script type=\"text/javascript\">                                    window.PLOTLYENV=window.PLOTLYENV || {};                                    if (document.getElementById(\"dfa2088b-9bc4-4ac0-af61-c241d7d82e0f\")) {                    Plotly.newPlot(                        \"dfa2088b-9bc4-4ac0-af61-c241d7d82e0f\",                        [{\"hovertemplate\":\"date=%{x}\\u003cbr\\u003etemp=%{y}\\u003cextra\\u003e\\u003c\\u002fextra\\u003e\",\"legendgroup\":\"\",\"line\":{\"color\":\"#636efa\",\"dash\":\"solid\"},\"marker\":{\"symbol\":\"circle\"},\"mode\":\"lines\",\"name\":\"\",\"orientation\":\"v\",\"showlegend\":false,\"x\":[\"2023-07-01T00:00:00\",\"2023-07-02T00:00:00\",\"2023-07-03T00:00:00\",\"2023-07-04T00:00:00\",\"2023-07-05T00:00:00\",\"2023-07-06T00:00:00\",\"2023-07-07T00:00:00\",\"2023-07-08T00:00:00\",\"2023-07-09T00:00:00\",\"2023-07-10T00:00:00\",\"2023-07-11T00:00:00\",\"2023-07-12T00:00:00\",\"2023-07-13T00:00:00\",\"2023-07-14T00:00:00\",\"2023-07-15T00:00:00\",\"2023-07-16T00:00:00\",\"2023-07-17T00:00:00\",\"2023-07-18T00:00:00\",\"2023-07-19T00:00:00\",\"2023-07-20T00:00:00\",\"2023-07-21T00:00:00\",\"2023-07-22T00:00:00\",\"2023-07-23T00:00:00\",\"2023-07-24T00:00:00\",\"2023-07-25T00:00:00\",\"2023-07-26T00:00:00\",\"2023-07-27T00:00:00\",\"2023-07-28T00:00:00\",\"2023-07-29T00:00:00\",\"2023-07-30T00:00:00\",\"2023-07-31T00:00:00\",\"2023-08-01T00:00:00\",\"2023-08-02T00:00:00\",\"2023-08-03T00:00:00\",\"2023-08-04T00:00:00\",\"2023-08-05T00:00:00\",\"2023-08-06T00:00:00\",\"2023-08-07T00:00:00\",\"2023-08-08T00:00:00\",\"2023-08-09T00:00:00\",\"2023-08-10T00:00:00\",\"2023-08-11T00:00:00\",\"2023-08-12T00:00:00\",\"2023-08-13T00:00:00\",\"2023-08-14T00:00:00\",\"2023-08-15T00:00:00\",\"2023-08-16T00:00:00\",\"2023-08-17T00:00:00\",\"2023-08-18T00:00:00\",\"2023-08-19T00:00:00\",\"2023-08-20T00:00:00\",\"2023-08-21T00:00:00\",\"2023-08-22T00:00:00\",\"2023-08-23T00:00:00\",\"2023-08-24T00:00:00\",\"2023-08-25T00:00:00\",\"2023-08-26T00:00:00\",\"2023-08-27T00:00:00\",\"2023-08-28T00:00:00\",\"2023-08-29T00:00:00\",\"2023-08-30T00:00:00\",\"2023-08-31T00:00:00\",\"2023-09-01T00:00:00\",\"2023-09-02T00:00:00\",\"2023-09-03T00:00:00\",\"2023-09-04T00:00:00\",\"2023-09-05T00:00:00\",\"2023-09-06T00:00:00\",\"2023-09-07T00:00:00\",\"2023-09-08T00:00:00\",\"2023-09-09T00:00:00\",\"2023-09-10T00:00:00\",\"2023-09-11T00:00:00\",\"2023-09-12T00:00:00\",\"2023-09-13T00:00:00\",\"2023-09-14T00:00:00\",\"2023-09-15T00:00:00\",\"2023-09-16T00:00:00\",\"2023-09-17T00:00:00\",\"2023-09-18T00:00:00\",\"2023-09-19T00:00:00\",\"2023-09-20T00:00:00\",\"2023-09-21T00:00:00\",\"2023-09-22T00:00:00\",\"2023-09-23T00:00:00\",\"2023-09-24T00:00:00\",\"2023-09-25T00:00:00\",\"2023-09-26T00:00:00\",\"2023-09-27T00:00:00\",\"2023-09-28T00:00:00\",\"2023-09-29T00:00:00\",\"2023-09-30T00:00:00\",\"2023-10-01T00:00:00\",\"2023-10-02T00:00:00\",\"2023-10-03T00:00:00\",\"2023-10-04T00:00:00\",\"2023-10-05T00:00:00\",\"2023-10-06T00:00:00\",\"2023-10-07T00:00:00\",\"2023-10-08T00:00:00\",\"2023-10-09T00:00:00\",\"2023-10-10T00:00:00\",\"2023-10-11T00:00:00\",\"2023-10-12T00:00:00\",\"2023-10-13T00:00:00\",\"2023-10-14T00:00:00\",\"2023-10-15T00:00:00\",\"2023-10-16T00:00:00\",\"2023-10-17T00:00:00\",\"2023-10-18T00:00:00\",\"2023-10-19T00:00:00\",\"2023-10-20T00:00:00\",\"2023-10-21T00:00:00\",\"2023-10-22T00:00:00\",\"2023-10-23T00:00:00\",\"2023-10-24T00:00:00\",\"2023-10-25T00:00:00\",\"2023-10-26T00:00:00\",\"2023-10-27T00:00:00\",\"2023-10-28T00:00:00\",\"2023-10-29T00:00:00\",\"2023-10-30T00:00:00\",\"2023-10-31T00:00:00\",\"2023-11-01T00:00:00\",\"2023-11-02T00:00:00\",\"2023-11-03T00:00:00\",\"2023-11-04T00:00:00\",\"2023-11-05T00:00:00\",\"2023-11-06T00:00:00\",\"2023-11-07T00:00:00\",\"2023-11-08T00:00:00\",\"2023-11-09T00:00:00\",\"2023-11-10T00:00:00\",\"2023-11-11T00:00:00\",\"2023-11-12T00:00:00\",\"2023-11-13T00:00:00\",\"2023-11-14T00:00:00\",\"2023-11-15T00:00:00\",\"2023-11-16T00:00:00\",\"2023-11-17T00:00:00\",\"2023-11-18T00:00:00\",\"2023-11-19T00:00:00\",\"2023-11-20T00:00:00\",\"2023-11-21T00:00:00\",\"2023-11-22T00:00:00\",\"2023-11-23T00:00:00\",\"2023-11-24T00:00:00\",\"2023-11-25T00:00:00\",\"2023-11-26T00:00:00\",\"2023-11-27T00:00:00\",\"2023-11-28T00:00:00\",\"2023-11-29T00:00:00\",\"2023-11-30T00:00:00\",\"2023-12-01T00:00:00\",\"2023-12-02T00:00:00\",\"2023-12-03T00:00:00\",\"2023-12-04T00:00:00\",\"2023-12-05T00:00:00\",\"2023-12-06T00:00:00\",\"2023-12-07T00:00:00\",\"2023-12-08T00:00:00\",\"2023-12-09T00:00:00\",\"2023-12-10T00:00:00\",\"2023-12-11T00:00:00\",\"2023-12-12T00:00:00\",\"2023-12-13T00:00:00\",\"2023-12-14T00:00:00\",\"2023-12-15T00:00:00\",\"2023-12-16T00:00:00\",\"2023-12-17T00:00:00\",\"2023-12-18T00:00:00\",\"2023-12-19T00:00:00\",\"2023-12-20T00:00:00\",\"2023-12-21T00:00:00\",\"2023-12-22T00:00:00\",\"2023-12-23T00:00:00\",\"2023-12-24T00:00:00\",\"2023-12-25T00:00:00\",\"2023-12-26T00:00:00\",\"2023-12-27T00:00:00\",\"2023-12-28T00:00:00\",\"2023-12-29T00:00:00\",\"2023-12-30T00:00:00\",\"2023-12-31T00:00:00\",\"2024-01-01T00:00:00\",\"2024-01-02T00:00:00\",\"2024-01-03T00:00:00\",\"2024-01-04T00:00:00\",\"2024-01-05T00:00:00\",\"2024-01-06T00:00:00\",\"2024-01-07T00:00:00\",\"2024-01-08T00:00:00\",\"2024-01-09T00:00:00\",\"2024-01-10T00:00:00\",\"2024-01-11T00:00:00\",\"2024-01-12T00:00:00\",\"2024-01-13T00:00:00\",\"2024-01-14T00:00:00\",\"2024-01-15T00:00:00\",\"2024-01-16T00:00:00\",\"2024-01-17T00:00:00\",\"2024-01-18T00:00:00\",\"2024-01-19T00:00:00\",\"2024-01-20T00:00:00\",\"2024-01-21T00:00:00\",\"2024-01-22T00:00:00\",\"2024-01-23T00:00:00\",\"2024-01-24T00:00:00\",\"2024-01-25T00:00:00\",\"2024-01-26T00:00:00\",\"2024-01-27T00:00:00\",\"2024-01-28T00:00:00\",\"2024-01-29T00:00:00\",\"2024-01-30T00:00:00\",\"2024-01-31T00:00:00\",\"2024-02-01T00:00:00\",\"2024-02-02T00:00:00\",\"2024-02-03T00:00:00\",\"2024-02-04T00:00:00\",\"2024-02-05T00:00:00\",\"2024-02-06T00:00:00\",\"2024-02-07T00:00:00\",\"2024-02-08T00:00:00\",\"2024-02-09T00:00:00\",\"2024-02-10T00:00:00\",\"2024-02-11T00:00:00\",\"2024-02-12T00:00:00\",\"2024-02-13T00:00:00\",\"2024-02-14T00:00:00\",\"2024-02-15T00:00:00\",\"2024-02-16T00:00:00\",\"2024-02-17T00:00:00\",\"2024-02-18T00:00:00\",\"2024-02-19T00:00:00\",\"2024-02-20T00:00:00\",\"2024-02-21T00:00:00\",\"2024-02-22T00:00:00\",\"2024-02-23T00:00:00\",\"2024-02-24T00:00:00\",\"2024-02-25T00:00:00\",\"2024-02-26T00:00:00\",\"2024-02-27T00:00:00\",\"2024-02-28T00:00:00\",\"2024-02-29T00:00:00\",\"2024-03-01T00:00:00\",\"2024-03-02T00:00:00\",\"2024-03-03T00:00:00\",\"2024-03-04T00:00:00\",\"2024-03-05T00:00:00\",\"2024-03-06T00:00:00\",\"2024-03-07T00:00:00\",\"2024-03-08T00:00:00\",\"2024-03-09T00:00:00\",\"2024-03-10T00:00:00\",\"2024-03-11T00:00:00\",\"2024-03-12T00:00:00\",\"2024-03-13T00:00:00\",\"2024-03-14T00:00:00\",\"2024-03-15T00:00:00\",\"2024-03-16T00:00:00\",\"2024-03-17T00:00:00\",\"2024-03-18T00:00:00\",\"2024-03-19T00:00:00\",\"2024-03-20T00:00:00\",\"2024-03-21T00:00:00\",\"2024-03-22T00:00:00\",\"2024-03-23T00:00:00\",\"2024-03-24T00:00:00\",\"2024-03-25T00:00:00\",\"2024-03-26T00:00:00\",\"2024-03-27T00:00:00\",\"2024-03-28T00:00:00\",\"2024-03-29T00:00:00\",\"2024-03-30T00:00:00\",\"2024-03-31T00:00:00\",\"2024-04-01T00:00:00\",\"2024-04-02T00:00:00\",\"2024-04-03T00:00:00\",\"2024-04-04T00:00:00\",\"2024-04-05T00:00:00\",\"2024-04-06T00:00:00\",\"2024-04-07T00:00:00\",\"2024-04-08T00:00:00\",\"2024-04-09T00:00:00\",\"2024-04-10T00:00:00\",\"2024-04-11T00:00:00\",\"2024-04-12T00:00:00\",\"2024-04-13T00:00:00\",\"2024-04-14T00:00:00\",\"2024-04-15T00:00:00\",\"2024-04-16T00:00:00\",\"2024-04-17T00:00:00\",\"2024-04-18T00:00:00\",\"2024-04-19T00:00:00\",\"2024-04-20T00:00:00\",\"2024-04-21T00:00:00\",\"2024-04-22T00:00:00\",\"2024-04-23T00:00:00\",\"2024-04-24T00:00:00\",\"2024-04-25T00:00:00\",\"2024-04-26T00:00:00\",\"2024-04-27T00:00:00\",\"2024-04-28T00:00:00\",\"2024-04-29T00:00:00\",\"2024-04-30T00:00:00\",\"2024-05-01T00:00:00\",\"2024-05-02T00:00:00\",\"2024-05-03T00:00:00\",\"2024-05-04T00:00:00\",\"2024-05-05T00:00:00\",\"2024-05-06T00:00:00\",\"2024-05-07T00:00:00\",\"2024-05-08T00:00:00\",\"2024-05-09T00:00:00\",\"2024-05-10T00:00:00\"],\"xaxis\":\"x\",\"y\":[78.08,71.06,73.75999999999999,80.06,82.04,73.94,72.32,69.25999999999999,72.68,76.64,75.92,68.54,68.72,77.36,77.54,74.84,73.75999999999999,72.14,73.94,78.8,73.4,74.48,72.14,78.08,79.34,81.14,82.75999999999999,83.66,76.28,73.94,73.04,76.1,77.54,77.72,79.16,73.75999999999999,69.8,71.96,73.58,73.04,73.94,76.82,78.62,75.02,71.78,68.18,70.16,73.22,68.72,71.78,80.24000000000001,75.74000000000001,76.82,85.82,90.14,78.44,73.75999999999999,69.08,70.16,73.22,66.38,65.48,70.52,75.74000000000001,81.32,82.75999999999999,83.84,77.18,68.72,64.94,64.94,66.74000000000001,66.92,63.14,62.24,62.959999999999994,65.48,66.02,61.519999999999996,61.34,60.62,69.98,70.88,71.06,72.86,68.54,69.44,67.1,66.92,67.1,66.74000000000001,70.52,74.12,73.94,75.38,78.08,71.06,57.74,51.620000000000005,51.26,51.26,51.620000000000005,54.68,57.56,58.64,55.58,52.16,52.52,51.26,55.58,59.0,55.94,54.14,50.9,52.879999999999995,68.72,66.02,67.46,67.46,46.76,46.22,39.38,33.62,35.42,43.7,51.44,51.44,48.379999999999995,60.08,51.98,49.82,48.92,43.7,39.56,47.66,51.08,46.58,51.8,53.42,54.32,40.46,44.6,46.04,42.620000000000005,39.38,39.2,31.28,30.02,31.64,26.060000000000002,18.5,26.96,39.56,43.879999999999995,40.64,39.38,37.04,36.86,35.24,41.0,49.46,50.0,35.06,30.74,34.16,30.92,38.12,42.980000000000004,44.42,43.16,33.08,23.36,34.88,40.1,43.879999999999995,45.32,49.64,53.06,44.239999999999995,36.32,37.58,39.02,31.46,33.98,31.46,30.38,32.9,32.18,31.46,32.54,32.36,33.08,34.52,32.72,31.46,32.18,26.6,-2.559999999999995,-6.880000000000003,-1.480000000000004,7.16,20.3,12.379999999999999,10.220000000000002,8.96,25.34,34.16,35.42,36.5,38.12,37.58,37.22,33.62,38.12,37.4,40.28,37.94,34.16,35.78,34.34,37.04,37.58,49.82,50.54,37.94,33.08,33.62,35.6,34.34,41.0,30.56,21.74,30.56,35.24,41.72,52.16,51.98,45.5,28.04,40.28,52.7,62.78,39.02,28.4,39.38,45.68,54.68,61.88,47.84,41.72,41.9,44.239999999999995,40.82,37.22,45.32,58.28,59.18,51.8,43.16,46.4,38.839999999999996,30.02,38.12,40.82,32.72,34.88,33.98,37.4,50.9,50.72,34.34,38.48,42.260000000000005,48.2,42.620000000000005,43.519999999999996,43.16,36.14,38.12,41.72,42.44,44.06,55.04,59.72,56.120000000000005,55.58,54.14,55.4,69.44,62.78,62.78,65.48,53.6,49.28,42.620000000000005,43.7,53.42,59.18,45.14,43.7,49.28,65.66,67.28,66.38,60.440000000000005,69.44,65.66,64.58,63.14,58.82,58.1,65.3,66.74000000000001,58.82,55.04],\"yaxis\":\"y\",\"type\":\"scatter\"},{\"marker\":{\"color\":\"blue\",\"size\":10},\"mode\":\"markers\",\"showlegend\":false,\"x\":[\"2024-01-15T00:00:00\"],\"y\":[-6.880000000000003],\"type\":\"scatter\"}],                        {\"template\":{\"data\":{\"histogram2dcontour\":[{\"type\":\"histogram2dcontour\",\"colorbar\":{\"outlinewidth\":0,\"ticks\":\"\"},\"colorscale\":[[0.0,\"#0d0887\"],[0.1111111111111111,\"#46039f\"],[0.2222222222222222,\"#7201a8\"],[0.3333333333333333,\"#9c179e\"],[0.4444444444444444,\"#bd3786\"],[0.5555555555555556,\"#d8576b\"],[0.6666666666666666,\"#ed7953\"],[0.7777777777777778,\"#fb9f3a\"],[0.8888888888888888,\"#fdca26\"],[1.0,\"#f0f921\"]]}],\"choropleth\":[{\"type\":\"choropleth\",\"colorbar\":{\"outlinewidth\":0,\"ticks\":\"\"}}],\"histogram2d\":[{\"type\":\"histogram2d\",\"colorbar\":{\"outlinewidth\":0,\"ticks\":\"\"},\"colorscale\":[[0.0,\"#0d0887\"],[0.1111111111111111,\"#46039f\"],[0.2222222222222222,\"#7201a8\"],[0.3333333333333333,\"#9c179e\"],[0.4444444444444444,\"#bd3786\"],[0.5555555555555556,\"#d8576b\"],[0.6666666666666666,\"#ed7953\"],[0.7777777777777778,\"#fb9f3a\"],[0.8888888888888888,\"#fdca26\"],[1.0,\"#f0f921\"]]}],\"heatmap\":[{\"type\":\"heatmap\",\"colorbar\":{\"outlinewidth\":0,\"ticks\":\"\"},\"colorscale\":[[0.0,\"#0d0887\"],[0.1111111111111111,\"#46039f\"],[0.2222222222222222,\"#7201a8\"],[0.3333333333333333,\"#9c179e\"],[0.4444444444444444,\"#bd3786\"],[0.5555555555555556,\"#d8576b\"],[0.6666666666666666,\"#ed7953\"],[0.7777777777777778,\"#fb9f3a\"],[0.8888888888888888,\"#fdca26\"],[1.0,\"#f0f921\"]]}],\"heatmapgl\":[{\"type\":\"heatmapgl\",\"colorbar\":{\"outlinewidth\":0,\"ticks\":\"\"},\"colorscale\":[[0.0,\"#0d0887\"],[0.1111111111111111,\"#46039f\"],[0.2222222222222222,\"#7201a8\"],[0.3333333333333333,\"#9c179e\"],[0.4444444444444444,\"#bd3786\"],[0.5555555555555556,\"#d8576b\"],[0.6666666666666666,\"#ed7953\"],[0.7777777777777778,\"#fb9f3a\"],[0.8888888888888888,\"#fdca26\"],[1.0,\"#f0f921\"]]}],\"contourcarpet\":[{\"type\":\"contourcarpet\",\"colorbar\":{\"outlinewidth\":0,\"ticks\":\"\"}}],\"contour\":[{\"type\":\"contour\",\"colorbar\":{\"outlinewidth\":0,\"ticks\":\"\"},\"colorscale\":[[0.0,\"#0d0887\"],[0.1111111111111111,\"#46039f\"],[0.2222222222222222,\"#7201a8\"],[0.3333333333333333,\"#9c179e\"],[0.4444444444444444,\"#bd3786\"],[0.5555555555555556,\"#d8576b\"],[0.6666666666666666,\"#ed7953\"],[0.7777777777777778,\"#fb9f3a\"],[0.8888888888888888,\"#fdca26\"],[1.0,\"#f0f921\"]]}],\"surface\":[{\"type\":\"surface\",\"colorbar\":{\"outlinewidth\":0,\"ticks\":\"\"},\"colorscale\":[[0.0,\"#0d0887\"],[0.1111111111111111,\"#46039f\"],[0.2222222222222222,\"#7201a8\"],[0.3333333333333333,\"#9c179e\"],[0.4444444444444444,\"#bd3786\"],[0.5555555555555556,\"#d8576b\"],[0.6666666666666666,\"#ed7953\"],[0.7777777777777778,\"#fb9f3a\"],[0.8888888888888888,\"#fdca26\"],[1.0,\"#f0f921\"]]}],\"mesh3d\":[{\"type\":\"mesh3d\",\"colorbar\":{\"outlinewidth\":0,\"ticks\":\"\"}}],\"scatter\":[{\"fillpattern\":{\"fillmode\":\"overlay\",\"size\":10,\"solidity\":0.2},\"type\":\"scatter\"}],\"parcoords\":[{\"type\":\"parcoords\",\"line\":{\"colorbar\":{\"outlinewidth\":0,\"ticks\":\"\"}}}],\"scatterpolargl\":[{\"type\":\"scatterpolargl\",\"marker\":{\"colorbar\":{\"outlinewidth\":0,\"ticks\":\"\"}}}],\"bar\":[{\"error_x\":{\"color\":\"#2a3f5f\"},\"error_y\":{\"color\":\"#2a3f5f\"},\"marker\":{\"line\":{\"color\":\"#E5ECF6\",\"width\":0.5},\"pattern\":{\"fillmode\":\"overlay\",\"size\":10,\"solidity\":0.2}},\"type\":\"bar\"}],\"scattergeo\":[{\"type\":\"scattergeo\",\"marker\":{\"colorbar\":{\"outlinewidth\":0,\"ticks\":\"\"}}}],\"scatterpolar\":[{\"type\":\"scatterpolar\",\"marker\":{\"colorbar\":{\"outlinewidth\":0,\"ticks\":\"\"}}}],\"histogram\":[{\"marker\":{\"pattern\":{\"fillmode\":\"overlay\",\"size\":10,\"solidity\":0.2}},\"type\":\"histogram\"}],\"scattergl\":[{\"type\":\"scattergl\",\"marker\":{\"colorbar\":{\"outlinewidth\":0,\"ticks\":\"\"}}}],\"scatter3d\":[{\"type\":\"scatter3d\",\"line\":{\"colorbar\":{\"outlinewidth\":0,\"ticks\":\"\"}},\"marker\":{\"colorbar\":{\"outlinewidth\":0,\"ticks\":\"\"}}}],\"scattermapbox\":[{\"type\":\"scattermapbox\",\"marker\":{\"colorbar\":{\"outlinewidth\":0,\"ticks\":\"\"}}}],\"scatterternary\":[{\"type\":\"scatterternary\",\"marker\":{\"colorbar\":{\"outlinewidth\":0,\"ticks\":\"\"}}}],\"scattercarpet\":[{\"type\":\"scattercarpet\",\"marker\":{\"colorbar\":{\"outlinewidth\":0,\"ticks\":\"\"}}}],\"carpet\":[{\"aaxis\":{\"endlinecolor\":\"#2a3f5f\",\"gridcolor\":\"white\",\"linecolor\":\"white\",\"minorgridcolor\":\"white\",\"startlinecolor\":\"#2a3f5f\"},\"baxis\":{\"endlinecolor\":\"#2a3f5f\",\"gridcolor\":\"white\",\"linecolor\":\"white\",\"minorgridcolor\":\"white\",\"startlinecolor\":\"#2a3f5f\"},\"type\":\"carpet\"}],\"table\":[{\"cells\":{\"fill\":{\"color\":\"#EBF0F8\"},\"line\":{\"color\":\"white\"}},\"header\":{\"fill\":{\"color\":\"#C8D4E3\"},\"line\":{\"color\":\"white\"}},\"type\":\"table\"}],\"barpolar\":[{\"marker\":{\"line\":{\"color\":\"#E5ECF6\",\"width\":0.5},\"pattern\":{\"fillmode\":\"overlay\",\"size\":10,\"solidity\":0.2}},\"type\":\"barpolar\"}],\"pie\":[{\"automargin\":true,\"type\":\"pie\"}]},\"layout\":{\"autotypenumbers\":\"strict\",\"colorway\":[\"#636efa\",\"#EF553B\",\"#00cc96\",\"#ab63fa\",\"#FFA15A\",\"#19d3f3\",\"#FF6692\",\"#B6E880\",\"#FF97FF\",\"#FECB52\"],\"font\":{\"color\":\"#2a3f5f\"},\"hovermode\":\"closest\",\"hoverlabel\":{\"align\":\"left\"},\"paper_bgcolor\":\"white\",\"plot_bgcolor\":\"#E5ECF6\",\"polar\":{\"bgcolor\":\"#E5ECF6\",\"angularaxis\":{\"gridcolor\":\"white\",\"linecolor\":\"white\",\"ticks\":\"\"},\"radialaxis\":{\"gridcolor\":\"white\",\"linecolor\":\"white\",\"ticks\":\"\"}},\"ternary\":{\"bgcolor\":\"#E5ECF6\",\"aaxis\":{\"gridcolor\":\"white\",\"linecolor\":\"white\",\"ticks\":\"\"},\"baxis\":{\"gridcolor\":\"white\",\"linecolor\":\"white\",\"ticks\":\"\"},\"caxis\":{\"gridcolor\":\"white\",\"linecolor\":\"white\",\"ticks\":\"\"}},\"coloraxis\":{\"colorbar\":{\"outlinewidth\":0,\"ticks\":\"\"}},\"colorscale\":{\"sequential\":[[0.0,\"#0d0887\"],[0.1111111111111111,\"#46039f\"],[0.2222222222222222,\"#7201a8\"],[0.3333333333333333,\"#9c179e\"],[0.4444444444444444,\"#bd3786\"],[0.5555555555555556,\"#d8576b\"],[0.6666666666666666,\"#ed7953\"],[0.7777777777777778,\"#fb9f3a\"],[0.8888888888888888,\"#fdca26\"],[1.0,\"#f0f921\"]],\"sequentialminus\":[[0.0,\"#0d0887\"],[0.1111111111111111,\"#46039f\"],[0.2222222222222222,\"#7201a8\"],[0.3333333333333333,\"#9c179e\"],[0.4444444444444444,\"#bd3786\"],[0.5555555555555556,\"#d8576b\"],[0.6666666666666666,\"#ed7953\"],[0.7777777777777778,\"#fb9f3a\"],[0.8888888888888888,\"#fdca26\"],[1.0,\"#f0f921\"]],\"diverging\":[[0,\"#8e0152\"],[0.1,\"#c51b7d\"],[0.2,\"#de77ae\"],[0.3,\"#f1b6da\"],[0.4,\"#fde0ef\"],[0.5,\"#f7f7f7\"],[0.6,\"#e6f5d0\"],[0.7,\"#b8e186\"],[0.8,\"#7fbc41\"],[0.9,\"#4d9221\"],[1,\"#276419\"]]},\"xaxis\":{\"gridcolor\":\"white\",\"linecolor\":\"white\",\"ticks\":\"\",\"title\":{\"standoff\":15},\"zerolinecolor\":\"white\",\"automargin\":true,\"zerolinewidth\":2},\"yaxis\":{\"gridcolor\":\"white\",\"linecolor\":\"white\",\"ticks\":\"\",\"title\":{\"standoff\":15},\"zerolinecolor\":\"white\",\"automargin\":true,\"zerolinewidth\":2},\"scene\":{\"xaxis\":{\"backgroundcolor\":\"#E5ECF6\",\"gridcolor\":\"white\",\"linecolor\":\"white\",\"showbackground\":true,\"ticks\":\"\",\"zerolinecolor\":\"white\",\"gridwidth\":2},\"yaxis\":{\"backgroundcolor\":\"#E5ECF6\",\"gridcolor\":\"white\",\"linecolor\":\"white\",\"showbackground\":true,\"ticks\":\"\",\"zerolinecolor\":\"white\",\"gridwidth\":2},\"zaxis\":{\"backgroundcolor\":\"#E5ECF6\",\"gridcolor\":\"white\",\"linecolor\":\"white\",\"showbackground\":true,\"ticks\":\"\",\"zerolinecolor\":\"white\",\"gridwidth\":2}},\"shapedefaults\":{\"line\":{\"color\":\"#2a3f5f\"}},\"annotationdefaults\":{\"arrowcolor\":\"#2a3f5f\",\"arrowhead\":0,\"arrowwidth\":1},\"geo\":{\"bgcolor\":\"white\",\"landcolor\":\"#E5ECF6\",\"subunitcolor\":\"white\",\"showland\":true,\"showlakes\":true,\"lakecolor\":\"white\"},\"title\":{\"x\":0.05},\"mapbox\":{\"style\":\"light\"}}},\"xaxis\":{\"anchor\":\"y\",\"domain\":[0.0,1.0],\"title\":{\"text\":\"Datetime\"}},\"yaxis\":{\"anchor\":\"x\",\"domain\":[0.0,1.0],\"title\":{\"text\":\"Temperature (Deg. F)\"}},\"legend\":{\"tracegroupgap\":0},\"margin\":{\"t\":60},\"title\":{\"text\":\"Chicago Temperatures from NCDC\"},\"width\":576,\"height\":288,\"annotations\":[{\"arrowhead\":1,\"ax\":0,\"ay\":10,\"showarrow\":true,\"text\":\"Coldest day at -6.88\\u00b0F\",\"x\":\"2024-01-15T00:00:00\",\"y\":-6.880000000000003},{\"showarrow\":false,\"text\":\"WJE Conference!\",\"x\":\"2024-05-04\",\"xanchor\":\"right\",\"xref\":\"x\",\"y\":1,\"yanchor\":\"top\",\"yref\":\"y domain\"},{\"showarrow\":false,\"text\":\"WJE Conference!\",\"x\":\"2024-05-04\",\"xanchor\":\"right\",\"xref\":\"x\",\"y\":1,\"yanchor\":\"top\",\"yref\":\"y domain\"}],\"shapes\":[{\"fillcolor\":\"red\",\"layer\":\"below\",\"line\":{\"width\":0},\"opacity\":0.5,\"type\":\"rect\",\"x0\":\"2024-04-28\",\"x1\":\"2024-05-04\",\"xref\":\"x\",\"y0\":0,\"y1\":1,\"yref\":\"y domain\"},{\"fillcolor\":\"red\",\"layer\":\"below\",\"line\":{\"width\":0},\"opacity\":0.5,\"type\":\"rect\",\"x0\":\"2024-04-28\",\"x1\":\"2024-05-04\",\"xref\":\"x\",\"y0\":0,\"y1\":1,\"yref\":\"y domain\"}]},                        {\"responsive\": true}                    ).then(function(){\n",
              "                            \n",
              "var gd = document.getElementById('dfa2088b-9bc4-4ac0-af61-c241d7d82e0f');\n",
              "var x = new MutationObserver(function (mutations, observer) {{\n",
              "        var display = window.getComputedStyle(gd).display;\n",
              "        if (!display || display === 'none') {{\n",
              "            console.log([gd, 'removed!']);\n",
              "            Plotly.purge(gd);\n",
              "            observer.disconnect();\n",
              "        }}\n",
              "}});\n",
              "\n",
              "// Listen for the removal of the full notebook cells\n",
              "var notebookContainer = gd.closest('#notebook-container');\n",
              "if (notebookContainer) {{\n",
              "    x.observe(notebookContainer, {childList: true});\n",
              "}}\n",
              "\n",
              "// Listen for the clearing of the current output cell\n",
              "var outputEl = gd.closest('.output');\n",
              "if (outputEl) {{\n",
              "    x.observe(outputEl, {childList: true});\n",
              "}}\n",
              "\n",
              "                        })                };                            </script>        </div>\n",
              "</body>\n",
              "</html>"
            ]
          },
          "metadata": {}
        }
      ]
    },
    {
      "cell_type": "code",
      "source": [
        "fig.write_html('temp.html')"
      ],
      "metadata": {
        "id": "ai7pGT1KGmIj"
      },
      "execution_count": 44,
      "outputs": []
    },
    {
      "cell_type": "markdown",
      "source": [
        "## Time permitting - Precipitation"
      ],
      "metadata": {
        "id": "Bum-Ycg_OXQR"
      }
    },
    {
      "cell_type": "markdown",
      "source": [
        "Overwritting variables is not recommended, but fine for what we are doing. Better would be to write a function (another day!)"
      ],
      "metadata": {
        "id": "K79re_sGOciY"
      }
    },
    {
      "cell_type": "code",
      "source": [
        "data_type_id = 'PRCP'  # Average temperatureRCP"
      ],
      "metadata": {
        "id": "9KIxOST5G27w"
      },
      "execution_count": 84,
      "outputs": []
    },
    {
      "cell_type": "code",
      "source": [
        "# Create the request URL\n",
        "#url2 = f\"{base_url}{endpoint}?datasetid={dataset_id}&locationid={location_id}&datatypeid={data_type_id}&startdate={start_date}&enddate={end_date}&limit=1000\"\n",
        "url2 = f\"{base_url}{endpoint}?datasetid={dataset_id}&stationid={station_id}&datatypeid={data_type_id}&startdate={start_date}&enddate={end_date}&limit=1000\"\n"
      ],
      "metadata": {
        "id": "EIHJ_viPKEjy"
      },
      "execution_count": 85,
      "outputs": []
    },
    {
      "cell_type": "code",
      "source": [
        "# Make the API request\n",
        "response = requests.get(url2, headers=headers)\n",
        "\n",
        "# Check if the request was successful\n",
        "if response.status_code == 200:\n",
        "    # Load data into a JSON object\n",
        "    data = json.loads(response.text)\n",
        "    # Print the data\n",
        "    #print(json.dumps(data, indent=4))\n",
        "else:\n",
        "    print(\"Failed to retrieve data:\", response.status_code)\n"
      ],
      "metadata": {
        "id": "t1wn0ab5SRtz"
      },
      "execution_count": 86,
      "outputs": []
    },
    {
      "cell_type": "code",
      "source": [
        "# convert data into a pandas dataframe\n",
        "df = pd.DataFrame(data['results'])\n",
        "df"
      ],
      "metadata": {
        "colab": {
          "base_uri": "https://localhost:8080/",
          "height": 597
        },
        "id": "kHz5zIU0STDa",
        "outputId": "d02ad32f-f66e-4ec6-e1ed-e3523cd74dbb"
      },
      "execution_count": 87,
      "outputs": [
        {
          "output_type": "execute_result",
          "data": {
            "text/plain": [
              "                    date datatype            station attributes  value\n",
              "0    2023-07-01T00:00:00     PRCP  GHCND:USW00094846   ,,W,2400    119\n",
              "1    2023-07-02T00:00:00     PRCP  GHCND:USW00094846   ,,W,2400    851\n",
              "2    2023-07-03T00:00:00     PRCP  GHCND:USW00094846   ,,W,2400      0\n",
              "3    2023-07-04T00:00:00     PRCP  GHCND:USW00094846   ,,W,2400      0\n",
              "4    2023-07-05T00:00:00     PRCP  GHCND:USW00094846   ,,W,2400    117\n",
              "..                   ...      ...                ...        ...    ...\n",
              "310  2024-05-06T00:00:00     PRCP  GHCND:USW00094846   ,,W,2400      0\n",
              "311  2024-05-07T00:00:00     PRCP  GHCND:USW00094846   ,,W,2400    198\n",
              "312  2024-05-08T00:00:00     PRCP  GHCND:USW00094846   ,,W,2400      0\n",
              "313  2024-05-09T00:00:00     PRCP  GHCND:USW00094846   ,,W,2400    130\n",
              "314  2024-05-10T00:00:00     PRCP  GHCND:USW00094846   ,,W,2400     28\n",
              "\n",
              "[315 rows x 5 columns]"
            ],
            "text/html": [
              "\n",
              "  <div id=\"df-767128f4-8428-474e-8868-d770c89b78c6\" class=\"colab-df-container\">\n",
              "    <div>\n",
              "<style scoped>\n",
              "    .dataframe tbody tr th:only-of-type {\n",
              "        vertical-align: middle;\n",
              "    }\n",
              "\n",
              "    .dataframe tbody tr th {\n",
              "        vertical-align: top;\n",
              "    }\n",
              "\n",
              "    .dataframe thead th {\n",
              "        text-align: right;\n",
              "    }\n",
              "</style>\n",
              "<table border=\"1\" class=\"dataframe\">\n",
              "  <thead>\n",
              "    <tr style=\"text-align: right;\">\n",
              "      <th></th>\n",
              "      <th>date</th>\n",
              "      <th>datatype</th>\n",
              "      <th>station</th>\n",
              "      <th>attributes</th>\n",
              "      <th>value</th>\n",
              "    </tr>\n",
              "  </thead>\n",
              "  <tbody>\n",
              "    <tr>\n",
              "      <th>0</th>\n",
              "      <td>2023-07-01T00:00:00</td>\n",
              "      <td>PRCP</td>\n",
              "      <td>GHCND:USW00094846</td>\n",
              "      <td>,,W,2400</td>\n",
              "      <td>119</td>\n",
              "    </tr>\n",
              "    <tr>\n",
              "      <th>1</th>\n",
              "      <td>2023-07-02T00:00:00</td>\n",
              "      <td>PRCP</td>\n",
              "      <td>GHCND:USW00094846</td>\n",
              "      <td>,,W,2400</td>\n",
              "      <td>851</td>\n",
              "    </tr>\n",
              "    <tr>\n",
              "      <th>2</th>\n",
              "      <td>2023-07-03T00:00:00</td>\n",
              "      <td>PRCP</td>\n",
              "      <td>GHCND:USW00094846</td>\n",
              "      <td>,,W,2400</td>\n",
              "      <td>0</td>\n",
              "    </tr>\n",
              "    <tr>\n",
              "      <th>3</th>\n",
              "      <td>2023-07-04T00:00:00</td>\n",
              "      <td>PRCP</td>\n",
              "      <td>GHCND:USW00094846</td>\n",
              "      <td>,,W,2400</td>\n",
              "      <td>0</td>\n",
              "    </tr>\n",
              "    <tr>\n",
              "      <th>4</th>\n",
              "      <td>2023-07-05T00:00:00</td>\n",
              "      <td>PRCP</td>\n",
              "      <td>GHCND:USW00094846</td>\n",
              "      <td>,,W,2400</td>\n",
              "      <td>117</td>\n",
              "    </tr>\n",
              "    <tr>\n",
              "      <th>...</th>\n",
              "      <td>...</td>\n",
              "      <td>...</td>\n",
              "      <td>...</td>\n",
              "      <td>...</td>\n",
              "      <td>...</td>\n",
              "    </tr>\n",
              "    <tr>\n",
              "      <th>310</th>\n",
              "      <td>2024-05-06T00:00:00</td>\n",
              "      <td>PRCP</td>\n",
              "      <td>GHCND:USW00094846</td>\n",
              "      <td>,,W,2400</td>\n",
              "      <td>0</td>\n",
              "    </tr>\n",
              "    <tr>\n",
              "      <th>311</th>\n",
              "      <td>2024-05-07T00:00:00</td>\n",
              "      <td>PRCP</td>\n",
              "      <td>GHCND:USW00094846</td>\n",
              "      <td>,,W,2400</td>\n",
              "      <td>198</td>\n",
              "    </tr>\n",
              "    <tr>\n",
              "      <th>312</th>\n",
              "      <td>2024-05-08T00:00:00</td>\n",
              "      <td>PRCP</td>\n",
              "      <td>GHCND:USW00094846</td>\n",
              "      <td>,,W,2400</td>\n",
              "      <td>0</td>\n",
              "    </tr>\n",
              "    <tr>\n",
              "      <th>313</th>\n",
              "      <td>2024-05-09T00:00:00</td>\n",
              "      <td>PRCP</td>\n",
              "      <td>GHCND:USW00094846</td>\n",
              "      <td>,,W,2400</td>\n",
              "      <td>130</td>\n",
              "    </tr>\n",
              "    <tr>\n",
              "      <th>314</th>\n",
              "      <td>2024-05-10T00:00:00</td>\n",
              "      <td>PRCP</td>\n",
              "      <td>GHCND:USW00094846</td>\n",
              "      <td>,,W,2400</td>\n",
              "      <td>28</td>\n",
              "    </tr>\n",
              "  </tbody>\n",
              "</table>\n",
              "<p>315 rows × 5 columns</p>\n",
              "</div>\n",
              "    <div class=\"colab-df-buttons\">\n",
              "\n",
              "  <div class=\"colab-df-container\">\n",
              "    <button class=\"colab-df-convert\" onclick=\"convertToInteractive('df-767128f4-8428-474e-8868-d770c89b78c6')\"\n",
              "            title=\"Convert this dataframe to an interactive table.\"\n",
              "            style=\"display:none;\">\n",
              "\n",
              "  <svg xmlns=\"http://www.w3.org/2000/svg\" height=\"24px\" viewBox=\"0 -960 960 960\">\n",
              "    <path d=\"M120-120v-720h720v720H120Zm60-500h600v-160H180v160Zm220 220h160v-160H400v160Zm0 220h160v-160H400v160ZM180-400h160v-160H180v160Zm440 0h160v-160H620v160ZM180-180h160v-160H180v160Zm440 0h160v-160H620v160Z\"/>\n",
              "  </svg>\n",
              "    </button>\n",
              "\n",
              "  <style>\n",
              "    .colab-df-container {\n",
              "      display:flex;\n",
              "      gap: 12px;\n",
              "    }\n",
              "\n",
              "    .colab-df-convert {\n",
              "      background-color: #E8F0FE;\n",
              "      border: none;\n",
              "      border-radius: 50%;\n",
              "      cursor: pointer;\n",
              "      display: none;\n",
              "      fill: #1967D2;\n",
              "      height: 32px;\n",
              "      padding: 0 0 0 0;\n",
              "      width: 32px;\n",
              "    }\n",
              "\n",
              "    .colab-df-convert:hover {\n",
              "      background-color: #E2EBFA;\n",
              "      box-shadow: 0px 1px 2px rgba(60, 64, 67, 0.3), 0px 1px 3px 1px rgba(60, 64, 67, 0.15);\n",
              "      fill: #174EA6;\n",
              "    }\n",
              "\n",
              "    .colab-df-buttons div {\n",
              "      margin-bottom: 4px;\n",
              "    }\n",
              "\n",
              "    [theme=dark] .colab-df-convert {\n",
              "      background-color: #3B4455;\n",
              "      fill: #D2E3FC;\n",
              "    }\n",
              "\n",
              "    [theme=dark] .colab-df-convert:hover {\n",
              "      background-color: #434B5C;\n",
              "      box-shadow: 0px 1px 3px 1px rgba(0, 0, 0, 0.15);\n",
              "      filter: drop-shadow(0px 1px 2px rgba(0, 0, 0, 0.3));\n",
              "      fill: #FFFFFF;\n",
              "    }\n",
              "  </style>\n",
              "\n",
              "    <script>\n",
              "      const buttonEl =\n",
              "        document.querySelector('#df-767128f4-8428-474e-8868-d770c89b78c6 button.colab-df-convert');\n",
              "      buttonEl.style.display =\n",
              "        google.colab.kernel.accessAllowed ? 'block' : 'none';\n",
              "\n",
              "      async function convertToInteractive(key) {\n",
              "        const element = document.querySelector('#df-767128f4-8428-474e-8868-d770c89b78c6');\n",
              "        const dataTable =\n",
              "          await google.colab.kernel.invokeFunction('convertToInteractive',\n",
              "                                                    [key], {});\n",
              "        if (!dataTable) return;\n",
              "\n",
              "        const docLinkHtml = 'Like what you see? Visit the ' +\n",
              "          '<a target=\"_blank\" href=https://colab.research.google.com/notebooks/data_table.ipynb>data table notebook</a>'\n",
              "          + ' to learn more about interactive tables.';\n",
              "        element.innerHTML = '';\n",
              "        dataTable['output_type'] = 'display_data';\n",
              "        await google.colab.output.renderOutput(dataTable, element);\n",
              "        const docLink = document.createElement('div');\n",
              "        docLink.innerHTML = docLinkHtml;\n",
              "        element.appendChild(docLink);\n",
              "      }\n",
              "    </script>\n",
              "  </div>\n",
              "\n",
              "\n",
              "<div id=\"df-675d460f-f0b2-41ac-a684-31dddc72fef9\">\n",
              "  <button class=\"colab-df-quickchart\" onclick=\"quickchart('df-675d460f-f0b2-41ac-a684-31dddc72fef9')\"\n",
              "            title=\"Suggest charts\"\n",
              "            style=\"display:none;\">\n",
              "\n",
              "<svg xmlns=\"http://www.w3.org/2000/svg\" height=\"24px\"viewBox=\"0 0 24 24\"\n",
              "     width=\"24px\">\n",
              "    <g>\n",
              "        <path d=\"M19 3H5c-1.1 0-2 .9-2 2v14c0 1.1.9 2 2 2h14c1.1 0 2-.9 2-2V5c0-1.1-.9-2-2-2zM9 17H7v-7h2v7zm4 0h-2V7h2v10zm4 0h-2v-4h2v4z\"/>\n",
              "    </g>\n",
              "</svg>\n",
              "  </button>\n",
              "\n",
              "<style>\n",
              "  .colab-df-quickchart {\n",
              "      --bg-color: #E8F0FE;\n",
              "      --fill-color: #1967D2;\n",
              "      --hover-bg-color: #E2EBFA;\n",
              "      --hover-fill-color: #174EA6;\n",
              "      --disabled-fill-color: #AAA;\n",
              "      --disabled-bg-color: #DDD;\n",
              "  }\n",
              "\n",
              "  [theme=dark] .colab-df-quickchart {\n",
              "      --bg-color: #3B4455;\n",
              "      --fill-color: #D2E3FC;\n",
              "      --hover-bg-color: #434B5C;\n",
              "      --hover-fill-color: #FFFFFF;\n",
              "      --disabled-bg-color: #3B4455;\n",
              "      --disabled-fill-color: #666;\n",
              "  }\n",
              "\n",
              "  .colab-df-quickchart {\n",
              "    background-color: var(--bg-color);\n",
              "    border: none;\n",
              "    border-radius: 50%;\n",
              "    cursor: pointer;\n",
              "    display: none;\n",
              "    fill: var(--fill-color);\n",
              "    height: 32px;\n",
              "    padding: 0;\n",
              "    width: 32px;\n",
              "  }\n",
              "\n",
              "  .colab-df-quickchart:hover {\n",
              "    background-color: var(--hover-bg-color);\n",
              "    box-shadow: 0 1px 2px rgba(60, 64, 67, 0.3), 0 1px 3px 1px rgba(60, 64, 67, 0.15);\n",
              "    fill: var(--button-hover-fill-color);\n",
              "  }\n",
              "\n",
              "  .colab-df-quickchart-complete:disabled,\n",
              "  .colab-df-quickchart-complete:disabled:hover {\n",
              "    background-color: var(--disabled-bg-color);\n",
              "    fill: var(--disabled-fill-color);\n",
              "    box-shadow: none;\n",
              "  }\n",
              "\n",
              "  .colab-df-spinner {\n",
              "    border: 2px solid var(--fill-color);\n",
              "    border-color: transparent;\n",
              "    border-bottom-color: var(--fill-color);\n",
              "    animation:\n",
              "      spin 1s steps(1) infinite;\n",
              "  }\n",
              "\n",
              "  @keyframes spin {\n",
              "    0% {\n",
              "      border-color: transparent;\n",
              "      border-bottom-color: var(--fill-color);\n",
              "      border-left-color: var(--fill-color);\n",
              "    }\n",
              "    20% {\n",
              "      border-color: transparent;\n",
              "      border-left-color: var(--fill-color);\n",
              "      border-top-color: var(--fill-color);\n",
              "    }\n",
              "    30% {\n",
              "      border-color: transparent;\n",
              "      border-left-color: var(--fill-color);\n",
              "      border-top-color: var(--fill-color);\n",
              "      border-right-color: var(--fill-color);\n",
              "    }\n",
              "    40% {\n",
              "      border-color: transparent;\n",
              "      border-right-color: var(--fill-color);\n",
              "      border-top-color: var(--fill-color);\n",
              "    }\n",
              "    60% {\n",
              "      border-color: transparent;\n",
              "      border-right-color: var(--fill-color);\n",
              "    }\n",
              "    80% {\n",
              "      border-color: transparent;\n",
              "      border-right-color: var(--fill-color);\n",
              "      border-bottom-color: var(--fill-color);\n",
              "    }\n",
              "    90% {\n",
              "      border-color: transparent;\n",
              "      border-bottom-color: var(--fill-color);\n",
              "    }\n",
              "  }\n",
              "</style>\n",
              "\n",
              "  <script>\n",
              "    async function quickchart(key) {\n",
              "      const quickchartButtonEl =\n",
              "        document.querySelector('#' + key + ' button');\n",
              "      quickchartButtonEl.disabled = true;  // To prevent multiple clicks.\n",
              "      quickchartButtonEl.classList.add('colab-df-spinner');\n",
              "      try {\n",
              "        const charts = await google.colab.kernel.invokeFunction(\n",
              "            'suggestCharts', [key], {});\n",
              "      } catch (error) {\n",
              "        console.error('Error during call to suggestCharts:', error);\n",
              "      }\n",
              "      quickchartButtonEl.classList.remove('colab-df-spinner');\n",
              "      quickchartButtonEl.classList.add('colab-df-quickchart-complete');\n",
              "    }\n",
              "    (() => {\n",
              "      let quickchartButtonEl =\n",
              "        document.querySelector('#df-675d460f-f0b2-41ac-a684-31dddc72fef9 button');\n",
              "      quickchartButtonEl.style.display =\n",
              "        google.colab.kernel.accessAllowed ? 'block' : 'none';\n",
              "    })();\n",
              "  </script>\n",
              "</div>\n",
              "\n",
              "  <div id=\"id_43f2b0be-474e-4f6b-b576-34c65ca29c5a\">\n",
              "    <style>\n",
              "      .colab-df-generate {\n",
              "        background-color: #E8F0FE;\n",
              "        border: none;\n",
              "        border-radius: 50%;\n",
              "        cursor: pointer;\n",
              "        display: none;\n",
              "        fill: #1967D2;\n",
              "        height: 32px;\n",
              "        padding: 0 0 0 0;\n",
              "        width: 32px;\n",
              "      }\n",
              "\n",
              "      .colab-df-generate:hover {\n",
              "        background-color: #E2EBFA;\n",
              "        box-shadow: 0px 1px 2px rgba(60, 64, 67, 0.3), 0px 1px 3px 1px rgba(60, 64, 67, 0.15);\n",
              "        fill: #174EA6;\n",
              "      }\n",
              "\n",
              "      [theme=dark] .colab-df-generate {\n",
              "        background-color: #3B4455;\n",
              "        fill: #D2E3FC;\n",
              "      }\n",
              "\n",
              "      [theme=dark] .colab-df-generate:hover {\n",
              "        background-color: #434B5C;\n",
              "        box-shadow: 0px 1px 3px 1px rgba(0, 0, 0, 0.15);\n",
              "        filter: drop-shadow(0px 1px 2px rgba(0, 0, 0, 0.3));\n",
              "        fill: #FFFFFF;\n",
              "      }\n",
              "    </style>\n",
              "    <button class=\"colab-df-generate\" onclick=\"generateWithVariable('df')\"\n",
              "            title=\"Generate code using this dataframe.\"\n",
              "            style=\"display:none;\">\n",
              "\n",
              "  <svg xmlns=\"http://www.w3.org/2000/svg\" height=\"24px\"viewBox=\"0 0 24 24\"\n",
              "       width=\"24px\">\n",
              "    <path d=\"M7,19H8.4L18.45,9,17,7.55,7,17.6ZM5,21V16.75L18.45,3.32a2,2,0,0,1,2.83,0l1.4,1.43a1.91,1.91,0,0,1,.58,1.4,1.91,1.91,0,0,1-.58,1.4L9.25,21ZM18.45,9,17,7.55Zm-12,3A5.31,5.31,0,0,0,4.9,8.1,5.31,5.31,0,0,0,1,6.5,5.31,5.31,0,0,0,4.9,4.9,5.31,5.31,0,0,0,6.5,1,5.31,5.31,0,0,0,8.1,4.9,5.31,5.31,0,0,0,12,6.5,5.46,5.46,0,0,0,6.5,12Z\"/>\n",
              "  </svg>\n",
              "    </button>\n",
              "    <script>\n",
              "      (() => {\n",
              "      const buttonEl =\n",
              "        document.querySelector('#id_43f2b0be-474e-4f6b-b576-34c65ca29c5a button.colab-df-generate');\n",
              "      buttonEl.style.display =\n",
              "        google.colab.kernel.accessAllowed ? 'block' : 'none';\n",
              "\n",
              "      buttonEl.onclick = () => {\n",
              "        google.colab.notebook.generateWithVariable('df');\n",
              "      }\n",
              "      })();\n",
              "    </script>\n",
              "  </div>\n",
              "\n",
              "    </div>\n",
              "  </div>\n"
            ],
            "application/vnd.google.colaboratory.intrinsic+json": {
              "type": "dataframe",
              "variable_name": "df",
              "summary": "{\n  \"name\": \"df\",\n  \"rows\": 315,\n  \"fields\": [\n    {\n      \"column\": \"date\",\n      \"properties\": {\n        \"dtype\": \"object\",\n        \"num_unique_values\": 315,\n        \"samples\": [\n          \"2024-01-23T00:00:00\",\n          \"2023-08-03T00:00:00\",\n          \"2023-12-11T00:00:00\"\n        ],\n        \"semantic_type\": \"\",\n        \"description\": \"\"\n      }\n    },\n    {\n      \"column\": \"datatype\",\n      \"properties\": {\n        \"dtype\": \"category\",\n        \"num_unique_values\": 1,\n        \"samples\": [\n          \"PRCP\"\n        ],\n        \"semantic_type\": \"\",\n        \"description\": \"\"\n      }\n    },\n    {\n      \"column\": \"station\",\n      \"properties\": {\n        \"dtype\": \"category\",\n        \"num_unique_values\": 1,\n        \"samples\": [\n          \"GHCND:USW00094846\"\n        ],\n        \"semantic_type\": \"\",\n        \"description\": \"\"\n      }\n    },\n    {\n      \"column\": \"attributes\",\n      \"properties\": {\n        \"dtype\": \"category\",\n        \"num_unique_values\": 2,\n        \"samples\": [\n          \"T,,W,2400\"\n        ],\n        \"semantic_type\": \"\",\n        \"description\": \"\"\n      }\n    },\n    {\n      \"column\": \"value\",\n      \"properties\": {\n        \"dtype\": \"number\",\n        \"std\": 70,\n        \"min\": 0,\n        \"max\": 851,\n        \"num_unique_values\": 54,\n        \"samples\": [\n          406\n        ],\n        \"semantic_type\": \"\",\n        \"description\": \"\"\n      }\n    }\n  ]\n}"
            }
          },
          "metadata": {},
          "execution_count": 87
        }
      ]
    },
    {
      "cell_type": "markdown",
      "source": [
        "Taking some effort to do some research after reviewing this data"
      ],
      "metadata": {
        "id": "QF1kIjdTOwop"
      }
    },
    {
      "cell_type": "code",
      "source": [
        "df['value']"
      ],
      "metadata": {
        "colab": {
          "base_uri": "https://localhost:8080/"
        },
        "id": "TE_WQgefuzLI",
        "outputId": "650a45b5-d3ab-49c7-acdb-9e85e956a531"
      },
      "execution_count": 88,
      "outputs": [
        {
          "output_type": "execute_result",
          "data": {
            "text/plain": [
              "0      119\n",
              "1      851\n",
              "2        0\n",
              "3        0\n",
              "4      117\n",
              "      ... \n",
              "310      0\n",
              "311    198\n",
              "312      0\n",
              "313    130\n",
              "314     28\n",
              "Name: value, Length: 315, dtype: int64"
            ]
          },
          "metadata": {},
          "execution_count": 88
        }
      ]
    },
    {
      "cell_type": "code",
      "source": [
        "df.set_index('date', inplace=True)"
      ],
      "metadata": {
        "id": "tqkizdjwSZbp"
      },
      "execution_count": 89,
      "outputs": []
    },
    {
      "cell_type": "code",
      "source": [
        "chicago_prcp= df[['value']]"
      ],
      "metadata": {
        "id": "7wy-lsx-ujyM"
      },
      "execution_count": 90,
      "outputs": []
    },
    {
      "cell_type": "code",
      "source": [
        "chicago_prcp.plot()"
      ],
      "metadata": {
        "colab": {
          "base_uri": "https://localhost:8080/",
          "height": 467
        },
        "id": "UPDvItR3Stdj",
        "outputId": "b248199e-b324-4f3e-e2b5-c304a007719b"
      },
      "execution_count": 91,
      "outputs": [
        {
          "output_type": "execute_result",
          "data": {
            "text/plain": [
              "<Axes: xlabel='date'>"
            ]
          },
          "metadata": {},
          "execution_count": 91
        },
        {
          "output_type": "display_data",
          "data": {
            "text/plain": [
              "<Figure size 640x480 with 1 Axes>"
            ],
            "image/png": "[encoded data removed]"
          },
          "metadata": {}
        }
      ]
    },
    {
      "cell_type": "markdown",
      "source": [
        "So after some research it looks like mm."
      ],
      "metadata": {
        "id": "YrZZlBi2O3hn"
      }
    },
    {
      "cell_type": "code",
      "source": [
        "# convert chicago_prcp['value'] from mm's to inches and store in chicago['prcp']\n",
        "chicago_prcp['prcp'] = chicago_prcp['value'] / 254"
      ],
      "metadata": {
        "colab": {
          "base_uri": "https://localhost:8080/"
        },
        "id": "kI6dpWaZSyw_",
        "outputId": "4a86d520-fbcd-4681-f6ef-65ec1052e636"
      },
      "execution_count": 92,
      "outputs": [
        {
          "output_type": "stream",
          "name": "stderr",
          "text": [
            "<ipython-input-92-77149cbd5b12>:2: SettingWithCopyWarning:\n",
            "\n",
            "\n",
            "A value is trying to be set on a copy of a slice from a DataFrame.\n",
            "Try using .loc[row_indexer,col_indexer] = value instead\n",
            "\n",
            "See the caveats in the documentation: https://pandas.pydata.org/pandas-docs/stable/user_guide/indexing.html#returning-a-view-versus-a-copy\n",
            "\n"
          ]
        }
      ]
    },
    {
      "cell_type": "markdown",
      "source": [
        "I pulled another source and this looks about right"
      ],
      "metadata": {
        "id": "Wr294yOhO_o4"
      }
    },
    {
      "cell_type": "code",
      "source": [
        "chicago_prcp['prcp'].plot()"
      ],
      "metadata": {
        "colab": {
          "base_uri": "https://localhost:8080/",
          "height": 471
        },
        "id": "e86TdYNvTIFB",
        "outputId": "11f3cf82-4591-4bc5-9fcb-eefe8d2dc535"
      },
      "execution_count": 93,
      "outputs": [
        {
          "output_type": "execute_result",
          "data": {
            "text/plain": [
              "<Axes: xlabel='date'>"
            ]
          },
          "metadata": {},
          "execution_count": 93
        },
        {
          "output_type": "display_data",
          "data": {
            "text/plain": [
              "<Figure size 640x480 with 1 Axes>"
            ],
            "image/png": "[encoded data removed]"
          },
          "metadata": {}
        }
      ]
    },
    {
      "cell_type": "code",
      "source": [
        "chicago_prcp['prcp'].max()"
      ],
      "metadata": {
        "colab": {
          "base_uri": "https://localhost:8080/"
        },
        "id": "Lwt2ZI9ATPva",
        "outputId": "0215ee30-f49e-4419-bd6f-2c9aa11bc2d0"
      },
      "execution_count": 94,
      "outputs": [
        {
          "output_type": "execute_result",
          "data": {
            "text/plain": [
              "3.3503937007874014"
            ]
          },
          "metadata": {},
          "execution_count": 94
        }
      ]
    },
    {
      "cell_type": "code",
      "source": [
        "chicago['prcp'] = chicago_prcp['prcp']"
      ],
      "metadata": {
        "colab": {
          "base_uri": "https://localhost:8080/"
        },
        "id": "jRjLv5p7CZBV",
        "outputId": "e5e29727-0aa1-439c-c2f8-276f2a22d520"
      },
      "execution_count": 95,
      "outputs": [
        {
          "output_type": "stream",
          "name": "stderr",
          "text": [
            "<ipython-input-95-c025707fe69a>:1: SettingWithCopyWarning:\n",
            "\n",
            "\n",
            "A value is trying to be set on a copy of a slice from a DataFrame.\n",
            "Try using .loc[row_indexer,col_indexer] = value instead\n",
            "\n",
            "See the caveats in the documentation: https://pandas.pydata.org/pandas-docs/stable/user_guide/indexing.html#returning-a-view-versus-a-copy\n",
            "\n"
          ]
        }
      ]
    },
    {
      "cell_type": "code",
      "source": [
        "chicago['prcp']"
      ],
      "metadata": {
        "colab": {
          "base_uri": "https://localhost:8080/"
        },
        "id": "XUeU7j18Tn7m",
        "outputId": "234b8db2-f32b-40cb-cd46-dc0255bc6a86"
      },
      "execution_count": 96,
      "outputs": [
        {
          "output_type": "execute_result",
          "data": {
            "text/plain": [
              "date\n",
              "2023-07-01T00:00:00    0.468504\n",
              "2023-07-02T00:00:00    3.350394\n",
              "2023-07-03T00:00:00    0.000000\n",
              "2023-07-04T00:00:00    0.000000\n",
              "2023-07-05T00:00:00    0.460630\n",
              "                         ...   \n",
              "2024-05-06T00:00:00    0.000000\n",
              "2024-05-07T00:00:00    0.779528\n",
              "2024-05-08T00:00:00    0.000000\n",
              "2024-05-09T00:00:00    0.511811\n",
              "2024-05-10T00:00:00    0.110236\n",
              "Name: prcp, Length: 315, dtype: float64"
            ]
          },
          "metadata": {},
          "execution_count": 96
        }
      ]
    },
    {
      "cell_type": "code",
      "source": [
        "chicago['prcp'].plot()"
      ],
      "metadata": {
        "colab": {
          "base_uri": "https://localhost:8080/",
          "height": 471
        },
        "id": "EFVXUEv0NbWK",
        "outputId": "91d6bafc-f961-4e02-9c9b-4f3184bd8300"
      },
      "execution_count": 97,
      "outputs": [
        {
          "output_type": "execute_result",
          "data": {
            "text/plain": [
              "<Axes: xlabel='date'>"
            ]
          },
          "metadata": {},
          "execution_count": 97
        },
        {
          "output_type": "display_data",
          "data": {
            "text/plain": [
              "<Figure size 640x480 with 1 Axes>"
            ],
            "image/png": "[encoded data removed]"
          },
          "metadata": {}
        }
      ]
    },
    {
      "cell_type": "markdown",
      "source": [
        "## Putting it all together"
      ],
      "metadata": {
        "id": "VJJGEUccOR_p"
      }
    },
    {
      "cell_type": "code",
      "source": [
        "import plotly.graph_objects as go\n",
        "\n",
        "# Assuming 'chicago' DataFrame contains both 'temp' (temperature) and 'prcp' (precipitation) columns\n",
        "# Create figure with secondary y-axis\n",
        "fig = go.Figure()\n",
        "\n",
        "# Add temperature trace\n",
        "fig.add_trace(\n",
        "    go.Scatter(x=chicago.index, y=chicago['temp'], name='Temperature', mode='lines'),\n",
        ")\n",
        "\n",
        "# Add precipitation trace with a secondary y-axis\n",
        "fig.add_trace(\n",
        "    go.Scatter(x=chicago.index, y=chicago['prcp'], name='Precipitation', mode='lines', yaxis='y2'),\n",
        ")\n",
        "\n",
        "# Update layout with title, width, height, and x-axis title\n",
        "fig.update_layout(\n",
        "    title='Chicago Temperatures and Precipitation from NCDC',\n",
        "    xaxis_title='Datetime',\n",
        "    yaxis_title='Temperature (Deg. F)',\n",
        "    width=700,  # 6 inches in pixels\n",
        "    height=288,  # 3 inches in pixels\n",
        "    yaxis=dict(\n",
        "        title='Temperature (Deg. F)'\n",
        "    ),\n",
        "    yaxis2=dict(\n",
        "        title='Precipitation (inches)',\n",
        "        overlaying='y',\n",
        "        side='right'\n",
        "    )\n",
        ")\n",
        "\n",
        "# Add a vertical rectangle for the event\n",
        "fig.add_vrect(\n",
        "    x0=\"2024-04-28\", x1=\"2024-05-04\",\n",
        "    fillcolor=\"green\", opacity=0.3,\n",
        "    layer=\"below\", line_width=0,\n",
        "    annotation_text=\"WJE Conference!\",\n",
        "    annotation_position=\"top right\"\n",
        ")\n",
        "\n",
        "# Add a marker for the specific cold day\n",
        "coldest_day = chicago['temp'].idxmin()\n",
        "fig.add_scatter(\n",
        "    x=[coldest_day], y=[chicago.loc[coldest_day, 'temp']],\n",
        "    mode='markers', marker=dict(color='blue', size=10),\n",
        "    showlegend=False\n",
        ")\n",
        "\n",
        "# Add an annotation at the coldest day\n",
        "fig.add_annotation(\n",
        "    x=coldest_day, y=chicago.loc[coldest_day, 'temp'],\n",
        "    text=\"Coldest day at -6.88°F\",\n",
        "    showarrow=True,\n",
        "    arrowhead=1,\n",
        "    ax=-70,  # arrow x offset\n",
        "    ay=-20 # arrow y offset (negative to point down)\n",
        ")\n",
        "\n",
        "fig.show()\n"
      ],
      "metadata": {
        "colab": {
          "base_uri": "https://localhost:8080/",
          "height": 325
        },
        "id": "orUw0YEwM1vX",
        "outputId": "82cb2935-ef7a-46cb-fef0-4af77f921c59"
      },
      "execution_count": 108,
      "outputs": [
        {
          "output_type": "display_data",
          "data": {
            "text/html": [
              "<html>\n",
              "<head><meta charset=\"utf-8\" /></head>\n",
              "<body>\n",
              "    <div>            <script src=\"https://cdnjs.cloudflare.com/ajax/libs/mathjax/2.7.5/MathJax.js?config=TeX-AMS-MML_SVG\"></script><script type=\"text/javascript\">if (window.MathJax && window.MathJax.Hub && window.MathJax.Hub.Config) {window.MathJax.Hub.Config({SVG: {font: \"STIX-Web\"}});}</script>                <script type=\"text/javascript\">window.PlotlyConfig = {MathJaxConfig: 'local'};</script>\n",
              "        <script charset=\"utf-8\" src=\"https://cdn.plot.ly/plotly-2.24.1.min.js\"></script>                <div id=\"08224753-191d-4157-88e1-602d1fd86ecf\" class=\"plotly-graph-div\" style=\"height:288px; width:700px;\"></div>            <script type=\"text/javascript\">                                    window.PLOTLYENV=window.PLOTLYENV || {};                                    if (document.getElementById(\"08224753-191d-4157-88e1-602d1fd86ecf\")) {                    Plotly.newPlot(                        \"08224753-191d-4157-88e1-602d1fd86ecf\",                        [{\"mode\":\"lines\",\"name\":\"Temperature\",\"x\":[\"2023-07-01T00:00:00\",\"2023-07-02T00:00:00\",\"2023-07-03T00:00:00\",\"2023-07-04T00:00:00\",\"2023-07-05T00:00:00\",\"2023-07-06T00:00:00\",\"2023-07-07T00:00:00\",\"2023-07-08T00:00:00\",\"2023-07-09T00:00:00\",\"2023-07-10T00:00:00\",\"2023-07-11T00:00:00\",\"2023-07-12T00:00:00\",\"2023-07-13T00:00:00\",\"2023-07-14T00:00:00\",\"2023-07-15T00:00:00\",\"2023-07-16T00:00:00\",\"2023-07-17T00:00:00\",\"2023-07-18T00:00:00\",\"2023-07-19T00:00:00\",\"2023-07-20T00:00:00\",\"2023-07-21T00:00:00\",\"2023-07-22T00:00:00\",\"2023-07-23T00:00:00\",\"2023-07-24T00:00:00\",\"2023-07-25T00:00:00\",\"2023-07-26T00:00:00\",\"2023-07-27T00:00:00\",\"2023-07-28T00:00:00\",\"2023-07-29T00:00:00\",\"2023-07-30T00:00:00\",\"2023-07-31T00:00:00\",\"2023-08-01T00:00:00\",\"2023-08-02T00:00:00\",\"2023-08-03T00:00:00\",\"2023-08-04T00:00:00\",\"2023-08-05T00:00:00\",\"2023-08-06T00:00:00\",\"2023-08-07T00:00:00\",\"2023-08-08T00:00:00\",\"2023-08-09T00:00:00\",\"2023-08-10T00:00:00\",\"2023-08-11T00:00:00\",\"2023-08-12T00:00:00\",\"2023-08-13T00:00:00\",\"2023-08-14T00:00:00\",\"2023-08-15T00:00:00\",\"2023-08-16T00:00:00\",\"2023-08-17T00:00:00\",\"2023-08-18T00:00:00\",\"2023-08-19T00:00:00\",\"2023-08-20T00:00:00\",\"2023-08-21T00:00:00\",\"2023-08-22T00:00:00\",\"2023-08-23T00:00:00\",\"2023-08-24T00:00:00\",\"2023-08-25T00:00:00\",\"2023-08-26T00:00:00\",\"2023-08-27T00:00:00\",\"2023-08-28T00:00:00\",\"2023-08-29T00:00:00\",\"2023-08-30T00:00:00\",\"2023-08-31T00:00:00\",\"2023-09-01T00:00:00\",\"2023-09-02T00:00:00\",\"2023-09-03T00:00:00\",\"2023-09-04T00:00:00\",\"2023-09-05T00:00:00\",\"2023-09-06T00:00:00\",\"2023-09-07T00:00:00\",\"2023-09-08T00:00:00\",\"2023-09-09T00:00:00\",\"2023-09-10T00:00:00\",\"2023-09-11T00:00:00\",\"2023-09-12T00:00:00\",\"2023-09-13T00:00:00\",\"2023-09-14T00:00:00\",\"2023-09-15T00:00:00\",\"2023-09-16T00:00:00\",\"2023-09-17T00:00:00\",\"2023-09-18T00:00:00\",\"2023-09-19T00:00:00\",\"2023-09-20T00:00:00\",\"2023-09-21T00:00:00\",\"2023-09-22T00:00:00\",\"2023-09-23T00:00:00\",\"2023-09-24T00:00:00\",\"2023-09-25T00:00:00\",\"2023-09-26T00:00:00\",\"2023-09-27T00:00:00\",\"2023-09-28T00:00:00\",\"2023-09-29T00:00:00\",\"2023-09-30T00:00:00\",\"2023-10-01T00:00:00\",\"2023-10-02T00:00:00\",\"2023-10-03T00:00:00\",\"2023-10-04T00:00:00\",\"2023-10-05T00:00:00\",\"2023-10-06T00:00:00\",\"2023-10-07T00:00:00\",\"2023-10-08T00:00:00\",\"2023-10-09T00:00:00\",\"2023-10-10T00:00:00\",\"2023-10-11T00:00:00\",\"2023-10-12T00:00:00\",\"2023-10-13T00:00:00\",\"2023-10-14T00:00:00\",\"2023-10-15T00:00:00\",\"2023-10-16T00:00:00\",\"2023-10-17T00:00:00\",\"2023-10-18T00:00:00\",\"2023-10-19T00:00:00\",\"2023-10-20T00:00:00\",\"2023-10-21T00:00:00\",\"2023-10-22T00:00:00\",\"2023-10-23T00:00:00\",\"2023-10-24T00:00:00\",\"2023-10-25T00:00:00\",\"2023-10-26T00:00:00\",\"2023-10-27T00:00:00\",\"2023-10-28T00:00:00\",\"2023-10-29T00:00:00\",\"2023-10-30T00:00:00\",\"2023-10-31T00:00:00\",\"2023-11-01T00:00:00\",\"2023-11-02T00:00:00\",\"2023-11-03T00:00:00\",\"2023-11-04T00:00:00\",\"2023-11-05T00:00:00\",\"2023-11-06T00:00:00\",\"2023-11-07T00:00:00\",\"2023-11-08T00:00:00\",\"2023-11-09T00:00:00\",\"2023-11-10T00:00:00\",\"2023-11-11T00:00:00\",\"2023-11-12T00:00:00\",\"2023-11-13T00:00:00\",\"2023-11-14T00:00:00\",\"2023-11-15T00:00:00\",\"2023-11-16T00:00:00\",\"2023-11-17T00:00:00\",\"2023-11-18T00:00:00\",\"2023-11-19T00:00:00\",\"2023-11-20T00:00:00\",\"2023-11-21T00:00:00\",\"2023-11-22T00:00:00\",\"2023-11-23T00:00:00\",\"2023-11-24T00:00:00\",\"2023-11-25T00:00:00\",\"2023-11-26T00:00:00\",\"2023-11-27T00:00:00\",\"2023-11-28T00:00:00\",\"2023-11-29T00:00:00\",\"2023-11-30T00:00:00\",\"2023-12-01T00:00:00\",\"2023-12-02T00:00:00\",\"2023-12-03T00:00:00\",\"2023-12-04T00:00:00\",\"2023-12-05T00:00:00\",\"2023-12-06T00:00:00\",\"2023-12-07T00:00:00\",\"2023-12-08T00:00:00\",\"2023-12-09T00:00:00\",\"2023-12-10T00:00:00\",\"2023-12-11T00:00:00\",\"2023-12-12T00:00:00\",\"2023-12-13T00:00:00\",\"2023-12-14T00:00:00\",\"2023-12-15T00:00:00\",\"2023-12-16T00:00:00\",\"2023-12-17T00:00:00\",\"2023-12-18T00:00:00\",\"2023-12-19T00:00:00\",\"2023-12-20T00:00:00\",\"2023-12-21T00:00:00\",\"2023-12-22T00:00:00\",\"2023-12-23T00:00:00\",\"2023-12-24T00:00:00\",\"2023-12-25T00:00:00\",\"2023-12-26T00:00:00\",\"2023-12-27T00:00:00\",\"2023-12-28T00:00:00\",\"2023-12-29T00:00:00\",\"2023-12-30T00:00:00\",\"2023-12-31T00:00:00\",\"2024-01-01T00:00:00\",\"2024-01-02T00:00:00\",\"2024-01-03T00:00:00\",\"2024-01-04T00:00:00\",\"2024-01-05T00:00:00\",\"2024-01-06T00:00:00\",\"2024-01-07T00:00:00\",\"2024-01-08T00:00:00\",\"2024-01-09T00:00:00\",\"2024-01-10T00:00:00\",\"2024-01-11T00:00:00\",\"2024-01-12T00:00:00\",\"2024-01-13T00:00:00\",\"2024-01-14T00:00:00\",\"2024-01-15T00:00:00\",\"2024-01-16T00:00:00\",\"2024-01-17T00:00:00\",\"2024-01-18T00:00:00\",\"2024-01-19T00:00:00\",\"2024-01-20T00:00:00\",\"2024-01-21T00:00:00\",\"2024-01-22T00:00:00\",\"2024-01-23T00:00:00\",\"2024-01-24T00:00:00\",\"2024-01-25T00:00:00\",\"2024-01-26T00:00:00\",\"2024-01-27T00:00:00\",\"2024-01-28T00:00:00\",\"2024-01-29T00:00:00\",\"2024-01-30T00:00:00\",\"2024-01-31T00:00:00\",\"2024-02-01T00:00:00\",\"2024-02-02T00:00:00\",\"2024-02-03T00:00:00\",\"2024-02-04T00:00:00\",\"2024-02-05T00:00:00\",\"2024-02-06T00:00:00\",\"2024-02-07T00:00:00\",\"2024-02-08T00:00:00\",\"2024-02-09T00:00:00\",\"2024-02-10T00:00:00\",\"2024-02-11T00:00:00\",\"2024-02-12T00:00:00\",\"2024-02-13T00:00:00\",\"2024-02-14T00:00:00\",\"2024-02-15T00:00:00\",\"2024-02-16T00:00:00\",\"2024-02-17T00:00:00\",\"2024-02-18T00:00:00\",\"2024-02-19T00:00:00\",\"2024-02-20T00:00:00\",\"2024-02-21T00:00:00\",\"2024-02-22T00:00:00\",\"2024-02-23T00:00:00\",\"2024-02-24T00:00:00\",\"2024-02-25T00:00:00\",\"2024-02-26T00:00:00\",\"2024-02-27T00:00:00\",\"2024-02-28T00:00:00\",\"2024-02-29T00:00:00\",\"2024-03-01T00:00:00\",\"2024-03-02T00:00:00\",\"2024-03-03T00:00:00\",\"2024-03-04T00:00:00\",\"2024-03-05T00:00:00\",\"2024-03-06T00:00:00\",\"2024-03-07T00:00:00\",\"2024-03-08T00:00:00\",\"2024-03-09T00:00:00\",\"2024-03-10T00:00:00\",\"2024-03-11T00:00:00\",\"2024-03-12T00:00:00\",\"2024-03-13T00:00:00\",\"2024-03-14T00:00:00\",\"2024-03-15T00:00:00\",\"2024-03-16T00:00:00\",\"2024-03-17T00:00:00\",\"2024-03-18T00:00:00\",\"2024-03-19T00:00:00\",\"2024-03-20T00:00:00\",\"2024-03-21T00:00:00\",\"2024-03-22T00:00:00\",\"2024-03-23T00:00:00\",\"2024-03-24T00:00:00\",\"2024-03-25T00:00:00\",\"2024-03-26T00:00:00\",\"2024-03-27T00:00:00\",\"2024-03-28T00:00:00\",\"2024-03-29T00:00:00\",\"2024-03-30T00:00:00\",\"2024-03-31T00:00:00\",\"2024-04-01T00:00:00\",\"2024-04-02T00:00:00\",\"2024-04-03T00:00:00\",\"2024-04-04T00:00:00\",\"2024-04-05T00:00:00\",\"2024-04-06T00:00:00\",\"2024-04-07T00:00:00\",\"2024-04-08T00:00:00\",\"2024-04-09T00:00:00\",\"2024-04-10T00:00:00\",\"2024-04-11T00:00:00\",\"2024-04-12T00:00:00\",\"2024-04-13T00:00:00\",\"2024-04-14T00:00:00\",\"2024-04-15T00:00:00\",\"2024-04-16T00:00:00\",\"2024-04-17T00:00:00\",\"2024-04-18T00:00:00\",\"2024-04-19T00:00:00\",\"2024-04-20T00:00:00\",\"2024-04-21T00:00:00\",\"2024-04-22T00:00:00\",\"2024-04-23T00:00:00\",\"2024-04-24T00:00:00\",\"2024-04-25T00:00:00\",\"2024-04-26T00:00:00\",\"2024-04-27T00:00:00\",\"2024-04-28T00:00:00\",\"2024-04-29T00:00:00\",\"2024-04-30T00:00:00\",\"2024-05-01T00:00:00\",\"2024-05-02T00:00:00\",\"2024-05-03T00:00:00\",\"2024-05-04T00:00:00\",\"2024-05-05T00:00:00\",\"2024-05-06T00:00:00\",\"2024-05-07T00:00:00\",\"2024-05-08T00:00:00\",\"2024-05-09T00:00:00\",\"2024-05-10T00:00:00\"],\"y\":[78.08,71.06,73.75999999999999,80.06,82.04,73.94,72.32,69.25999999999999,72.68,76.64,75.92,68.54,68.72,77.36,77.54,74.84,73.75999999999999,72.14,73.94,78.8,73.4,74.48,72.14,78.08,79.34,81.14,82.75999999999999,83.66,76.28,73.94,73.04,76.1,77.54,77.72,79.16,73.75999999999999,69.8,71.96,73.58,73.04,73.94,76.82,78.62,75.02,71.78,68.18,70.16,73.22,68.72,71.78,80.24000000000001,75.74000000000001,76.82,85.82,90.14,78.44,73.75999999999999,69.08,70.16,73.22,66.38,65.48,70.52,75.74000000000001,81.32,82.75999999999999,83.84,77.18,68.72,64.94,64.94,66.74000000000001,66.92,63.14,62.24,62.959999999999994,65.48,66.02,61.519999999999996,61.34,60.62,69.98,70.88,71.06,72.86,68.54,69.44,67.1,66.92,67.1,66.74000000000001,70.52,74.12,73.94,75.38,78.08,71.06,57.74,51.620000000000005,51.26,51.26,51.620000000000005,54.68,57.56,58.64,55.58,52.16,52.52,51.26,55.58,59.0,55.94,54.14,50.9,52.879999999999995,68.72,66.02,67.46,67.46,46.76,46.22,39.38,33.62,35.42,43.7,51.44,51.44,48.379999999999995,60.08,51.98,49.82,48.92,43.7,39.56,47.66,51.08,46.58,51.8,53.42,54.32,40.46,44.6,46.04,42.620000000000005,39.38,39.2,31.28,30.02,31.64,26.060000000000002,18.5,26.96,39.56,43.879999999999995,40.64,39.38,37.04,36.86,35.24,41.0,49.46,50.0,35.06,30.74,34.16,30.92,38.12,42.980000000000004,44.42,43.16,33.08,23.36,34.88,40.1,43.879999999999995,45.32,49.64,53.06,44.239999999999995,36.32,37.58,39.02,31.46,33.98,31.46,30.38,32.9,32.18,31.46,32.54,32.36,33.08,34.52,32.72,31.46,32.18,26.6,-2.559999999999995,-6.880000000000003,-1.480000000000004,7.16,20.3,12.379999999999999,10.220000000000002,8.96,25.34,34.16,35.42,36.5,38.12,37.58,37.22,33.62,38.12,37.4,40.28,37.94,34.16,35.78,34.34,37.04,37.58,49.82,50.54,37.94,33.08,33.62,35.6,34.34,41.0,30.56,21.74,30.56,35.24,41.72,52.16,51.98,45.5,28.04,40.28,52.7,62.78,39.02,28.4,39.38,45.68,54.68,61.88,47.84,41.72,41.9,44.239999999999995,40.82,37.22,45.32,58.28,59.18,51.8,43.16,46.4,38.839999999999996,30.02,38.12,40.82,32.72,34.88,33.98,37.4,50.9,50.72,34.34,38.48,42.260000000000005,48.2,42.620000000000005,43.519999999999996,43.16,36.14,38.12,41.72,42.44,44.06,55.04,59.72,56.120000000000005,55.58,54.14,55.4,69.44,62.78,62.78,65.48,53.6,49.28,42.620000000000005,43.7,53.42,59.18,45.14,43.7,49.28,65.66,67.28,66.38,60.440000000000005,69.44,65.66,64.58,63.14,58.82,58.1,65.3,66.74000000000001,58.82,55.04],\"type\":\"scatter\"},{\"mode\":\"lines\",\"name\":\"Precipitation\",\"x\":[\"2023-07-01T00:00:00\",\"2023-07-02T00:00:00\",\"2023-07-03T00:00:00\",\"2023-07-04T00:00:00\",\"2023-07-05T00:00:00\",\"2023-07-06T00:00:00\",\"2023-07-07T00:00:00\",\"2023-07-08T00:00:00\",\"2023-07-09T00:00:00\",\"2023-07-10T00:00:00\",\"2023-07-11T00:00:00\",\"2023-07-12T00:00:00\",\"2023-07-13T00:00:00\",\"2023-07-14T00:00:00\",\"2023-07-15T00:00:00\",\"2023-07-16T00:00:00\",\"2023-07-17T00:00:00\",\"2023-07-18T00:00:00\",\"2023-07-19T00:00:00\",\"2023-07-20T00:00:00\",\"2023-07-21T00:00:00\",\"2023-07-22T00:00:00\",\"2023-07-23T00:00:00\",\"2023-07-24T00:00:00\",\"2023-07-25T00:00:00\",\"2023-07-26T00:00:00\",\"2023-07-27T00:00:00\",\"2023-07-28T00:00:00\",\"2023-07-29T00:00:00\",\"2023-07-30T00:00:00\",\"2023-07-31T00:00:00\",\"2023-08-01T00:00:00\",\"2023-08-02T00:00:00\",\"2023-08-03T00:00:00\",\"2023-08-04T00:00:00\",\"2023-08-05T00:00:00\",\"2023-08-06T00:00:00\",\"2023-08-07T00:00:00\",\"2023-08-08T00:00:00\",\"2023-08-09T00:00:00\",\"2023-08-10T00:00:00\",\"2023-08-11T00:00:00\",\"2023-08-12T00:00:00\",\"2023-08-13T00:00:00\",\"2023-08-14T00:00:00\",\"2023-08-15T00:00:00\",\"2023-08-16T00:00:00\",\"2023-08-17T00:00:00\",\"2023-08-18T00:00:00\",\"2023-08-19T00:00:00\",\"2023-08-20T00:00:00\",\"2023-08-21T00:00:00\",\"2023-08-22T00:00:00\",\"2023-08-23T00:00:00\",\"2023-08-24T00:00:00\",\"2023-08-25T00:00:00\",\"2023-08-26T00:00:00\",\"2023-08-27T00:00:00\",\"2023-08-28T00:00:00\",\"2023-08-29T00:00:00\",\"2023-08-30T00:00:00\",\"2023-08-31T00:00:00\",\"2023-09-01T00:00:00\",\"2023-09-02T00:00:00\",\"2023-09-03T00:00:00\",\"2023-09-04T00:00:00\",\"2023-09-05T00:00:00\",\"2023-09-06T00:00:00\",\"2023-09-07T00:00:00\",\"2023-09-08T00:00:00\",\"2023-09-09T00:00:00\",\"2023-09-10T00:00:00\",\"2023-09-11T00:00:00\",\"2023-09-12T00:00:00\",\"2023-09-13T00:00:00\",\"2023-09-14T00:00:00\",\"2023-09-15T00:00:00\",\"2023-09-16T00:00:00\",\"2023-09-17T00:00:00\",\"2023-09-18T00:00:00\",\"2023-09-19T00:00:00\",\"2023-09-20T00:00:00\",\"2023-09-21T00:00:00\",\"2023-09-22T00:00:00\",\"2023-09-23T00:00:00\",\"2023-09-24T00:00:00\",\"2023-09-25T00:00:00\",\"2023-09-26T00:00:00\",\"2023-09-27T00:00:00\",\"2023-09-28T00:00:00\",\"2023-09-29T00:00:00\",\"2023-09-30T00:00:00\",\"2023-10-01T00:00:00\",\"2023-10-02T00:00:00\",\"2023-10-03T00:00:00\",\"2023-10-04T00:00:00\",\"2023-10-05T00:00:00\",\"2023-10-06T00:00:00\",\"2023-10-07T00:00:00\",\"2023-10-08T00:00:00\",\"2023-10-09T00:00:00\",\"2023-10-10T00:00:00\",\"2023-10-11T00:00:00\",\"2023-10-12T00:00:00\",\"2023-10-13T00:00:00\",\"2023-10-14T00:00:00\",\"2023-10-15T00:00:00\",\"2023-10-16T00:00:00\",\"2023-10-17T00:00:00\",\"2023-10-18T00:00:00\",\"2023-10-19T00:00:00\",\"2023-10-20T00:00:00\",\"2023-10-21T00:00:00\",\"2023-10-22T00:00:00\",\"2023-10-23T00:00:00\",\"2023-10-24T00:00:00\",\"2023-10-25T00:00:00\",\"2023-10-26T00:00:00\",\"2023-10-27T00:00:00\",\"2023-10-28T00:00:00\",\"2023-10-29T00:00:00\",\"2023-10-30T00:00:00\",\"2023-10-31T00:00:00\",\"2023-11-01T00:00:00\",\"2023-11-02T00:00:00\",\"2023-11-03T00:00:00\",\"2023-11-04T00:00:00\",\"2023-11-05T00:00:00\",\"2023-11-06T00:00:00\",\"2023-11-07T00:00:00\",\"2023-11-08T00:00:00\",\"2023-11-09T00:00:00\",\"2023-11-10T00:00:00\",\"2023-11-11T00:00:00\",\"2023-11-12T00:00:00\",\"2023-11-13T00:00:00\",\"2023-11-14T00:00:00\",\"2023-11-15T00:00:00\",\"2023-11-16T00:00:00\",\"2023-11-17T00:00:00\",\"2023-11-18T00:00:00\",\"2023-11-19T00:00:00\",\"2023-11-20T00:00:00\",\"2023-11-21T00:00:00\",\"2023-11-22T00:00:00\",\"2023-11-23T00:00:00\",\"2023-11-24T00:00:00\",\"2023-11-25T00:00:00\",\"2023-11-26T00:00:00\",\"2023-11-27T00:00:00\",\"2023-11-28T00:00:00\",\"2023-11-29T00:00:00\",\"2023-11-30T00:00:00\",\"2023-12-01T00:00:00\",\"2023-12-02T00:00:00\",\"2023-12-03T00:00:00\",\"2023-12-04T00:00:00\",\"2023-12-05T00:00:00\",\"2023-12-06T00:00:00\",\"2023-12-07T00:00:00\",\"2023-12-08T00:00:00\",\"2023-12-09T00:00:00\",\"2023-12-10T00:00:00\",\"2023-12-11T00:00:00\",\"2023-12-12T00:00:00\",\"2023-12-13T00:00:00\",\"2023-12-14T00:00:00\",\"2023-12-15T00:00:00\",\"2023-12-16T00:00:00\",\"2023-12-17T00:00:00\",\"2023-12-18T00:00:00\",\"2023-12-19T00:00:00\",\"2023-12-20T00:00:00\",\"2023-12-21T00:00:00\",\"2023-12-22T00:00:00\",\"2023-12-23T00:00:00\",\"2023-12-24T00:00:00\",\"2023-12-25T00:00:00\",\"2023-12-26T00:00:00\",\"2023-12-27T00:00:00\",\"2023-12-28T00:00:00\",\"2023-12-29T00:00:00\",\"2023-12-30T00:00:00\",\"2023-12-31T00:00:00\",\"2024-01-01T00:00:00\",\"2024-01-02T00:00:00\",\"2024-01-03T00:00:00\",\"2024-01-04T00:00:00\",\"2024-01-05T00:00:00\",\"2024-01-06T00:00:00\",\"2024-01-07T00:00:00\",\"2024-01-08T00:00:00\",\"2024-01-09T00:00:00\",\"2024-01-10T00:00:00\",\"2024-01-11T00:00:00\",\"2024-01-12T00:00:00\",\"2024-01-13T00:00:00\",\"2024-01-14T00:00:00\",\"2024-01-15T00:00:00\",\"2024-01-16T00:00:00\",\"2024-01-17T00:00:00\",\"2024-01-18T00:00:00\",\"2024-01-19T00:00:00\",\"2024-01-20T00:00:00\",\"2024-01-21T00:00:00\",\"2024-01-22T00:00:00\",\"2024-01-23T00:00:00\",\"2024-01-24T00:00:00\",\"2024-01-25T00:00:00\",\"2024-01-26T00:00:00\",\"2024-01-27T00:00:00\",\"2024-01-28T00:00:00\",\"2024-01-29T00:00:00\",\"2024-01-30T00:00:00\",\"2024-01-31T00:00:00\",\"2024-02-01T00:00:00\",\"2024-02-02T00:00:00\",\"2024-02-03T00:00:00\",\"2024-02-04T00:00:00\",\"2024-02-05T00:00:00\",\"2024-02-06T00:00:00\",\"2024-02-07T00:00:00\",\"2024-02-08T00:00:00\",\"2024-02-09T00:00:00\",\"2024-02-10T00:00:00\",\"2024-02-11T00:00:00\",\"2024-02-12T00:00:00\",\"2024-02-13T00:00:00\",\"2024-02-14T00:00:00\",\"2024-02-15T00:00:00\",\"2024-02-16T00:00:00\",\"2024-02-17T00:00:00\",\"2024-02-18T00:00:00\",\"2024-02-19T00:00:00\",\"2024-02-20T00:00:00\",\"2024-02-21T00:00:00\",\"2024-02-22T00:00:00\",\"2024-02-23T00:00:00\",\"2024-02-24T00:00:00\",\"2024-02-25T00:00:00\",\"2024-02-26T00:00:00\",\"2024-02-27T00:00:00\",\"2024-02-28T00:00:00\",\"2024-02-29T00:00:00\",\"2024-03-01T00:00:00\",\"2024-03-02T00:00:00\",\"2024-03-03T00:00:00\",\"2024-03-04T00:00:00\",\"2024-03-05T00:00:00\",\"2024-03-06T00:00:00\",\"2024-03-07T00:00:00\",\"2024-03-08T00:00:00\",\"2024-03-09T00:00:00\",\"2024-03-10T00:00:00\",\"2024-03-11T00:00:00\",\"2024-03-12T00:00:00\",\"2024-03-13T00:00:00\",\"2024-03-14T00:00:00\",\"2024-03-15T00:00:00\",\"2024-03-16T00:00:00\",\"2024-03-17T00:00:00\",\"2024-03-18T00:00:00\",\"2024-03-19T00:00:00\",\"2024-03-20T00:00:00\",\"2024-03-21T00:00:00\",\"2024-03-22T00:00:00\",\"2024-03-23T00:00:00\",\"2024-03-24T00:00:00\",\"2024-03-25T00:00:00\",\"2024-03-26T00:00:00\",\"2024-03-27T00:00:00\",\"2024-03-28T00:00:00\",\"2024-03-29T00:00:00\",\"2024-03-30T00:00:00\",\"2024-03-31T00:00:00\",\"2024-04-01T00:00:00\",\"2024-04-02T00:00:00\",\"2024-04-03T00:00:00\",\"2024-04-04T00:00:00\",\"2024-04-05T00:00:00\",\"2024-04-06T00:00:00\",\"2024-04-07T00:00:00\",\"2024-04-08T00:00:00\",\"2024-04-09T00:00:00\",\"2024-04-10T00:00:00\",\"2024-04-11T00:00:00\",\"2024-04-12T00:00:00\",\"2024-04-13T00:00:00\",\"2024-04-14T00:00:00\",\"2024-04-15T00:00:00\",\"2024-04-16T00:00:00\",\"2024-04-17T00:00:00\",\"2024-04-18T00:00:00\",\"2024-04-19T00:00:00\",\"2024-04-20T00:00:00\",\"2024-04-21T00:00:00\",\"2024-04-22T00:00:00\",\"2024-04-23T00:00:00\",\"2024-04-24T00:00:00\",\"2024-04-25T00:00:00\",\"2024-04-26T00:00:00\",\"2024-04-27T00:00:00\",\"2024-04-28T00:00:00\",\"2024-04-29T00:00:00\",\"2024-04-30T00:00:00\",\"2024-05-01T00:00:00\",\"2024-05-02T00:00:00\",\"2024-05-03T00:00:00\",\"2024-05-04T00:00:00\",\"2024-05-05T00:00:00\",\"2024-05-06T00:00:00\",\"2024-05-07T00:00:00\",\"2024-05-08T00:00:00\",\"2024-05-09T00:00:00\",\"2024-05-10T00:00:00\"],\"y\":[0.468503937007874,3.3503937007874014,0.0,0.0,0.46062992125984253,0.0,0.011811023622047244,0.14173228346456693,0.0,0.0,0.18110236220472442,0.9094488188976378,0.031496062992125984,0.20866141732283464,0.011811023622047244,0.0,0.0,0.0,0.0,0.0,0.0,0.01968503937007874,0.0984251968503937,0.0,0.0,0.38188976377952755,0.0,1.3385826771653544,0.0,0.0,0.0,0.0,0.0,0.0,0.0,0.11811023622047244,0.011811023622047244,0.0,0.0,0.0,0.0,0.0,0.0,0.0,0.7992125984251969,0.20078740157480315,0.0,0.20078740157480315,0.0,0.0,0.0,0.0,0.0,0.0,0.0,0.0,0.0,0.0,0.0,0.0,0.0,0.0,0.0,0.0,0.0,0.0,0.01968503937007874,0.051181102362204724,0.031496062992125984,0.011811023622047244,0.0,0.011811023622047244,0.7716535433070866,0.0,0.0,0.0,0.0,0.031496062992125984,1.5984251968503937,0.0,0.27165354330708663,0.011811023622047244,0.051181102362204724,0.011811023622047244,0.0,0.0,0.11023622047244094,0.35826771653543305,0.01968503937007874,0.011811023622047244,0.0,0.0,0.0,0.0,0.0,0.09055118110236221,0.20866141732283464,0.01968503937007874,0.0,0.0,0.0,0.0,0.16929133858267717,0.18110236220472442,0.5511811023622047,0.5708661417322834,0.011811023622047244,0.0,0.0,0.03937007874015748,0.0984251968503937,0.0,0.01968503937007874,0.0,0.0,0.0,0.0984251968503937,0.11023622047244094,0.07086614173228346,0.0,0.011811023622047244,0.0,0.031496062992125984,0.0,0.0,0.011811023622047244,0.0,0.0,0.0,0.0,0.07874015748031496,0.0,0.0,0.0,0.0,0.0,0.0,0.0,0.0,0.011811023622047244,0.0,0.0,0.14960629921259844,0.4409448818897638,0.0,0.0,0.0,0.0,0.16929133858267717,0.0,0.0,0.0,0.0,0.6614173228346457,0.0,0.2795275590551181,0.0,0.11811023622047244,0.0,0.0,0.0,0.24015748031496062,0.0,0.0,0.0,0.0,0.0,0.0,0.4094488188976378,0.0,0.0,0.0,0.0,0.011811023622047244,0.5,0.0,0.0,0.38976377952755903,0.011811023622047244,0.0,0.12992125984251968,0.14173228346456693,0.0,0.07874015748031496,0.0,0.0,0.0,0.0,0.011811023622047244,0.20866141732283464,0.01968503937007874,0.07874015748031496,0.9291338582677166,0.0,0.011811023622047244,0.7716535433070866,0.09055118110236221,0.0,0.0,0.0,0.0,0.05905511811023622,0.03937007874015748,0.0,0.0,0.031496062992125984,0.35826771653543305,0.18110236220472442,0.2795275590551181,0.38188976377952755,0.011811023622047244,0.03937007874015748,0.0,0.0,0.0,0.0,0.0,0.0,0.0,0.0,0.0,0.0,0.01968503937007874,0.0,0.0,0.0,0.0,0.0,0.0,0.07874015748031496,0.0,0.0,0.0,0.0,0.0,0.0,0.0,0.07874015748031496,0.0,0.0,0.0,0.44881889763779526,0.01968503937007874,0.0,0.0,0.0,0.0,0.07086614173228346,0.7480314960629921,0.0,0.0,0.9094488188976378,0.0,0.0,0.0,0.0,0.0,0.42913385826771655,0.0,0.0,0.0,0.0,0.0,0.0,0.0,0.12992125984251968,0.0,0.0,0.468503937007874,0.14173228346456693,0.0,0.0,0.031496062992125984,0.4015748031496063,0.25984251968503935,0.4409448818897638,0.4015748031496063,0.2992125984251969,0.07086614173228346,0.0,0.0,0.3700787401574803,0.0,0.0,0.0,0.011811023622047244,0.05905511811023622,0.0,0.0,0.0,0.0984251968503937,0.1889763779527559,0.0984251968503937,0.0,0.0,0.0,0.0,0.0,0.0,0.0,0.38188976377952755,0.031496062992125984,0.35826771653543305,0.6614173228346457,0.0,0.011811023622047244,0.6299212598425197,0.16141732283464566,0.2204724409448819,0.0,0.0,0.7795275590551181,0.0,0.5118110236220472,0.11023622047244094],\"yaxis\":\"y2\",\"type\":\"scatter\"},{\"marker\":{\"color\":\"blue\",\"size\":10},\"mode\":\"markers\",\"showlegend\":false,\"x\":[\"2024-01-15T00:00:00\"],\"y\":[-6.880000000000003],\"type\":\"scatter\"}],                        {\"template\":{\"data\":{\"histogram2dcontour\":[{\"type\":\"histogram2dcontour\",\"colorbar\":{\"outlinewidth\":0,\"ticks\":\"\"},\"colorscale\":[[0.0,\"#0d0887\"],[0.1111111111111111,\"#46039f\"],[0.2222222222222222,\"#7201a8\"],[0.3333333333333333,\"#9c179e\"],[0.4444444444444444,\"#bd3786\"],[0.5555555555555556,\"#d8576b\"],[0.6666666666666666,\"#ed7953\"],[0.7777777777777778,\"#fb9f3a\"],[0.8888888888888888,\"#fdca26\"],[1.0,\"#f0f921\"]]}],\"choropleth\":[{\"type\":\"choropleth\",\"colorbar\":{\"outlinewidth\":0,\"ticks\":\"\"}}],\"histogram2d\":[{\"type\":\"histogram2d\",\"colorbar\":{\"outlinewidth\":0,\"ticks\":\"\"},\"colorscale\":[[0.0,\"#0d0887\"],[0.1111111111111111,\"#46039f\"],[0.2222222222222222,\"#7201a8\"],[0.3333333333333333,\"#9c179e\"],[0.4444444444444444,\"#bd3786\"],[0.5555555555555556,\"#d8576b\"],[0.6666666666666666,\"#ed7953\"],[0.7777777777777778,\"#fb9f3a\"],[0.8888888888888888,\"#fdca26\"],[1.0,\"#f0f921\"]]}],\"heatmap\":[{\"type\":\"heatmap\",\"colorbar\":{\"outlinewidth\":0,\"ticks\":\"\"},\"colorscale\":[[0.0,\"#0d0887\"],[0.1111111111111111,\"#46039f\"],[0.2222222222222222,\"#7201a8\"],[0.3333333333333333,\"#9c179e\"],[0.4444444444444444,\"#bd3786\"],[0.5555555555555556,\"#d8576b\"],[0.6666666666666666,\"#ed7953\"],[0.7777777777777778,\"#fb9f3a\"],[0.8888888888888888,\"#fdca26\"],[1.0,\"#f0f921\"]]}],\"heatmapgl\":[{\"type\":\"heatmapgl\",\"colorbar\":{\"outlinewidth\":0,\"ticks\":\"\"},\"colorscale\":[[0.0,\"#0d0887\"],[0.1111111111111111,\"#46039f\"],[0.2222222222222222,\"#7201a8\"],[0.3333333333333333,\"#9c179e\"],[0.4444444444444444,\"#bd3786\"],[0.5555555555555556,\"#d8576b\"],[0.6666666666666666,\"#ed7953\"],[0.7777777777777778,\"#fb9f3a\"],[0.8888888888888888,\"#fdca26\"],[1.0,\"#f0f921\"]]}],\"contourcarpet\":[{\"type\":\"contourcarpet\",\"colorbar\":{\"outlinewidth\":0,\"ticks\":\"\"}}],\"contour\":[{\"type\":\"contour\",\"colorbar\":{\"outlinewidth\":0,\"ticks\":\"\"},\"colorscale\":[[0.0,\"#0d0887\"],[0.1111111111111111,\"#46039f\"],[0.2222222222222222,\"#7201a8\"],[0.3333333333333333,\"#9c179e\"],[0.4444444444444444,\"#bd3786\"],[0.5555555555555556,\"#d8576b\"],[0.6666666666666666,\"#ed7953\"],[0.7777777777777778,\"#fb9f3a\"],[0.8888888888888888,\"#fdca26\"],[1.0,\"#f0f921\"]]}],\"surface\":[{\"type\":\"surface\",\"colorbar\":{\"outlinewidth\":0,\"ticks\":\"\"},\"colorscale\":[[0.0,\"#0d0887\"],[0.1111111111111111,\"#46039f\"],[0.2222222222222222,\"#7201a8\"],[0.3333333333333333,\"#9c179e\"],[0.4444444444444444,\"#bd3786\"],[0.5555555555555556,\"#d8576b\"],[0.6666666666666666,\"#ed7953\"],[0.7777777777777778,\"#fb9f3a\"],[0.8888888888888888,\"#fdca26\"],[1.0,\"#f0f921\"]]}],\"mesh3d\":[{\"type\":\"mesh3d\",\"colorbar\":{\"outlinewidth\":0,\"ticks\":\"\"}}],\"scatter\":[{\"fillpattern\":{\"fillmode\":\"overlay\",\"size\":10,\"solidity\":0.2},\"type\":\"scatter\"}],\"parcoords\":[{\"type\":\"parcoords\",\"line\":{\"colorbar\":{\"outlinewidth\":0,\"ticks\":\"\"}}}],\"scatterpolargl\":[{\"type\":\"scatterpolargl\",\"marker\":{\"colorbar\":{\"outlinewidth\":0,\"ticks\":\"\"}}}],\"bar\":[{\"error_x\":{\"color\":\"#2a3f5f\"},\"error_y\":{\"color\":\"#2a3f5f\"},\"marker\":{\"line\":{\"color\":\"#E5ECF6\",\"width\":0.5},\"pattern\":{\"fillmode\":\"overlay\",\"size\":10,\"solidity\":0.2}},\"type\":\"bar\"}],\"scattergeo\":[{\"type\":\"scattergeo\",\"marker\":{\"colorbar\":{\"outlinewidth\":0,\"ticks\":\"\"}}}],\"scatterpolar\":[{\"type\":\"scatterpolar\",\"marker\":{\"colorbar\":{\"outlinewidth\":0,\"ticks\":\"\"}}}],\"histogram\":[{\"marker\":{\"pattern\":{\"fillmode\":\"overlay\",\"size\":10,\"solidity\":0.2}},\"type\":\"histogram\"}],\"scattergl\":[{\"type\":\"scattergl\",\"marker\":{\"colorbar\":{\"outlinewidth\":0,\"ticks\":\"\"}}}],\"scatter3d\":[{\"type\":\"scatter3d\",\"line\":{\"colorbar\":{\"outlinewidth\":0,\"ticks\":\"\"}},\"marker\":{\"colorbar\":{\"outlinewidth\":0,\"ticks\":\"\"}}}],\"scattermapbox\":[{\"type\":\"scattermapbox\",\"marker\":{\"colorbar\":{\"outlinewidth\":0,\"ticks\":\"\"}}}],\"scatterternary\":[{\"type\":\"scatterternary\",\"marker\":{\"colorbar\":{\"outlinewidth\":0,\"ticks\":\"\"}}}],\"scattercarpet\":[{\"type\":\"scattercarpet\",\"marker\":{\"colorbar\":{\"outlinewidth\":0,\"ticks\":\"\"}}}],\"carpet\":[{\"aaxis\":{\"endlinecolor\":\"#2a3f5f\",\"gridcolor\":\"white\",\"linecolor\":\"white\",\"minorgridcolor\":\"white\",\"startlinecolor\":\"#2a3f5f\"},\"baxis\":{\"endlinecolor\":\"#2a3f5f\",\"gridcolor\":\"white\",\"linecolor\":\"white\",\"minorgridcolor\":\"white\",\"startlinecolor\":\"#2a3f5f\"},\"type\":\"carpet\"}],\"table\":[{\"cells\":{\"fill\":{\"color\":\"#EBF0F8\"},\"line\":{\"color\":\"white\"}},\"header\":{\"fill\":{\"color\":\"#C8D4E3\"},\"line\":{\"color\":\"white\"}},\"type\":\"table\"}],\"barpolar\":[{\"marker\":{\"line\":{\"color\":\"#E5ECF6\",\"width\":0.5},\"pattern\":{\"fillmode\":\"overlay\",\"size\":10,\"solidity\":0.2}},\"type\":\"barpolar\"}],\"pie\":[{\"automargin\":true,\"type\":\"pie\"}]},\"layout\":{\"autotypenumbers\":\"strict\",\"colorway\":[\"#636efa\",\"#EF553B\",\"#00cc96\",\"#ab63fa\",\"#FFA15A\",\"#19d3f3\",\"#FF6692\",\"#B6E880\",\"#FF97FF\",\"#FECB52\"],\"font\":{\"color\":\"#2a3f5f\"},\"hovermode\":\"closest\",\"hoverlabel\":{\"align\":\"left\"},\"paper_bgcolor\":\"white\",\"plot_bgcolor\":\"#E5ECF6\",\"polar\":{\"bgcolor\":\"#E5ECF6\",\"angularaxis\":{\"gridcolor\":\"white\",\"linecolor\":\"white\",\"ticks\":\"\"},\"radialaxis\":{\"gridcolor\":\"white\",\"linecolor\":\"white\",\"ticks\":\"\"}},\"ternary\":{\"bgcolor\":\"#E5ECF6\",\"aaxis\":{\"gridcolor\":\"white\",\"linecolor\":\"white\",\"ticks\":\"\"},\"baxis\":{\"gridcolor\":\"white\",\"linecolor\":\"white\",\"ticks\":\"\"},\"caxis\":{\"gridcolor\":\"white\",\"linecolor\":\"white\",\"ticks\":\"\"}},\"coloraxis\":{\"colorbar\":{\"outlinewidth\":0,\"ticks\":\"\"}},\"colorscale\":{\"sequential\":[[0.0,\"#0d0887\"],[0.1111111111111111,\"#46039f\"],[0.2222222222222222,\"#7201a8\"],[0.3333333333333333,\"#9c179e\"],[0.4444444444444444,\"#bd3786\"],[0.5555555555555556,\"#d8576b\"],[0.6666666666666666,\"#ed7953\"],[0.7777777777777778,\"#fb9f3a\"],[0.8888888888888888,\"#fdca26\"],[1.0,\"#f0f921\"]],\"sequentialminus\":[[0.0,\"#0d0887\"],[0.1111111111111111,\"#46039f\"],[0.2222222222222222,\"#7201a8\"],[0.3333333333333333,\"#9c179e\"],[0.4444444444444444,\"#bd3786\"],[0.5555555555555556,\"#d8576b\"],[0.6666666666666666,\"#ed7953\"],[0.7777777777777778,\"#fb9f3a\"],[0.8888888888888888,\"#fdca26\"],[1.0,\"#f0f921\"]],\"diverging\":[[0,\"#8e0152\"],[0.1,\"#c51b7d\"],[0.2,\"#de77ae\"],[0.3,\"#f1b6da\"],[0.4,\"#fde0ef\"],[0.5,\"#f7f7f7\"],[0.6,\"#e6f5d0\"],[0.7,\"#b8e186\"],[0.8,\"#7fbc41\"],[0.9,\"#4d9221\"],[1,\"#276419\"]]},\"xaxis\":{\"gridcolor\":\"white\",\"linecolor\":\"white\",\"ticks\":\"\",\"title\":{\"standoff\":15},\"zerolinecolor\":\"white\",\"automargin\":true,\"zerolinewidth\":2},\"yaxis\":{\"gridcolor\":\"white\",\"linecolor\":\"white\",\"ticks\":\"\",\"title\":{\"standoff\":15},\"zerolinecolor\":\"white\",\"automargin\":true,\"zerolinewidth\":2},\"scene\":{\"xaxis\":{\"backgroundcolor\":\"#E5ECF6\",\"gridcolor\":\"white\",\"linecolor\":\"white\",\"showbackground\":true,\"ticks\":\"\",\"zerolinecolor\":\"white\",\"gridwidth\":2},\"yaxis\":{\"backgroundcolor\":\"#E5ECF6\",\"gridcolor\":\"white\",\"linecolor\":\"white\",\"showbackground\":true,\"ticks\":\"\",\"zerolinecolor\":\"white\",\"gridwidth\":2},\"zaxis\":{\"backgroundcolor\":\"#E5ECF6\",\"gridcolor\":\"white\",\"linecolor\":\"white\",\"showbackground\":true,\"ticks\":\"\",\"zerolinecolor\":\"white\",\"gridwidth\":2}},\"shapedefaults\":{\"line\":{\"color\":\"#2a3f5f\"}},\"annotationdefaults\":{\"arrowcolor\":\"#2a3f5f\",\"arrowhead\":0,\"arrowwidth\":1},\"geo\":{\"bgcolor\":\"white\",\"landcolor\":\"#E5ECF6\",\"subunitcolor\":\"white\",\"showland\":true,\"showlakes\":true,\"lakecolor\":\"white\"},\"title\":{\"x\":0.05},\"mapbox\":{\"style\":\"light\"}}},\"yaxis2\":{\"title\":{\"text\":\"Precipitation (inches)\"},\"overlaying\":\"y\",\"side\":\"right\"},\"title\":{\"text\":\"Chicago Temperatures and Precipitation from NCDC\"},\"xaxis\":{\"title\":{\"text\":\"Datetime\"}},\"yaxis\":{\"title\":{\"text\":\"Temperature (Deg. F)\"}},\"width\":700,\"height\":288,\"shapes\":[{\"fillcolor\":\"green\",\"layer\":\"below\",\"line\":{\"width\":0},\"opacity\":0.3,\"type\":\"rect\",\"x0\":\"2024-04-28\",\"x1\":\"2024-05-04\",\"xref\":\"x\",\"y0\":0,\"y1\":1,\"yref\":\"y domain\"}],\"annotations\":[{\"showarrow\":false,\"text\":\"WJE Conference!\",\"x\":\"2024-05-04\",\"xanchor\":\"right\",\"xref\":\"x\",\"y\":1,\"yanchor\":\"top\",\"yref\":\"y domain\"},{\"arrowhead\":1,\"ax\":-70,\"ay\":-20,\"showarrow\":true,\"text\":\"Coldest day at -6.88\\u00b0F\",\"x\":\"2024-01-15T00:00:00\",\"y\":-6.880000000000003}]},                        {\"responsive\": true}                    ).then(function(){\n",
              "                            \n",
              "var gd = document.getElementById('08224753-191d-4157-88e1-602d1fd86ecf');\n",
              "var x = new MutationObserver(function (mutations, observer) {{\n",
              "        var display = window.getComputedStyle(gd).display;\n",
              "        if (!display || display === 'none') {{\n",
              "            console.log([gd, 'removed!']);\n",
              "            Plotly.purge(gd);\n",
              "            observer.disconnect();\n",
              "        }}\n",
              "}});\n",
              "\n",
              "// Listen for the removal of the full notebook cells\n",
              "var notebookContainer = gd.closest('#notebook-container');\n",
              "if (notebookContainer) {{\n",
              "    x.observe(notebookContainer, {childList: true});\n",
              "}}\n",
              "\n",
              "// Listen for the clearing of the current output cell\n",
              "var outputEl = gd.closest('.output');\n",
              "if (outputEl) {{\n",
              "    x.observe(outputEl, {childList: true});\n",
              "}}\n",
              "\n",
              "                        })                };                            </script>        </div>\n",
              "</body>\n",
              "</html>"
            ]
          },
          "metadata": {}
        }
      ]
    },
    {
      "cell_type": "code",
      "source": [
        "import requests\n",
        "\n",
        "api_key = 'YOUR_API_KEY'\n",
        "base_url = \"https://www.ncdc.noaa.gov/cdo-web/api/v2/data\"\n",
        "params = {\n",
        "    'datasetid': 'GHCND',\n",
        "    'stationid': 'GHCND:USW00094846',  # Station ID for Chicago O'Hare\n",
        "    'datatypeid': 'PRCP',  # Precipitation\n",
        "    'startdate': '2023-07-01',\n",
        "    'enddate': '2023-07-01',\n",
        "    'limit': 1000\n",
        "}\n",
        "\n",
        "headers = {\n",
        "    'token': api_key\n",
        "}\n",
        "\n",
        "response = requests.get(base_url, headers=headers, params=params)\n",
        "\n",
        "if response.status_code == 200:\n",
        "    data = response.json()\n",
        "    print(data)\n",
        "else:\n",
        "    print(\"Failed to retrieve data:\", response.status_code, response.text)\n"
      ],
      "metadata": {
        "colab": {
          "base_uri": "https://localhost:8080/"
        },
        "id": "uUZ6HZLoTsCr",
        "outputId": "d4cbcddd-bb6f-4f0e-cf10-4f1838e7873e"
      },
      "execution_count": 33,
      "outputs": [
        {
          "output_type": "stream",
          "name": "stdout",
          "text": [
            "Failed to retrieve data: 400 {\"status\" : \"400\", \"message\" : \"The token parameter provided is not valid.\"}\n"
          ]
        }
      ]
    }
  ]
}