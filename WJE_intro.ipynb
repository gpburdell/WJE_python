{
  "nbformat": 4,
  "nbformat_minor": 0,
  "metadata": {
    "colab": {
      "provenance": [],
      "authorship_tag": "ABX9TyNKFsMjOPpK9Jb2Nvl3sCnJ",
      "include_colab_link": true
    },
    "kernelspec": {
      "name": "python3",
      "display_name": "Python 3"
    },
    "language_info": {
      "name": "python"
    }
  },
  "cells": [
    {
      "cell_type": "markdown",
      "metadata": {
        "id": "view-in-github",
        "colab_type": "text"
      },
      "source": [
        "<a href=\"https://colab.research.google.com/github/gpburdell/WJE_python/blob/main/WJE_intro.ipynb\" target=\"_parent\"><img src=\"https://colab.research.google.com/assets/colab-badge.svg\" alt=\"Open In Colab\"/></a>"
      ]
    },
    {
      "cell_type": "markdown",
      "source": [
        "# Text cell\n",
        "\n",
        "## Heading level 2\n",
        "\n",
        "### Heading level 3\n",
        "\n",
        "Just some text\n",
        "\n",
        "* bullet 1\n",
        "* bullet 2"
      ],
      "metadata": {
        "id": "3oirWdYiNtyc"
      }
    },
    {
      "cell_type": "code",
      "source": [
        "# colab is native python\n",
        "print(\"hello world\")"
      ],
      "metadata": {
        "colab": {
          "base_uri": "https://localhost:8080/"
        },
        "id": "a16LLFDLOEL7",
        "outputId": "d7c92a39-6714-4444-b7d7-1491fbf236ae"
      },
      "execution_count": 1,
      "outputs": [
        {
          "output_type": "stream",
          "name": "stdout",
          "text": [
            "hello world\n"
          ]
        }
      ]
    },
    {
      "cell_type": "code",
      "source": [],
      "metadata": {
        "id": "a0Me3lRYOJ02"
      },
      "execution_count": null,
      "outputs": []
    }
  ]
}