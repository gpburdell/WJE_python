{
  "nbformat": 4,
  "nbformat_minor": 0,
  "metadata": {
    "colab": {
      "provenance": [],
      "authorship_tag": "ABX9TyOf+Z/2MHwaQL1Z0iu0o9bV",
      "include_colab_link": true
    },
    "kernelspec": {
      "name": "python3",
      "display_name": "Python 3"
    },
    "language_info": {
      "name": "python"
    }
  },
  "cells": [
    {
      "cell_type": "markdown",
      "metadata": {
        "id": "view-in-github",
        "colab_type": "text"
      },
      "source": [
        "<a href=\"https://colab.research.google.com/github/gpburdell/WJE_python/blob/main/WJE_pandas.ipynb\" target=\"_parent\"><img src=\"https://colab.research.google.com/assets/colab-badge.svg\" alt=\"Open In Colab\"/></a>"
      ]
    },
    {
      "cell_type": "markdown",
      "source": [
        "# Intro to pandas"
      ],
      "metadata": {
        "id": "kQmq4B_5PJPe"
      }
    },
    {
      "cell_type": "markdown",
      "source": [
        "For jupyter notebooks common practice is to import the necessary libraries at the top of the notebook. Libraries provide pre-programmed functionality."
      ],
      "metadata": {
        "id": "nfL2i2_oPT7h"
      }
    },
    {
      "cell_type": "code",
      "source": [
        "# imports\n",
        "import pandas as pd\n",
        "import numpy as np\n",
        "\n",
        "import openpyxl # Read/write Excel https://realpython.com/openpyxl-excel-spreadsheets-python/\n",
        "\n",
        "# plotting libraries\n",
        "import matplotlib.pyplot as plt # foundational plotting library superb static plotting\n",
        "import plotly as py # great interactive plotting library\n",
        "import plotly.graph_objs as go # even easier to make plots\n",
        "\n"
      ],
      "metadata": {
        "id": "VqRS8viePciN"
      },
      "execution_count": 2,
      "outputs": []
    },
    {
      "cell_type": "code",
      "source": [],
      "metadata": {
        "id": "NTxl6E3MPfK8"
      },
      "execution_count": null,
      "outputs": []
    }
  ]
}